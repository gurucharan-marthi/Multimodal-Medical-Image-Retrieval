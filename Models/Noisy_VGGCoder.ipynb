{
 "cells": [
  {
   "cell_type": "code",
   "execution_count": null,
   "metadata": {
    "colab": {
     "base_uri": "https://localhost:8080/"
    },
    "id": "IIWg57u4qyHH",
    "outputId": "a3074775-fab3-4a3c-eed0-428c790702cb"
   },
   "outputs": [
    {
     "name": "stdout",
     "output_type": "stream",
     "text": [
      "Mounted at /content/drive\n"
     ]
    }
   ],
   "source": [
    "import os\n",
    "import numpy as np\n",
    "import matplotlib.pyplot as plt\n",
    "from sklearn.model_selection import train_test_split\n",
    "from sklearn.neighbors import NearestNeighbors\n",
    "from tensorflow.keras.models import Sequential, load_model, Model\n",
    "from tensorflow.keras.layers import Dense, Flatten, Conv3D, MaxPooling3D, Dropout, BatchNormalization, Input, Reshape, Conv3DTranspose, UpSampling3D, LSTM\n",
    "from tensorflow.keras.optimizers import Adamax\n",
    "from skimage.util import random_noise\n",
    "from skimage.metrics import structural_similarity, mean_squared_error\n",
    "from scipy.ndimage import rotate\n",
    "from skimage.transform import resize\n",
    "import nibabel as nib\n",
    "from ipywidgets import interact, IntSlider, RadioButtons\n",
    "import time\n",
    "import warnings\n",
    "warnings.filterwarnings(\"ignore\")\n",
    "from google.colab import drive\n",
    "drive.mount('/content/drive')"
   ]
  },
  {
   "cell_type": "code",
   "execution_count": null,
   "metadata": {
    "id": "LA-Bo-qiA50x"
   },
   "outputs": [],
   "source": [
    "def label_img(img):\n",
    "  return [0]\n",
    "\n",
    "def rotateit(image, theta, isseg=False):\n",
    "  order = 0 if isseg == True else 5\n",
    "  return ndimage.rotate(image, float(theta), reshape=False, order=order, mode='nearest')\n",
    "\n",
    "def data_nii_to_npy_2():\n",
    "  dataset_array = []\n",
    "  dataset_labels = []\n",
    "  img_name_array = []\n",
    "  count = 0\n",
    "\n",
    "  img_path = \"/content/drive/My Drive/FYP_1/\"\n",
    "\n",
    "  img_names = os.listdir(img_path)\n",
    "  shuffle(img_names)\n",
    "  for img_name in img_names:\n",
    "      #print(img_name)\n",
    "      img_name_array.append(img_name)\n",
    "      img_new = nib.load(img_path + img_name)#load\n",
    "      imag_data_nparray = img_new.get_fdata()\n",
    "      label_current_image=label_img(img_name)\n",
    "      imag_data_nparray=resize(imag_data_nparray,(32,32,32,1))\n",
    "      imag_data_nparray = imag_data_nparray.astype('float32') / 255.0\n",
    "      count +=1\n",
    "      print(count)\n",
    "      dataset_array.append(imag_data_nparray)\n",
    "      dataset_labels.append(label_current_image)\n",
    "\n",
    "  dataset_array = np.array(dataset_array)\n",
    "  dataset_labels = np.array(dataset_labels)\n",
    "  img_name_array = np.array(img_name_array)\n",
    "  return dataset_array, dataset_labels, img_name_array"
   ]
  },
  {
   "cell_type": "code",
   "execution_count": null,
   "metadata": {
    "colab": {
     "base_uri": "https://localhost:8080/"
    },
    "id": "YLgmbt1fNOxy",
    "outputId": "8cad8c51-1c02-4e93-9f8d-8d5eb90be53e"
   },
   "outputs": [],
   "source": [
    "data , labels, names = data_nii_to_npy_2()"
   ]
  },
  {
   "cell_type": "code",
   "execution_count": null,
   "metadata": {
    "id": "yiJ69etcrB7m"
   },
   "outputs": [],
   "source": [
    "np.save(\"data.npy\", data)\n",
    "np.save(\"labels.npy\", labels)\n",
    "np.save(\"names.npy\", names)"
   ]
  },
  {
   "cell_type": "code",
   "execution_count": null,
   "metadata": {
    "id": "clIuwPBQLoLt"
   },
   "outputs": [],
   "source": [
    "res = {names[i]: data[i] for i in range(len(names))}"
   ]
  },
  {
   "cell_type": "code",
   "execution_count": null,
   "metadata": {
    "colab": {
     "base_uri": "https://localhost:8080/"
    },
    "id": "Q-cCSIXcrCcu",
    "outputId": "9059819a-533e-4102-8abc-d3d267e482b1"
   },
   "outputs": [
    {
     "name": "stdout",
     "output_type": "stream",
     "text": [
      "(227, 32, 32, 32, 1)\n",
      "(227, 1)\n"
     ]
    }
   ],
   "source": [
    "train_dataset_array = np.load(\"data.npy\")\n",
    "train_dataset_array_labels = np.load(\"labels.npy\",allow_pickle=True)\n",
    "train_dataset_array = np.load(\"names.npy\")\n",
    "\n",
    "print(train_dataset_array.shape)\n",
    "print(train_dataset_array_labels.shape)"
   ]
  },
  {
   "cell_type": "code",
   "execution_count": null,
   "metadata": {
    "id": "6q5TZ_ptrDC4"
   },
   "outputs": [],
   "source": [
    "# partition the data into training and testing splits using 80% of\n",
    "# the data for training and the remaining 20% for testing\n",
    "(trainX, testX, trainY, testY) = train_test_split(train_dataset_array, train_dataset_array_labels, test_size=0.30, stratify=train_dataset_array_labels)"
   ]
  },
  {
   "cell_type": "code",
   "execution_count": null,
   "metadata": {
    "id": "81EYuYYInnku"
   },
   "outputs": [],
   "source": [
    "X_train_noisy = skimage.util.random_noise(trainX, mode='gaussian', seed=None, clip=True)\n",
    "X_test_noisy = skimage.util.random_noise(testX, mode='gaussian', seed=None, clip=True)"
   ]
  },
  {
   "cell_type": "code",
   "execution_count": null,
   "metadata": {
    "id": "m_ppsQuLtWwS"
   },
   "outputs": [],
   "source": [
    "#noise_factor = 0.5\n",
    "#X_train_noisy = X_train + noise_factor * np.random.normal(loc=0.0, scale=1.0, size=X_train.shape)\n",
    "#X_test_noisy = X_test + noise_factor * np.random.normal(loc=0.0, scale=1.0, size=X_test.shape)\n",
    "\n",
    "#X_train_noisy = np.clip(X_train_noisy, 0., 1.)\n",
    "#X_test_noisy = np.clip(X_test_noisy, 0., 1.)"
   ]
  },
  {
   "cell_type": "code",
   "execution_count": null,
   "metadata": {
    "id": "M_9vea9gtlr3"
   },
   "outputs": [],
   "source": [
    "#VGG\n",
    "\n",
    "#Image Dimension\n",
    "IMAGE_DIM=(32,32,32,1)\n",
    "\n",
    "#Required Feature vector size after encoding\n",
    "ENCODED_SIZE=512\n",
    "\n",
    "def DeionizingAutoEncoder(img_dim, encoded_size):\n",
    "    #Encoder Part\n",
    "    enc = keras.models.Sequential()\n",
    "    enc.add(InputLayer(img_dim))\n",
    "    enc.add(Conv3D(filters=64, kernel_size=(3, 3, 3), activation='relu', padding='same'))\n",
    "    enc.add(Conv3D(filters=64, kernel_size=(3, 3, 3), activation='relu', padding='same'))\n",
    "    enc.add(MaxPooling3D(pool_size=(2, 2, 2)))\n",
    "    enc.add(Conv3D(filters=128, kernel_size=(3, 3, 3), activation='relu', padding='same'))\n",
    "    enc.add(Conv3D(filters=128, kernel_size=(3, 3, 3), activation='relu', padding='same'))\n",
    "    enc.add(MaxPooling3D(pool_size=(2, 2, 2)))\n",
    "    enc.add(Conv3D(filters=256, kernel_size=(3, 3, 3), activation='relu', padding='same'))\n",
    "    enc.add(Conv3D(filters=256, kernel_size=(3, 3, 3), activation='relu', padding='same'))\n",
    "    enc.add(Conv3D(filters=256, kernel_size=(3, 3, 3), activation='relu', padding='same'))\n",
    "    enc.add(Conv3D(filters=256, kernel_size=(3, 3, 3), activation='relu', padding='same'))\n",
    "    enc.add(MaxPooling3D(pool_size=(2, 2, 2)))\n",
    "    enc.add(Flatten())\n",
    "    enc.add(Dense(encoded_size))\n",
    "\n",
    "    #Decoder Part\n",
    "    dec = keras.models.Sequential()\n",
    "    dec.add(InputLayer((encoded_size,)))\n",
    "    dec.add(Dense(16384))\n",
    "    dec.add(Reshape((4, 4, 4, 256)))\n",
    "    dec.add(UpSampling3D(size=(2,2,2)))\n",
    "    dec.add(Conv3DTranspose(filters=256, kernel_size=(3, 3, 3), activation='relu', padding='same'))\n",
    "    dec.add(Conv3DTranspose(filters=256, kernel_size=(3, 3, 3), activation='relu', padding='same'))\n",
    "    dec.add(Conv3DTranspose(filters=256, kernel_size=(3, 3, 3), activation='relu', padding='same'))\n",
    "    dec.add(Conv3DTranspose(filters=256, kernel_size=(3, 3, 3), activation='relu', padding='same'))\n",
    "    dec.add(UpSampling3D(size=(2,2,2)))\n",
    "    dec.add(Conv3DTranspose(filters=128, kernel_size=(3, 3, 3), activation='relu', padding='same'))\n",
    "    dec.add(Conv3DTranspose(filters=128, kernel_size=(3, 3, 3), activation='relu', padding='same'))\n",
    "    dec.add(UpSampling3D(size=(2,2,2)))\n",
    "    dec.add(Conv3DTranspose(filters=64, kernel_size=(3, 3, 3), activation='relu', padding='same'))\n",
    "    dec.add(Conv3DTranspose(filters=64, kernel_size=(3, 3, 3), activation='relu', padding='same'))\n",
    "\n",
    "    return enc, dec\n",
    "\n",
    "vggencoder, vggdecoder = DeionizingAutoEncoder(img_dim=IMAGE_DIM, encoded_size=ENCODED_SIZE)"
   ]
  },
  {
   "cell_type": "code",
   "execution_count": null,
   "metadata": {
    "colab": {
     "base_uri": "https://localhost:8080/"
    },
    "id": "KQ4svjHQBI-G",
    "outputId": "2068544f-a96b-444f-c12b-b38e05610fb3"
   },
   "outputs": [
    {
     "name": "stdout",
     "output_type": "stream",
     "text": [
      "Model: \"sequential_10\"\n",
      "_________________________________________________________________\n",
      "Layer (type)                 Output Shape              Param #   \n",
      "=================================================================\n",
      "conv3d_40 (Conv3D)           (None, 32, 32, 32, 64)    1792      \n",
      "_________________________________________________________________\n",
      "conv3d_41 (Conv3D)           (None, 32, 32, 32, 64)    110656    \n",
      "_________________________________________________________________\n",
      "max_pooling3d_15 (MaxPooling (None, 16, 16, 16, 64)    0         \n",
      "_________________________________________________________________\n",
      "conv3d_42 (Conv3D)           (None, 16, 16, 16, 128)   221312    \n",
      "_________________________________________________________________\n",
      "conv3d_43 (Conv3D)           (None, 16, 16, 16, 128)   442496    \n",
      "_________________________________________________________________\n",
      "max_pooling3d_16 (MaxPooling (None, 8, 8, 8, 128)      0         \n",
      "_________________________________________________________________\n",
      "conv3d_44 (Conv3D)           (None, 8, 8, 8, 256)      884992    \n",
      "_________________________________________________________________\n",
      "conv3d_45 (Conv3D)           (None, 8, 8, 8, 256)      1769728   \n",
      "_________________________________________________________________\n",
      "conv3d_46 (Conv3D)           (None, 8, 8, 8, 256)      1769728   \n",
      "_________________________________________________________________\n",
      "conv3d_47 (Conv3D)           (None, 8, 8, 8, 256)      1769728   \n",
      "_________________________________________________________________\n",
      "max_pooling3d_17 (MaxPooling (None, 4, 4, 4, 256)      0         \n",
      "_________________________________________________________________\n",
      "flatten_5 (Flatten)          (None, 16384)             0         \n",
      "_________________________________________________________________\n",
      "dense_10 (Dense)             (None, 512)               8389120   \n",
      "=================================================================\n",
      "Total params: 15,359,552\n",
      "Trainable params: 15,359,552\n",
      "Non-trainable params: 0\n",
      "_________________________________________________________________\n"
     ]
    }
   ],
   "source": [
    "vggencoder.summary()\n",
    "#plot_model(encoder, show_shapes=True, show_layer_names=True)"
   ]
  },
  {
   "cell_type": "code",
   "execution_count": null,
   "metadata": {
    "colab": {
     "base_uri": "https://localhost:8080/"
    },
    "id": "Zan7TnrOBJC4",
    "outputId": "1c53e483-9f3a-464b-be53-9d4cae52d969"
   },
   "outputs": [
    {
     "name": "stdout",
     "output_type": "stream",
     "text": [
      "Model: \"sequential_11\"\n",
      "_________________________________________________________________\n",
      "Layer (type)                 Output Shape              Param #   \n",
      "=================================================================\n",
      "dense_11 (Dense)             (None, 16384)             8404992   \n",
      "_________________________________________________________________\n",
      "reshape_5 (Reshape)          (None, 4, 4, 4, 256)      0         \n",
      "_________________________________________________________________\n",
      "up_sampling3d_15 (UpSampling (None, 8, 8, 8, 256)      0         \n",
      "_________________________________________________________________\n",
      "conv3d_transpose_40 (Conv3DT (None, 8, 8, 8, 256)      1769728   \n",
      "_________________________________________________________________\n",
      "conv3d_transpose_41 (Conv3DT (None, 8, 8, 8, 256)      1769728   \n",
      "_________________________________________________________________\n",
      "conv3d_transpose_42 (Conv3DT (None, 8, 8, 8, 256)      1769728   \n",
      "_________________________________________________________________\n",
      "conv3d_transpose_43 (Conv3DT (None, 8, 8, 8, 256)      1769728   \n",
      "_________________________________________________________________\n",
      "up_sampling3d_16 (UpSampling (None, 16, 16, 16, 256)   0         \n",
      "_________________________________________________________________\n",
      "conv3d_transpose_44 (Conv3DT (None, 16, 16, 16, 128)   884864    \n",
      "_________________________________________________________________\n",
      "conv3d_transpose_45 (Conv3DT (None, 16, 16, 16, 128)   442496    \n",
      "_________________________________________________________________\n",
      "up_sampling3d_17 (UpSampling (None, 32, 32, 32, 128)   0         \n",
      "_________________________________________________________________\n",
      "conv3d_transpose_46 (Conv3DT (None, 32, 32, 32, 64)    221248    \n",
      "_________________________________________________________________\n",
      "conv3d_transpose_47 (Conv3DT (None, 32, 32, 32, 64)    110656    \n",
      "=================================================================\n",
      "Total params: 17,143,168\n",
      "Trainable params: 17,143,168\n",
      "Non-trainable params: 0\n",
      "_________________________________________________________________\n"
     ]
    }
   ],
   "source": [
    "vggdecoder.summary()\n",
    "#plot_model(decoder, show_shapes=True, show_layer_names=True)"
   ]
  },
  {
   "cell_type": "code",
   "execution_count": null,
   "metadata": {
    "id": "wN-0Rw6Pt7TN"
   },
   "outputs": [],
   "source": [
    "input = Input(IMAGE_DIM)\n",
    "encoded = vggencoder(input)\n",
    "decoded = vggdecoder(encoded)\n",
    "\n",
    "dae = keras.models.Model(inputs=input, outputs=decoded)\n",
    "dae.compile(optimizer='adamax', loss='mean_squared_error')"
   ]
  },
  {
   "cell_type": "code",
   "execution_count": null,
   "metadata": {
    "id": "AkSCPkEAt-WY"
   },
   "outputs": [],
   "source": [
    "#size is reduced to less due to GPU limit\n",
    "X_train = trainX.reshape(trainX.shape[0],32,32,32,1)\n",
    "X_test = testX.reshape(testX.shape[0],32,32,32,1)"
   ]
  },
  {
   "cell_type": "code",
   "execution_count": null,
   "metadata": {
    "id": "Cc-D-9vdogMR"
   },
   "outputs": [],
   "source": [
    "#model_checkpoint=tf.keras.callbacks.ModelCheckpoint('GaussianDAE{epoch:02d}.h5',period=1,save_weights_only=False)"
   ]
  },
  {
   "cell_type": "code",
   "execution_count": null,
   "metadata": {
    "colab": {
     "base_uri": "https://localhost:8080/"
    },
    "id": "kXjVMEWjAjsF",
    "outputId": "534db319-2ef2-4d1b-e524-21e07a605d67"
   },
   "outputs": [
    {
     "name": "stdout",
     "output_type": "stream",
     "text": [
      "Epoch 1/2\n",
      "3/3 [==============================] - 10s 3s/step - loss: 9.3059 - val_loss: 7.9564\n",
      "Epoch 2/2\n",
      "3/3 [==============================] - 8s 3s/step - loss: 9.7734 - val_loss: 7.8189\n"
     ]
    }
   ],
   "source": [
    "history = dae.fit(X_train_noisy, X_train, batch_size=64, epochs=2, verbose=1, validation_data=(X_test_noisy, X_test)) #, callbacks=[model_checkpoint])"
   ]
  },
  {
   "cell_type": "code",
   "execution_count": null,
   "metadata": {
    "colab": {
     "base_uri": "https://localhost:8080/",
     "height": 332
    },
    "id": "XAKSajV0uG52",
    "outputId": "319d54ee-9d62-45d6-acda-3553acf3c941"
   },
   "outputs": [
    {
     "name": "stdout",
     "output_type": "stream",
     "text": [
      "Training Loss:  9.223963737487793\n",
      "Validation Loss:  7.8188796043396\n"
     ]
    },
    {
     "data": {
      "text/plain": [
       "Text(0.5, 1.0, 'Training and validation loss')"
      ]
     },
     "execution_count": 157,
     "metadata": {
      "tags": []
     },
     "output_type": "execute_result"
    },
    {
     "data": {
      "image/png": "[encoded data removed]",
      "text/plain": [
       "<Figure size 432x288 with 1 Axes>"
      ]
     },
     "metadata": {
      "needs_background": "light",
      "tags": []
     },
     "output_type": "display_data"
    }
   ],
   "source": [
    "loss=history.history['loss']\n",
    "val_loss=history.history['val_loss']\n",
    "print(\"Training Loss: \",loss[-1])\n",
    "print(\"Validation Loss: \",val_loss[-1])\n",
    "epochs=range(len(loss)) # Get number of epochs\n",
    "plt.figure()\n",
    "\n",
    "\n",
    "plt.plot(epochs, loss, 'r', \"Training Loss(Red)\")\n",
    "plt.plot(epochs, val_loss, 'b', \"Validation Loss(Blue)\")\n",
    "\n",
    "\n",
    "plt.title('Training and validation loss')"
   ]
  },
  {
   "cell_type": "code",
   "execution_count": null,
   "metadata": {
    "id": "MHgwgfnBuYgP"
   },
   "outputs": [],
   "source": [
    "#Save model for later use\n",
    "dae.save('deionizingAutoEncoder.h5')\n",
    "\n",
    "# Load the trained Model\n",
    "from keras.models import load_model\n",
    "dae = load_model('deionizingAutoEncoder.h5')"
   ]
  },
  {
   "cell_type": "code",
   "execution_count": null,
   "metadata": {
    "id": "3-HSx_lTu3M2"
   },
   "outputs": [],
   "source": [
    "# Extract 'Encoder' Part from it\n",
    "encoder = dae.layers[1]\n",
    "\n",
    "images = X_train\n",
    "codes = encoder.predict(images)"
   ]
  },
  {
   "cell_type": "code",
   "execution_count": null,
   "metadata": {
    "colab": {
     "base_uri": "https://localhost:8080/"
    },
    "id": "BpkhQSPyvlZa",
    "outputId": "b32f5b21-665e-4329-cd78-88f8e78ab539"
   },
   "outputs": [
    {
     "data": {
      "text/plain": [
       "NearestNeighbors(algorithm='auto', leaf_size=30, metric='euclidean',\n",
       "                 metric_params=None, n_jobs=None, n_neighbors=5, p=2,\n",
       "                 radius=1.0)"
      ]
     },
     "execution_count": 160,
     "metadata": {
      "tags": []
     },
     "output_type": "execute_result"
    }
   ],
   "source": [
    "from sklearn.neighbors import NearestNeighbors\n",
    "nei_clf = NearestNeighbors(metric=\"euclidean\")\n",
    "nei_clf.fit(codes)"
   ]
  },
  {
   "cell_type": "code",
   "execution_count": null,
   "metadata": {
    "id": "5_76hYkQvmRn"
   },
   "outputs": [],
   "source": [
    "def get_similar(image, n_neighbors=5):\n",
    "\n",
    "    code = encoder.predict(image[None])\n",
    "\n",
    "    (distances,),(idx,) = nei_clf.kneighbors(code,n_neighbors=n_neighbors)\n",
    "\n",
    "    return distances,images[idx]\n",
    "\n",
    "def show_similar(image):\n",
    "    start_time = time.time()\n",
    "    distances,neighbors = get_similar(image,n_neighbors=5)\n",
    "\n",
    "    print(\"                                     \\033[1m\"+\"QUERY IMAGE\"+\"\\033[0m\")\n",
    "    #Show given image\n",
    "    ImageSliceViewer3D(image.reshape(32,32,32))\n",
    "\n",
    "    print(\"                                    \\033[1m\"+\"RETRIEVED IMAGES\"+\"\\033[0m\")\n",
    "    for i in range(4):\n",
    "        ImageSliceViewer3D(neighbors[i+1].reshape(32,32,32))\n",
    "        print(\"Dist={:.3f}\".format(distances[i+1]))\n",
    "    plt.show()\n",
    "    end_time = time.time()\n",
    "    exec_time = end_time-start_time\n",
    "    print(\"Execution Time (in seconds):\",exec_time)\n",
    "\n",
    "class ImageSliceViewer3D:\n",
    "    def __init__(self, volume, figsize=(3,3), cmap='gray'):\n",
    "        self.volume = volume\n",
    "        self.figsize = figsize\n",
    "        self.cmap = cmap\n",
    "        self.v = [np.min(volume), np.max(volume)]\n",
    "\n",
    "        # Call to select slice plane\n",
    "        interact(self.view_selection, view=RadioButtons(\n",
    "            options=['x-y','y-z', 'z-x'], value='x-y',\n",
    "            description='Slice plane selection:', disabled=False,\n",
    "            style={'description_width': 'initial'}))\n",
    "\n",
    "    def view_selection(self, view):\n",
    "        # Transpose the volume to orient according to the slice plane selection\n",
    "        orient = {\"y-z\":[1,2,0], \"z-x\":[2,0,1], \"x-y\": [0,1,2]}\n",
    "        self.vol = np.transpose(self.volume, orient[view])\n",
    "        maxZ = self.vol.shape[2] - 1\n",
    "\n",
    "        # Call to view a slice within the selected slice plane\n",
    "        interact(self.plot_slice,\n",
    "            z=IntSlider(min=0, max=maxZ, step=1, continuous_update=False,\n",
    "            description='Image Slice:'))\n",
    "\n",
    "    def plot_slice(self, z):\n",
    "        # Plot slice for the given plane and slice\n",
    "        self.fig = plt.figure(figsize=self.figsize)\n",
    "        plt.imshow(self.vol[:,:,z], cmap=plt.get_cmap(self.cmap),\n",
    "            vmin=self.v[0], vmax=self.v[1])"
   ]
  },
  {
   "cell_type": "code",
   "execution_count": null,
   "metadata": {
    "id": "ECdb5OqzN1Pv"
   },
   "outputs": [],
   "source": [
    "#show_similar(X_test[21])"
   ]
  },
  {
   "cell_type": "code",
   "execution_count": null,
   "metadata": {
    "id": "yO97vgJvN4vr"
   },
   "outputs": [],
   "source": [
    "def GetKey(val):\n",
    "   for key, value in res.items():\n",
    "      if (val == value).all():\n",
    "        return key"
   ]
  },
  {
   "cell_type": "code",
   "execution_count": null,
   "metadata": {
    "id": "riRTEZcEUrKu"
   },
   "outputs": [],
   "source": [
    "def show_similar2d(image):\n",
    "    start_time = time.time()\n",
    "    distances,neighbors = get_similar(image,n_neighbors=5)\n",
    "\n",
    "    print(\"                                     \\033[1m\"+\"QUERY IMAGE\"+\"\\033[0m\")\n",
    "    #Show given image\n",
    "    plt.imshow(image[:,:,5].reshape(32,32),cmap='gray')\n",
    "    plt.title(\"Slice 5\")\n",
    "    plt.show()\n",
    "\n",
    "    print(\"                                    \\033[1m\"+\"RETRIEVED IMAGES\"+\"\\033[0m\")\n",
    "    plt.figure(figsize=(20, 20))\n",
    "    for i in range(4):\n",
    "        retrievedname = GetKey(neighbors[i+1])\n",
    "        print(retrievedname)\n",
    "        ax = plt.subplot(1, 5, i+1)\n",
    "        plt.imshow(neighbors[i+1][:,:,5].reshape(32,32),cmap='gray')\n",
    "        ax.get_xaxis().set_visible(False)\n",
    "        ax.get_yaxis().set_visible(False)\n",
    "        plt.title(\"Dist={:.3f} (Slice 5)\".format(distances[i+1]))\n",
    "    plt.show()\n",
    "    end_time = time.time()\n",
    "    exec_time = end_time-start_time\n",
    "    print(\"Execution Time (in seconds):\",exec_time)\n"
   ]
  },
  {
   "cell_type": "code",
   "execution_count": null,
   "metadata": {
    "colab": {
     "base_uri": "https://localhost:8080/",
     "height": 626
    },
    "id": "QxO3JDDovoRN",
    "outputId": "65c1b4e6-de58-43f9-dc67-b7263c8cbbbb"
   },
   "outputs": [
    {
     "name": "stdout",
     "output_type": "stream",
     "text": [
      "                                     \u001b[1mQUERY IMAGE\u001b[0m\n"
     ]
    },
    {
     "data": {
      "image/png": "[encoded data removed]",
      "text/plain": [
       "<Figure size 432x288 with 1 Axes>"
      ]
     },
     "metadata": {
      "needs_background": "light",
      "tags": []
     },
     "output_type": "display_data"
    },
    {
     "name": "stdout",
     "output_type": "stream",
     "text": [
      "                                    \u001b[1mRETRIEVED IMAGES\u001b[0m\n",
      "c1AD_16.nii\n",
      "c1CN_16.nii\n",
      "c1AD_82.nii\n",
      "c1AD_14.nii\n"
     ]
    },
    {
     "data": {
      "image/png": "[encoded data removed]",
      "text/plain": [
       "<Figure size 1440x1440 with 4 Axes>"
      ]
     },
     "metadata": {
      "needs_background": "light",
      "tags": []
     },
     "output_type": "display_data"
    },
    {
     "name": "stdout",
     "output_type": "stream",
     "text": [
      "Execution Time (in seconds): 0.3619203567504883\n"
     ]
    }
   ],
   "source": [
    "show_similar2d(X_test[43])"
   ]
  },
  {
   "cell_type": "code",
   "execution_count": null,
   "metadata": {
    "id": "QJleyEE05MZm"
   },
   "outputs": [],
   "source": [
    "#a=nib.load('mricn.nii').get_fdata()\n",
    "#a=resize(a,(32,32,32))\n",
    "#a=a.reshape(32,32,32,1)\n",
    "#a=a.astype('float32') / 255.0"
   ]
  },
  {
   "cell_type": "code",
   "execution_count": null,
   "metadata": {
    "id": "_x4FA4vF5TDm"
   },
   "outputs": [],
   "source": [
    "#show_similar(a)"
   ]
  }
 ],
 "metadata": {
  "accelerator": "GPU",
  "colab": {
   "provenance": []
  },
  "kernelspec": {
   "display_name": "Python 3",
   "name": "python3"
  }
 },
 "nbformat": 4,
 "nbformat_minor": 0
}
