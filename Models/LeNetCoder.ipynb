{
 "cells": [
  {
   "cell_type": "code",
   "execution_count": null,
   "metadata": {
    "colab": {
     "base_uri": "https://localhost:8080/"
    },
    "id": "aKcTPWmgSe4C",
    "outputId": "1ca65423-ae4d-42c2-a84e-c08fa7d34954"
   },
   "outputs": [
    {
     "name": "stdout",
     "output_type": "stream",
     "text": [
      "Drive already mounted at /content/drive; to attempt to forcibly remount, call drive.mount(\"/content/drive\", force_remount=True).\n"
     ]
    }
   ],
   "source": [
    "import os\n",
    "import numpy as np\n",
    "import matplotlib.pyplot as plt\n",
    "from sklearn.model_selection import train_test_split\n",
    "from sklearn.neighbors import NearestNeighbors\n",
    "from tensorflow.keras.models import Sequential, load_model, Model\n",
    "from tensorflow.keras.layers import Dense, Flatten, Conv3D, MaxPooling3D, Dropout, BatchNormalization, Input, Reshape, Conv3DTranspose, UpSampling3D, LSTM\n",
    "from tensorflow.keras.optimizers import Adamax\n",
    "from skimage.util import random_noise\n",
    "from skimage.metrics import structural_similarity, mean_squared_error\n",
    "from scipy.ndimage import rotate\n",
    "from skimage.transform import resize\n",
    "import nibabel as nib\n",
    "from ipywidgets import interact, IntSlider, RadioButtons\n",
    "import time\n",
    "import warnings\n",
    "warnings.filterwarnings(\"ignore\")\n",
    "from google.colab import drive\n",
    "drive.mount('/content/drive')"
   ]
  },
  {
   "cell_type": "code",
   "execution_count": null,
   "metadata": {
    "id": "V9PC2qn-A2Tg"
   },
   "outputs": [],
   "source": [
    "try:\n",
    "  for image in data:#[:10]:\n",
    "    #print(data_root+image)\n",
    "    im=nib.load(data_root+image).get_fdata()\n",
    "    im=resize(im, shape_required, preserve_range=True)\n",
    "    im_min = np.min(im)\n",
    "    im_max = np.max(im)\n",
    "    #print(im_min,im_max)\n",
    "    im=((im - im_min)*255) / (im_max - im_min)\n",
    "    im=np.expand_dims(im, axis=3)\n",
    "    images_original.append(im)\n",
    "\n",
    "    keyword = image[:-7]\n",
    "    print(keyword)\n",
    "    for labell in label:\n",
    "      if keyword in labell:\n",
    "        #print(labell)\n",
    "        im=nib.load(label_root+labell).get_fdata()\n",
    "    im=resize(im, shape_required, preserve_range=True)\n",
    "    im_min = np.min(im)\n",
    "    im_max = np.max(im)\n",
    "    im=(im - im_min) / (im_max - im_min)\n",
    "    im = np.where(im > 0, 1, 0)\n",
    "    im=np.expand_dims(im, axis=3)\n",
    "    labels_original.append(im)\n",
    "except AttributeError:\n",
    "  pass"
   ]
  },
  {
   "cell_type": "code",
   "execution_count": null,
   "metadata": {
    "id": "DQg7TXh9TiJp"
   },
   "outputs": [],
   "source": [
    "def label_img(img):\n",
    "  return [0]\n",
    "\n",
    "def rotateit(image, theta, isseg=False):\n",
    "  order = 0 if isseg == True else 5\n",
    "  return ndimage.rotate(image, float(theta), reshape=False, order=order, mode='nearest')\n",
    "\n",
    "def data_nii_to_npy_2():\n",
    "  dataset_array = []\n",
    "  dataset_labels = []\n",
    "  count = 0\n",
    "\n",
    "  img_path = \"/content/drive/My Drive/FYP_1/\"\n",
    "  saveimg_path = \"/content/drive/My Drive/\"\n",
    "\n",
    "  img_names = os.listdir(img_path)\n",
    "  shuffle(img_names)\n",
    "  for img_name in img_names:\n",
    "     # print(img_name)\n",
    "      img_new = nib.load(img_path + img_name)#load\n",
    "      #img = np.array(img)\n",
    "      imag_data_nparray = img_new.get_fdata()\n",
    "      label_current_image=label_img(img_name)\n",
    "      imag_data_nparray=resize(imag_data_nparray,(64,64,64))\n",
    "      image_data_nparray_rotate=rotateit(imag_data_nparray,180)\n",
    "      #print(label_current_image)\n",
    "      dataset_array.append(imag_data_nparray)\n",
    "      dataset_array.append(image_data_nparray_rotate)\n",
    "      dataset_labels.append(label_current_image)\n",
    "      dataset_labels.append(label_current_image)\n",
    "\n",
    "  dataset_array = np.array(dataset_array)\n",
    "  dataset_labels = np.array(dataset_labels)\n",
    "  return dataset_array, dataset_labels"
   ]
  },
  {
   "cell_type": "code",
   "execution_count": null,
   "metadata": {
    "id": "gZ5dUTW-rQyB"
   },
   "outputs": [],
   "source": [
    "data , labels = data_nii_to_npy_2()"
   ]
  },
  {
   "cell_type": "code",
   "execution_count": null,
   "metadata": {
    "id": "jLQWOlmyUKqb"
   },
   "outputs": [],
   "source": [
    "np.save(\"data.npy\", data)\n",
    "np.save(\"labels.npy\", labels)"
   ]
  },
  {
   "cell_type": "code",
   "execution_count": null,
   "metadata": {
    "colab": {
     "base_uri": "https://localhost:8080/"
    },
    "id": "013hX7TYULpr",
    "outputId": "9b47e40f-4cf3-43a2-c30b-ca4a38499c63"
   },
   "outputs": [
    {
     "name": "stdout",
     "output_type": "stream",
     "text": [
      "(454, 64, 64, 64)\n",
      "(454, 1)\n"
     ]
    }
   ],
   "source": [
    "train_dataset_array = np.load(\"data.npy\")\n",
    "train_dataset_array_labels = np.load(\"labels.npy\",allow_pickle=True)\n",
    "\n",
    "print(train_dataset_array.shape)\n",
    "print(train_dataset_array_labels.shape)"
   ]
  },
  {
   "cell_type": "code",
   "execution_count": null,
   "metadata": {
    "id": "-iveZsHpUMc6"
   },
   "outputs": [],
   "source": [
    "# partition the data into training and testing splits using 70% of\n",
    "# the data for training and the remaining 30% for testing\n",
    "(trainX, testX, trainY, testY) = train_test_split(train_dataset_array, train_dataset_array_labels, test_size=0.30, stratify=train_dataset_array_labels)"
   ]
  },
  {
   "cell_type": "code",
   "execution_count": null,
   "metadata": {
    "id": "wQTWpJcmUOAA"
   },
   "outputs": [],
   "source": [
    "#Normalize Images\n",
    "X_train = trainX.astype('float32') / 255.0\n",
    "X_test = testX.astype('float32') / 255.0"
   ]
  },
  {
   "cell_type": "code",
   "execution_count": null,
   "metadata": {
    "colab": {
     "base_uri": "https://localhost:8080/"
    },
    "id": "JAMOphhQUURo",
    "outputId": "1ebd9cab-0c92-4c48-d747-39600c5b9c78"
   },
   "outputs": [
    {
     "name": "stdout",
     "output_type": "stream",
     "text": [
      "Model: \"sequential\"\n",
      "_________________________________________________________________\n",
      "Layer (type)                 Output Shape              Param #   \n",
      "=================================================================\n",
      "conv3d (Conv3D)              (None, 64, 64, 64, 32)    896       \n",
      "_________________________________________________________________\n",
      "max_pooling3d (MaxPooling3D) (None, 32, 32, 32, 32)    0         \n",
      "_________________________________________________________________\n",
      "conv3d_1 (Conv3D)            (None, 32, 32, 32, 64)    55360     \n",
      "_________________________________________________________________\n",
      "max_pooling3d_1 (MaxPooling3 (None, 16, 16, 16, 64)    0         \n",
      "_________________________________________________________________\n",
      "flatten (Flatten)            (None, 262144)            0         \n",
      "_________________________________________________________________\n",
      "dense (Dense)                (None, 512)               134218240 \n",
      "=================================================================\n",
      "Total params: 134,274,496\n",
      "Trainable params: 134,274,496\n",
      "Non-trainable params: 0\n",
      "_________________________________________________________________\n"
     ]
    }
   ],
   "source": [
    "#Image Dimension\n",
    "IMAGE_DIM=(64,64,64,1)\n",
    "\n",
    "#Required Feature vector size after encoding\n",
    "ENCODED_SIZE=512\n",
    "\n",
    "def ConvAutoEncoder(img_dim, encoded_size):\n",
    "    #Encoder Part\n",
    "    enc = keras.models.Sequential()\n",
    "    enc.add(InputLayer(img_dim))\n",
    "    enc.add(Conv3D(filters=32, kernel_size=(3, 3, 3), activation='relu', padding='same'))\n",
    "    enc.add(MaxPooling3D(pool_size=(2, 2, 2)))\n",
    "    enc.add(Conv3D(filters=64, kernel_size=(3, 3, 3), activation='relu', padding='same'))\n",
    "    enc.add(MaxPooling3D(pool_size=(2, 2, 2)))\n",
    "    enc.add(Flatten())\n",
    "    enc.add(Dense(encoded_size))\n",
    "\n",
    "    #Decoder Part\n",
    "    dec = keras.models.Sequential()\n",
    "    dec.add(InputLayer((encoded_size,)))\n",
    "    dec.add(Dense(262144))\n",
    "    dec.add(Reshape((16, 16, 16, 64)))\n",
    "    dec.add(UpSampling3D(size=(2,2,2)))\n",
    "    dec.add(Conv3DTranspose(filters=64, kernel_size=(3, 3, 3), activation='relu', padding='same'))\n",
    "    dec.add(UpSampling3D(size=(2,2,2)))\n",
    "    dec.add(Conv3DTranspose(filters=32, kernel_size=(3, 3, 3), activation=None, padding='same'))\n",
    "\n",
    "    return enc, dec\n",
    "\n",
    "encoder, decoder = ConvAutoEncoder(img_dim=IMAGE_DIM, encoded_size=ENCODED_SIZE)\n",
    "\n",
    "#Print Summary\n",
    "encoder.summary()\n",
    "#plot_model(encoder, show_shapes=True, show_layer_names=True)"
   ]
  },
  {
   "cell_type": "code",
   "execution_count": null,
   "metadata": {
    "colab": {
     "base_uri": "https://localhost:8080/"
    },
    "id": "4XfrA6_9JO3-",
    "outputId": "56154e60-0d01-45c0-e267-b11a76d6dc0e"
   },
   "outputs": [
    {
     "name": "stdout",
     "output_type": "stream",
     "text": [
      "Model: \"sequential_1\"\n",
      "_________________________________________________________________\n",
      "Layer (type)                 Output Shape              Param #   \n",
      "=================================================================\n",
      "dense_1 (Dense)              (None, 262144)            134479872 \n",
      "_________________________________________________________________\n",
      "reshape (Reshape)            (None, 16, 16, 16, 64)    0         \n",
      "_________________________________________________________________\n",
      "up_sampling3d (UpSampling3D) (None, 32, 32, 32, 64)    0         \n",
      "_________________________________________________________________\n",
      "conv3d_transpose (Conv3DTran (None, 32, 32, 32, 64)    110656    \n",
      "_________________________________________________________________\n",
      "up_sampling3d_1 (UpSampling3 (None, 64, 64, 64, 64)    0         \n",
      "_________________________________________________________________\n",
      "conv3d_transpose_1 (Conv3DTr (None, 64, 64, 64, 32)    55328     \n",
      "=================================================================\n",
      "Total params: 134,645,856\n",
      "Trainable params: 134,645,856\n",
      "Non-trainable params: 0\n",
      "_________________________________________________________________\n"
     ]
    }
   ],
   "source": [
    "decoder.summary()\n",
    "#plot_model(decoder, show_shapes=True, show_layer_names=True)"
   ]
  },
  {
   "cell_type": "code",
   "execution_count": null,
   "metadata": {
    "id": "Si2cHklEUq2j"
   },
   "outputs": [],
   "source": [
    "input = Input(IMAGE_DIM)\n",
    "encoded = encoder(input)\n",
    "decoded = decoder(encoded)\n",
    "\n",
    "cae = keras.models.Model(inputs=input, outputs=decoded)\n",
    "cae.compile(optimizer='adamax', loss='mean_squared_error')"
   ]
  },
  {
   "cell_type": "code",
   "execution_count": null,
   "metadata": {
    "id": "iKMgVzy2gYB2"
   },
   "outputs": [],
   "source": [
    "#size is reduced to less due to GPU limit\n",
    "X_train = X_train.reshape(X_train.shape[0],64,64,64,1)\n",
    "X_test = X_test.reshape(X_test.shape[0],64,64,64,1)"
   ]
  },
  {
   "cell_type": "code",
   "execution_count": null,
   "metadata": {
    "colab": {
     "base_uri": "https://localhost:8080/"
    },
    "id": "CVPCfi58UBdE",
    "outputId": "4b453928-632c-4fcd-c126-d3f26c4834b1"
   },
   "outputs": [
    {
     "name": "stdout",
     "output_type": "stream",
     "text": [
      "Epoch 1/5\n",
      "317/317 [==============================] - 53s 141ms/step - loss: 8.1869 - val_loss: 1.3084\n",
      "Epoch 2/5\n",
      "317/317 [==============================] - 45s 143ms/step - loss: 1.3516 - val_loss: 1.2176\n",
      "Epoch 3/5\n",
      "317/317 [==============================] - 46s 146ms/step - loss: 1.3735 - val_loss: 1.0977\n",
      "Epoch 4/5\n",
      "317/317 [==============================] - 46s 145ms/step - loss: 0.9634 - val_loss: 0.9524\n",
      "Epoch 5/5\n",
      "317/317 [==============================] - 46s 145ms/step - loss: 1.0300 - val_loss: 0.8627\n"
     ]
    },
    {
     "data": {
      "text/plain": [
       "<tensorflow.python.keras.callbacks.History at 0x7f94e02a7898>"
      ]
     },
     "execution_count": 12,
     "metadata": {
      "tags": []
     },
     "output_type": "execute_result"
    }
   ],
   "source": [
    "cae.fit(X_train, X_train, batch_size=1, epochs=5, verbose=1, validation_data=(X_test, X_test))"
   ]
  },
  {
   "cell_type": "code",
   "execution_count": null,
   "metadata": {
    "colab": {
     "base_uri": "https://localhost:8080/",
     "height": 332
    },
    "id": "eSGLBK1jUnz4",
    "outputId": "cd528afe-9b5c-495e-e79b-271cde56e36c"
   },
   "outputs": [
    {
     "name": "stdout",
     "output_type": "stream",
     "text": [
      "Training Loss:  1.008810043334961\n",
      "Validation Loss:  0.8626970052719116\n"
     ]
    },
    {
     "data": {
      "text/plain": [
       "Text(0.5, 1.0, 'Training and validation loss')"
      ]
     },
     "execution_count": 13,
     "metadata": {
      "tags": []
     },
     "output_type": "execute_result"
    },
    {
     "data": {
      "image/png": "[encoded data removed]",
      "text/plain": [
       "<Figure size 432x288 with 1 Axes>"
      ]
     },
     "metadata": {
      "needs_background": "light",
      "tags": []
     },
     "output_type": "display_data"
    }
   ],
   "source": [
    "loss=cae.history.history['loss']\n",
    "val_loss=cae.history.history['val_loss']\n",
    "\n",
    "print(\"Training Loss: \",loss[-1])\n",
    "print(\"Validation Loss: \",val_loss[-1])\n",
    "epochs=range(len(loss)) # Get number of epochs\n",
    "\n",
    "plt.figure()\n",
    "plt.plot(epochs, loss, 'r', \"Training Loss(Red)\")\n",
    "plt.plot(epochs, val_loss, 'b', \"Validation Loss(Blue)\")\n",
    "plt.title('Training and validation loss')"
   ]
  },
  {
   "cell_type": "code",
   "execution_count": null,
   "metadata": {
    "id": "h6m8DU9VS2LJ"
   },
   "outputs": [],
   "source": [
    "#Save model for later use\n",
    "cae.save('LeNetCoder.h5')"
   ]
  },
  {
   "cell_type": "code",
   "execution_count": null,
   "metadata": {
    "id": "bSwEutZAlgSd"
   },
   "outputs": [],
   "source": [
    "# Load the trained Model\n",
    "#from keras.models import load_model\n",
    "cae = load_model('LeNetCoder.h5')"
   ]
  },
  {
   "cell_type": "code",
   "execution_count": null,
   "metadata": {
    "id": "Lz7SlYKymLzb"
   },
   "outputs": [],
   "source": [
    "# Extract 'Encoder' Part from it\n",
    "encoder = cae.layers[1]\n",
    "\n",
    "images = X_train\n",
    "codes = encoder.predict(images)"
   ]
  },
  {
   "cell_type": "code",
   "execution_count": null,
   "metadata": {
    "colab": {
     "base_uri": "https://localhost:8080/"
    },
    "id": "N7gxf0JRnP_Z",
    "outputId": "4a8b9c22-e769-472e-ac55-4e1a7db6ec3d"
   },
   "outputs": [
    {
     "data": {
      "text/plain": [
       "NearestNeighbors(algorithm='auto', leaf_size=30, metric='euclidean',\n",
       "                 metric_params=None, n_jobs=None, n_neighbors=5, p=2,\n",
       "                 radius=1.0)"
      ]
     },
     "execution_count": 17,
     "metadata": {
      "tags": []
     },
     "output_type": "execute_result"
    }
   ],
   "source": [
    "from sklearn.neighbors import NearestNeighbors\n",
    "nei_clf = NearestNeighbors(metric=\"euclidean\")\n",
    "nei_clf.fit(codes)"
   ]
  },
  {
   "cell_type": "code",
   "execution_count": null,
   "metadata": {
    "id": "BPA3hzkbdx9i"
   },
   "outputs": [],
   "source": [
    "def get_similar(image, n_neighbors=5):\n",
    "\n",
    "    code = encoder.predict(image[None])\n",
    "\n",
    "    (distances,),(idx,) = nei_clf.kneighbors(code,n_neighbors=n_neighbors)\n",
    "\n",
    "    return distances,images[idx]\n",
    "\n",
    "def show_similar(image):\n",
    "    start_time = time.time()\n",
    "    distances,neighbors = get_similar(image,n_neighbors=5)\n",
    "\n",
    "    print(\"                                     \\033[1m\"+\"QUERY IMAGE\"+\"\\033[0m\")\n",
    "    #Show given image\n",
    "    ImageSliceViewer3D(image.reshape(64,64,64))\n",
    "\n",
    "    print(\"                                    \\033[1m\"+\"RETRIEVED IMAGES\"+\"\\033[0m\")\n",
    "    for i in range(4):\n",
    "        ImageSliceViewer3D(neighbors[i+1].reshape(64,64,64))\n",
    "        print(\"Dist={:.3f}\".format(distances[i+1]))\n",
    "    plt.show()\n",
    "    end_time = time.time()\n",
    "    exec_time = end_time-start_time\n",
    "    print(\"Execution Time (in seconds):\",exec_time)\n",
    "\n",
    "class ImageSliceViewer3D:\n",
    "    def __init__(self, volume, figsize=(3,3), cmap='gray'):\n",
    "        self.volume = volume\n",
    "        self.figsize = figsize\n",
    "        self.cmap = cmap\n",
    "        self.v = [np.min(volume), np.max(volume)]\n",
    "\n",
    "        # Call to select slice plane\n",
    "        interact(self.view_selection, view=RadioButtons(\n",
    "            options=['x-y','y-z', 'z-x'], value='x-y',\n",
    "            description='Slice plane selection:', disabled=False,\n",
    "            style={'description_width': 'initial'}))\n",
    "\n",
    "    def view_selection(self, view):\n",
    "        # Transpose the volume to orient according to the slice plane selection\n",
    "        orient = {\"y-z\":[1,2,0], \"z-x\":[2,0,1], \"x-y\": [0,1,2]}\n",
    "        self.vol = np.transpose(self.volume, orient[view])\n",
    "        maxZ = self.vol.shape[2] - 1\n",
    "\n",
    "        # Call to view a slice within the selected slice plane\n",
    "        interact(self.plot_slice,\n",
    "            z=IntSlider(min=0, max=maxZ, step=1, continuous_update=False,\n",
    "            description='Image Slice:'))\n",
    "\n",
    "    def plot_slice(self, z):\n",
    "        # Plot slice for the given plane and slice\n",
    "        self.fig = plt.figure(figsize=self.figsize)\n",
    "        plt.imshow(self.vol[:,:,z], cmap=plt.get_cmap(self.cmap),\n",
    "            vmin=self.v[0], vmax=self.v[1])"
   ]
  },
  {
   "cell_type": "code",
   "execution_count": null,
   "metadata": {
    "colab": {
     "base_uri": "https://localhost:8080/",
     "height": 1000,
     "referenced_widgets": [
      "c7892a0f60c049f5894fccf610d7b9d5",
      "c78989532492484fa688951d6f2fab2f",
      "758dec4daf104d4b99cf898c47d98fda",
      "cb767a4036884ba59d728bb54c3931ca",
      "126cb4f29010450e97cebb7cbe4fdef6",
      "af27644abb4849ac92d8fbd21f65db87",
      "48612f40419b441b80d69525d643f201",
      "986ab52348f34a96bb769db5468766f9",
      "ccab16b1101d4e6eb8fa8b6f13a73bec",
      "7c9742107c2342099190eaa0e043ef43",
      "59a891d23c8a4dfeb3386cba378bc29a",
      "f94b216f4bc545fdb9c762bbdd8f1b8d",
      "d50fdf20df1a4db1aef1690ecc3c7e30",
      "78fffd6ff1de44acae43c8e247046d1f",
      "93764e4250f04614a497ec30b50f1769",
      "6d4c513dd3d7492aba9aea962651c537",
      "f44a735bcc224affb55dcc0b625dd278",
      "b9452b27dc2043e6a44af1f8a993a8a0",
      "483a5546eb684dcbb934df082f9f64b8",
      "a74b341fa58947ecba17985e7313aa5e",
      "b6dae5055d1a433089e34a4a77f18aa6",
      "5be4179bdf3d4160a1ca2bf3d4f0a942",
      "b3b0e74dc78847bea77e1aa39d80d6aa",
      "f87c8600667d4516966857ffe5f15faa",
      "2c2c1d1ce993441788156a5f1ba88264",
      "c95e40235f1d4cc397b867325937ea78",
      "b0dad19f72a64341b33b847b92d8b579",
      "22aaad7571894df581f419b7a70199ca",
      "0bde91469ab64c9185ef40b8a69b292e",
      "bc4f1b4dfe474ee8a331f53911afbdf3",
      "f1e57a1ae3234e25ba173e35f04927f6",
      "7519a0454bd54b07bb0312f00ede31bc",
      "f76653c34d9646a385ef1e8b224247b9",
      "06e85340a7d64d5381c54e6e806f1d07",
      "29157ff38b5a4420907d0d32802e16f8",
      "05308f7e4f1f492d903773b9aea94f6e",
      "30a452b7126f4fd5a2bcbb4ea5717959",
      "772b9a8fd0124cbb9b55960895fc9d0d",
      "e1154294ded84cec870dbd6316b0923f",
      "67debccb99a04f90a423cdb9e0e05073",
      "123057325b734472ab84eb97177d72e2",
      "aca0403fc6484843bb5f2189550e170b",
      "9c6bdbce12b14cec8cf1bdcc58abbc14",
      "76790c4af10f4cfea0278085a0375cc3",
      "7bf77b1532cc472a8a9d372b4d1b0236",
      "d4e187ce56114d6eb19c49c493304c55",
      "375a1a180e3f4c84a75a0fae342d8990",
      "386aeb201c27438ea51f777c3d06b332",
      "b0b9d867bd10407194f3ecdd46237606",
      "d843965d94114e28bf6ec7c29007c163",
      "74ba473c84034f94b1cb0e183cef82ff",
      "e4c2ca1b853047c8a46220628b2beade",
      "44d9fe5e09814fb4945d082640f67555",
      "83eab02302b74604bb3cbecb90febb46",
      "8df86bf5a87a4b9eaf8e2f520cf93748",
      "49106a36238a4fae982b823ce1eda7da",
      "354de118462442139f3b2000beee2aed",
      "471dcd8c21e049e48e385b91460ce676",
      "39b5692ab6714173a7e4f4166d46d927",
      "d222762b1e0e453da158208f3825236e",
      "7365ba7d8a2647b59876ee098c941341",
      "1e363058a8bc42b7b2130efb03cc2935",
      "8a3e1ba45a264b43b87bed9b78151571",
      "09565190565b4298b4da37d162196ccc",
      "63451f5407c74257a5694799d5b503ed",
      "a30d1749347245f6bb989a85adae0db1",
      "6e812d7b8dd74172a000978b8b61ab98",
      "84cf2627a6c54b7a92dbac2dd7d78375",
      "a073f8bd0aaa4d93b7709e06fa96993b",
      "0b9ee1b96552412fb4ec29f8ccebe421"
     ]
    },
    "id": "3afHglQ1TAF_",
    "outputId": "6d66bb5a-a993-40bb-9f65-2e6468a5f7da"
   },
   "outputs": [
    {
     "name": "stdout",
     "output_type": "stream",
     "text": [
      "                                     \u001b[1mQUERY IMAGE\u001b[0m\n"
     ]
    },
    {
     "data": {
      "application/vnd.jupyter.widget-view+json": {
       "model_id": "c7892a0f60c049f5894fccf610d7b9d5",
       "version_major": 2,
       "version_minor": 0
      },
      "text/plain": [
       "interactive(children=(RadioButtons(description='Slice plane selection:', options=('x-y', 'y-z', 'z-x'), style=…"
      ]
     },
     "metadata": {
      "tags": []
     },
     "output_type": "display_data"
    },
    {
     "name": "stdout",
     "output_type": "stream",
     "text": [
      "                                    \u001b[1mRETRIEVED IMAGES\u001b[0m\n"
     ]
    },
    {
     "data": {
      "application/vnd.jupyter.widget-view+json": {
       "model_id": "93764e4250f04614a497ec30b50f1769",
       "version_major": 2,
       "version_minor": 0
      },
      "text/plain": [
       "interactive(children=(RadioButtons(description='Slice plane selection:', options=('x-y', 'y-z', 'z-x'), style=…"
      ]
     },
     "metadata": {
      "tags": []
     },
     "output_type": "display_data"
    },
    {
     "name": "stdout",
     "output_type": "stream",
     "text": [
      "Dist=6.116\n"
     ]
    },
    {
     "data": {
      "application/vnd.jupyter.widget-view+json": {
       "model_id": "b3b0e74dc78847bea77e1aa39d80d6aa",
       "version_major": 2,
       "version_minor": 0
      },
      "text/plain": [
       "interactive(children=(RadioButtons(description='Slice plane selection:', options=('x-y', 'y-z', 'z-x'), style=…"
      ]
     },
     "metadata": {
      "tags": []
     },
     "output_type": "display_data"
    },
    {
     "name": "stdout",
     "output_type": "stream",
     "text": [
      "Dist=6.692\n"
     ]
    },
    {
     "data": {
      "application/vnd.jupyter.widget-view+json": {
       "model_id": "30a452b7126f4fd5a2bcbb4ea5717959",
       "version_major": 2,
       "version_minor": 0
      },
      "text/plain": [
       "interactive(children=(RadioButtons(description='Slice plane selection:', options=('x-y', 'y-z', 'z-x'), style=…"
      ]
     },
     "metadata": {
      "tags": []
     },
     "output_type": "display_data"
    },
    {
     "name": "stdout",
     "output_type": "stream",
     "text": [
      "Dist=6.792\n"
     ]
    },
    {
     "data": {
      "application/vnd.jupyter.widget-view+json": {
       "model_id": "74ba473c84034f94b1cb0e183cef82ff",
       "version_major": 2,
       "version_minor": 0
      },
      "text/plain": [
       "interactive(children=(RadioButtons(description='Slice plane selection:', options=('x-y', 'y-z', 'z-x'), style=…"
      ]
     },
     "metadata": {
      "tags": []
     },
     "output_type": "display_data"
    },
    {
     "name": "stdout",
     "output_type": "stream",
     "text": [
      "Dist=6.838\n",
      "Execution Time (in seconds): 0.9948885440826416\n"
     ]
    }
   ],
   "source": [
    "show_similar(X_test[31])"
   ]
  },
  {
   "cell_type": "code",
   "execution_count": null,
   "metadata": {
    "id": "ltZz3YWecbcC"
   },
   "outputs": [],
   "source": [
    "def show_similar2d(image):\n",
    "    start_time = time.time()\n",
    "    distances,neighbors = get_similar(image,n_neighbors=5)\n",
    "\n",
    "    print(\"                                     \\033[1m\"+\"QUERY IMAGE\"+\"\\033[0m\")\n",
    "    #Show given image\n",
    "    plt.imshow(image[:,:,5].reshape(64,64),cmap='gray')\n",
    "    plt.title(\"Slice 5\")\n",
    "    plt.show()\n",
    "\n",
    "    print(\"                                    \\033[1m\"+\"RETRIEVED IMAGES\"+\"\\033[0m\")\n",
    "    plt.figure(figsize=(20, 20))\n",
    "    for i in range(4):\n",
    "        ax = plt.subplot(1, 5, i+1)\n",
    "        plt.imshow(neighbors[i+1][:,:,5].reshape(64,64),cmap='gray')\n",
    "        ax.get_xaxis().set_visible(False)\n",
    "        ax.get_yaxis().set_visible(False)\n",
    "        plt.title(\"Dist={:.3f} (Slice 5)\".format(distances[i+1]))\n",
    "    plt.show()\n",
    "    end_time = time.time()\n",
    "    exec_time = end_time-start_time\n",
    "    print(\"Execution Time (in seconds):\",exec_time)\n"
   ]
  },
  {
   "cell_type": "code",
   "execution_count": null,
   "metadata": {
    "colab": {
     "base_uri": "https://localhost:8080/",
     "height": 558
    },
    "id": "CtP6PEo2Zmpe",
    "outputId": "77953b2c-f926-4314-da5a-8eedb0c1716e"
   },
   "outputs": [
    {
     "name": "stdout",
     "output_type": "stream",
     "text": [
      "                                     \u001b[1mQUERY IMAGE\u001b[0m\n"
     ]
    },
    {
     "data": {
      "image/png": "[encoded data removed]",
      "text/plain": [
       "<Figure size 432x288 with 1 Axes>"
      ]
     },
     "metadata": {
      "needs_background": "light",
      "tags": []
     },
     "output_type": "display_data"
    },
    {
     "name": "stdout",
     "output_type": "stream",
     "text": [
      "                                    \u001b[1mRETRIEVED IMAGES\u001b[0m\n"
     ]
    },
    {
     "data": {
      "image/png": "[encoded data removed]",
      "text/plain": [
       "<Figure size 1440x1440 with 4 Axes>"
      ]
     },
     "metadata": {
      "needs_background": "light",
      "tags": []
     },
     "output_type": "display_data"
    },
    {
     "name": "stdout",
     "output_type": "stream",
     "text": [
      "Execution Time (in seconds): 0.5089616775512695\n"
     ]
    }
   ],
   "source": [
    "show_similar2d(X_test[31])"
   ]
  }
 ],
 "metadata": {
  "accelerator": "GPU",
  "colab": {
   "provenance": []
  },
  "kernelspec": {
   "display_name": "Python 3",
   "name": "python3"
  },
  "widgets": {
   "application/vnd.jupyter.widget-state+json": {
    "05308f7e4f1f492d903773b9aea94f6e": {
     "model_module": "@jupyter-widgets/base",
     "model_module_version": "1.2.0",
     "model_name": "LayoutModel",
     "state": {
      "_model_module": "@jupyter-widgets/base",
      "_model_module_version": "1.2.0",
      "_model_name": "LayoutModel",
      "_view_count": null,
      "_view_module": "@jupyter-widgets/base",
      "_view_module_version": "1.2.0",
      "_view_name": "LayoutView",
      "align_content": null,
      "align_items": null,
      "align_self": null,
      "border": null,
      "bottom": null,
      "display": null,
      "flex": null,
      "flex_flow": null,
      "grid_area": null,
      "grid_auto_columns": null,
      "grid_auto_flow": null,
      "grid_auto_rows": null,
      "grid_column": null,
      "grid_gap": null,
      "grid_row": null,
      "grid_template_areas": null,
      "grid_template_columns": null,
      "grid_template_rows": null,
      "height": null,
      "justify_content": null,
      "justify_items": null,
      "left": null,
      "margin": null,
      "max_height": null,
      "max_width": null,
      "min_height": null,
      "min_width": null,
      "object_fit": null,
      "object_position": null,
      "order": null,
      "overflow": null,
      "overflow_x": null,
      "overflow_y": null,
      "padding": null,
      "right": null,
      "top": null,
      "visibility": null,
      "width": null
     }
    },
    "06e85340a7d64d5381c54e6e806f1d07": {
     "model_module": "@jupyter-widgets/base",
     "model_module_version": "1.2.0",
     "model_name": "LayoutModel",
     "state": {
      "_model_module": "@jupyter-widgets/base",
      "_model_module_version": "1.2.0",
      "_model_name": "LayoutModel",
      "_view_count": null,
      "_view_module": "@jupyter-widgets/base",
      "_view_module_version": "1.2.0",
      "_view_name": "LayoutView",
      "align_content": null,
      "align_items": null,
      "align_self": null,
      "border": null,
      "bottom": null,
      "display": null,
      "flex": null,
      "flex_flow": null,
      "grid_area": null,
      "grid_auto_columns": null,
      "grid_auto_flow": null,
      "grid_auto_rows": null,
      "grid_column": null,
      "grid_gap": null,
      "grid_row": null,
      "grid_template_areas": null,
      "grid_template_columns": null,
      "grid_template_rows": null,
      "height": null,
      "justify_content": null,
      "justify_items": null,
      "left": null,
      "margin": null,
      "max_height": null,
      "max_width": null,
      "min_height": null,
      "min_width": null,
      "object_fit": null,
      "object_position": null,
      "order": null,
      "overflow": null,
      "overflow_x": null,
      "overflow_y": null,
      "padding": null,
      "right": null,
      "top": null,
      "visibility": null,
      "width": null
     }
    },
    "09565190565b4298b4da37d162196ccc": {
     "model_module": "@jupyter-widgets/controls",
     "model_module_version": "1.5.0",
     "model_name": "VBoxModel",
     "state": {
      "_dom_classes": [
       "widget-interact"
      ],
      "_model_module": "@jupyter-widgets/controls",
      "_model_module_version": "1.5.0",
      "_model_name": "VBoxModel",
      "_view_count": null,
      "_view_module": "@jupyter-widgets/controls",
      "_view_module_version": "1.5.0",
      "_view_name": "VBoxView",
      "box_style": "",
      "children": [
       "IPY_MODEL_a30d1749347245f6bb989a85adae0db1",
       "IPY_MODEL_6e812d7b8dd74172a000978b8b61ab98"
      ],
      "layout": "IPY_MODEL_63451f5407c74257a5694799d5b503ed"
     }
    },
    "0b9ee1b96552412fb4ec29f8ccebe421": {
     "model_module": "@jupyter-widgets/base",
     "model_module_version": "1.2.0",
     "model_name": "LayoutModel",
     "state": {
      "_model_module": "@jupyter-widgets/base",
      "_model_module_version": "1.2.0",
      "_model_name": "LayoutModel",
      "_view_count": null,
      "_view_module": "@jupyter-widgets/base",
      "_view_module_version": "1.2.0",
      "_view_name": "LayoutView",
      "align_content": null,
      "align_items": null,
      "align_self": null,
      "border": null,
      "bottom": null,
      "display": null,
      "flex": null,
      "flex_flow": null,
      "grid_area": null,
      "grid_auto_columns": null,
      "grid_auto_flow": null,
      "grid_auto_rows": null,
      "grid_column": null,
      "grid_gap": null,
      "grid_row": null,
      "grid_template_areas": null,
      "grid_template_columns": null,
      "grid_template_rows": null,
      "height": null,
      "justify_content": null,
      "justify_items": null,
      "left": null,
      "margin": null,
      "max_height": null,
      "max_width": null,
      "min_height": null,
      "min_width": null,
      "object_fit": null,
      "object_position": null,
      "order": null,
      "overflow": null,
      "overflow_x": null,
      "overflow_y": null,
      "padding": null,
      "right": null,
      "top": null,
      "visibility": null,
      "width": null
     }
    },
    "0bde91469ab64c9185ef40b8a69b292e": {
     "model_module": "@jupyter-widgets/output",
     "model_module_version": "1.0.0",
     "model_name": "OutputModel",
     "state": {
      "_dom_classes": [],
      "_model_module": "@jupyter-widgets/output",
      "_model_module_version": "1.0.0",
      "_model_name": "OutputModel",
      "_view_count": null,
      "_view_module": "@jupyter-widgets/output",
      "_view_module_version": "1.0.0",
      "_view_name": "OutputView",
      "layout": "IPY_MODEL_05308f7e4f1f492d903773b9aea94f6e",
      "msg_id": "",
      "outputs": [
       {
        "application/vnd.jupyter.widget-view+json": {
         "model_id": "29157ff38b5a4420907d0d32802e16f8",
         "version_major": 2,
         "version_minor": 0
        },
        "metadata": {
         "tags": []
        },
        "output_type": "display_data",
        "text/plain": "interactive(children=(IntSlider(value=0, continuous_update=False, description='Image Slice:', max=63), Output(…"
       }
      ]
     }
    },
    "123057325b734472ab84eb97177d72e2": {
     "model_module": "@jupyter-widgets/base",
     "model_module_version": "1.2.0",
     "model_name": "LayoutModel",
     "state": {
      "_model_module": "@jupyter-widgets/base",
      "_model_module_version": "1.2.0",
      "_model_name": "LayoutModel",
      "_view_count": null,
      "_view_module": "@jupyter-widgets/base",
      "_view_module_version": "1.2.0",
      "_view_name": "LayoutView",
      "align_content": null,
      "align_items": null,
      "align_self": null,
      "border": null,
      "bottom": null,
      "display": null,
      "flex": null,
      "flex_flow": null,
      "grid_area": null,
      "grid_auto_columns": null,
      "grid_auto_flow": null,
      "grid_auto_rows": null,
      "grid_column": null,
      "grid_gap": null,
      "grid_row": null,
      "grid_template_areas": null,
      "grid_template_columns": null,
      "grid_template_rows": null,
      "height": null,
      "justify_content": null,
      "justify_items": null,
      "left": null,
      "margin": null,
      "max_height": null,
      "max_width": null,
      "min_height": null,
      "min_width": null,
      "object_fit": null,
      "object_position": null,
      "order": null,
      "overflow": null,
      "overflow_x": null,
      "overflow_y": null,
      "padding": null,
      "right": null,
      "top": null,
      "visibility": null,
      "width": null
     }
    },
    "126cb4f29010450e97cebb7cbe4fdef6": {
     "model_module": "@jupyter-widgets/controls",
     "model_module_version": "1.5.0",
     "model_name": "DescriptionStyleModel",
     "state": {
      "_model_module": "@jupyter-widgets/controls",
      "_model_module_version": "1.5.0",
      "_model_name": "DescriptionStyleModel",
      "_view_count": null,
      "_view_module": "@jupyter-widgets/base",
      "_view_module_version": "1.2.0",
      "_view_name": "StyleView",
      "description_width": "initial"
     }
    },
    "1e363058a8bc42b7b2130efb03cc2935": {
     "model_module": "@jupyter-widgets/base",
     "model_module_version": "1.2.0",
     "model_name": "LayoutModel",
     "state": {
      "_model_module": "@jupyter-widgets/base",
      "_model_module_version": "1.2.0",
      "_model_name": "LayoutModel",
      "_view_count": null,
      "_view_module": "@jupyter-widgets/base",
      "_view_module_version": "1.2.0",
      "_view_name": "LayoutView",
      "align_content": null,
      "align_items": null,
      "align_self": null,
      "border": null,
      "bottom": null,
      "display": null,
      "flex": null,
      "flex_flow": null,
      "grid_area": null,
      "grid_auto_columns": null,
      "grid_auto_flow": null,
      "grid_auto_rows": null,
      "grid_column": null,
      "grid_gap": null,
      "grid_row": null,
      "grid_template_areas": null,
      "grid_template_columns": null,
      "grid_template_rows": null,
      "height": null,
      "justify_content": null,
      "justify_items": null,
      "left": null,
      "margin": null,
      "max_height": null,
      "max_width": null,
      "min_height": null,
      "min_width": null,
      "object_fit": null,
      "object_position": null,
      "order": null,
      "overflow": null,
      "overflow_x": null,
      "overflow_y": null,
      "padding": null,
      "right": null,
      "top": null,
      "visibility": null,
      "width": null
     }
    },
    "22aaad7571894df581f419b7a70199ca": {
     "model_module": "@jupyter-widgets/controls",
     "model_module_version": "1.5.0",
     "model_name": "RadioButtonsModel",
     "state": {
      "_dom_classes": [],
      "_model_module": "@jupyter-widgets/controls",
      "_model_module_version": "1.5.0",
      "_model_name": "RadioButtonsModel",
      "_options_labels": [
       "x-y",
       "y-z",
       "z-x"
      ],
      "_view_count": null,
      "_view_module": "@jupyter-widgets/controls",
      "_view_module_version": "1.5.0",
      "_view_name": "RadioButtonsView",
      "description": "Slice plane selection:",
      "description_tooltip": null,
      "disabled": false,
      "index": 0,
      "layout": "IPY_MODEL_f76653c34d9646a385ef1e8b224247b9",
      "style": "IPY_MODEL_7519a0454bd54b07bb0312f00ede31bc"
     }
    },
    "29157ff38b5a4420907d0d32802e16f8": {
     "model_module": "@jupyter-widgets/controls",
     "model_module_version": "1.5.0",
     "model_name": "VBoxModel",
     "state": {
      "_dom_classes": [
       "widget-interact"
      ],
      "_model_module": "@jupyter-widgets/controls",
      "_model_module_version": "1.5.0",
      "_model_name": "VBoxModel",
      "_view_count": null,
      "_view_module": "@jupyter-widgets/controls",
      "_view_module_version": "1.5.0",
      "_view_name": "VBoxView",
      "box_style": "",
      "children": [
       "IPY_MODEL_e1154294ded84cec870dbd6316b0923f",
       "IPY_MODEL_67debccb99a04f90a423cdb9e0e05073"
      ],
      "layout": "IPY_MODEL_772b9a8fd0124cbb9b55960895fc9d0d"
     }
    },
    "2c2c1d1ce993441788156a5f1ba88264": {
     "model_module": "@jupyter-widgets/controls",
     "model_module_version": "1.5.0",
     "model_name": "IntSliderModel",
     "state": {
      "_dom_classes": [],
      "_model_module": "@jupyter-widgets/controls",
      "_model_module_version": "1.5.0",
      "_model_name": "IntSliderModel",
      "_view_count": null,
      "_view_module": "@jupyter-widgets/controls",
      "_view_module_version": "1.5.0",
      "_view_name": "IntSliderView",
      "continuous_update": false,
      "description": "Image Slice:",
      "description_tooltip": null,
      "disabled": false,
      "layout": "IPY_MODEL_f1e57a1ae3234e25ba173e35f04927f6",
      "max": 63,
      "min": 0,
      "orientation": "horizontal",
      "readout": true,
      "readout_format": "d",
      "step": 1,
      "style": "IPY_MODEL_bc4f1b4dfe474ee8a331f53911afbdf3",
      "value": 25
     }
    },
    "30a452b7126f4fd5a2bcbb4ea5717959": {
     "model_module": "@jupyter-widgets/controls",
     "model_module_version": "1.5.0",
     "model_name": "VBoxModel",
     "state": {
      "_dom_classes": [
       "widget-interact"
      ],
      "_model_module": "@jupyter-widgets/controls",
      "_model_module_version": "1.5.0",
      "_model_name": "VBoxModel",
      "_view_count": null,
      "_view_module": "@jupyter-widgets/controls",
      "_view_module_version": "1.5.0",
      "_view_name": "VBoxView",
      "box_style": "",
      "children": [
       "IPY_MODEL_aca0403fc6484843bb5f2189550e170b",
       "IPY_MODEL_9c6bdbce12b14cec8cf1bdcc58abbc14"
      ],
      "layout": "IPY_MODEL_123057325b734472ab84eb97177d72e2"
     }
    },
    "354de118462442139f3b2000beee2aed": {
     "model_module": "@jupyter-widgets/output",
     "model_module_version": "1.0.0",
     "model_name": "OutputModel",
     "state": {
      "_dom_classes": [],
      "_model_module": "@jupyter-widgets/output",
      "_model_module_version": "1.0.0",
      "_model_name": "OutputModel",
      "_view_count": null,
      "_view_module": "@jupyter-widgets/output",
      "_view_module_version": "1.0.0",
      "_view_name": "OutputView",
      "layout": "IPY_MODEL_8a3e1ba45a264b43b87bed9b78151571",
      "msg_id": "",
      "outputs": [
       {
        "application/vnd.jupyter.widget-view+json": {
         "model_id": "09565190565b4298b4da37d162196ccc",
         "version_major": 2,
         "version_minor": 0
        },
        "metadata": {
         "tags": []
        },
        "output_type": "display_data",
        "text/plain": "interactive(children=(IntSlider(value=0, continuous_update=False, description='Image Slice:', max=63), Output(…"
       }
      ]
     }
    },
    "375a1a180e3f4c84a75a0fae342d8990": {
     "model_module": "@jupyter-widgets/base",
     "model_module_version": "1.2.0",
     "model_name": "LayoutModel",
     "state": {
      "_model_module": "@jupyter-widgets/base",
      "_model_module_version": "1.2.0",
      "_model_name": "LayoutModel",
      "_view_count": null,
      "_view_module": "@jupyter-widgets/base",
      "_view_module_version": "1.2.0",
      "_view_name": "LayoutView",
      "align_content": null,
      "align_items": null,
      "align_self": null,
      "border": null,
      "bottom": null,
      "display": null,
      "flex": null,
      "flex_flow": null,
      "grid_area": null,
      "grid_auto_columns": null,
      "grid_auto_flow": null,
      "grid_auto_rows": null,
      "grid_column": null,
      "grid_gap": null,
      "grid_row": null,
      "grid_template_areas": null,
      "grid_template_columns": null,
      "grid_template_rows": null,
      "height": null,
      "justify_content": null,
      "justify_items": null,
      "left": null,
      "margin": null,
      "max_height": null,
      "max_width": null,
      "min_height": null,
      "min_width": null,
      "object_fit": null,
      "object_position": null,
      "order": null,
      "overflow": null,
      "overflow_x": null,
      "overflow_y": null,
      "padding": null,
      "right": null,
      "top": null,
      "visibility": null,
      "width": null
     }
    },
    "386aeb201c27438ea51f777c3d06b332": {
     "model_module": "@jupyter-widgets/base",
     "model_module_version": "1.2.0",
     "model_name": "LayoutModel",
     "state": {
      "_model_module": "@jupyter-widgets/base",
      "_model_module_version": "1.2.0",
      "_model_name": "LayoutModel",
      "_view_count": null,
      "_view_module": "@jupyter-widgets/base",
      "_view_module_version": "1.2.0",
      "_view_name": "LayoutView",
      "align_content": null,
      "align_items": null,
      "align_self": null,
      "border": null,
      "bottom": null,
      "display": null,
      "flex": null,
      "flex_flow": null,
      "grid_area": null,
      "grid_auto_columns": null,
      "grid_auto_flow": null,
      "grid_auto_rows": null,
      "grid_column": null,
      "grid_gap": null,
      "grid_row": null,
      "grid_template_areas": null,
      "grid_template_columns": null,
      "grid_template_rows": null,
      "height": null,
      "justify_content": null,
      "justify_items": null,
      "left": null,
      "margin": null,
      "max_height": null,
      "max_width": null,
      "min_height": null,
      "min_width": null,
      "object_fit": null,
      "object_position": null,
      "order": null,
      "overflow": null,
      "overflow_x": null,
      "overflow_y": null,
      "padding": null,
      "right": null,
      "top": null,
      "visibility": null,
      "width": null
     }
    },
    "39b5692ab6714173a7e4f4166d46d927": {
     "model_module": "@jupyter-widgets/base",
     "model_module_version": "1.2.0",
     "model_name": "LayoutModel",
     "state": {
      "_model_module": "@jupyter-widgets/base",
      "_model_module_version": "1.2.0",
      "_model_name": "LayoutModel",
      "_view_count": null,
      "_view_module": "@jupyter-widgets/base",
      "_view_module_version": "1.2.0",
      "_view_name": "LayoutView",
      "align_content": null,
      "align_items": null,
      "align_self": null,
      "border": null,
      "bottom": null,
      "display": null,
      "flex": null,
      "flex_flow": null,
      "grid_area": null,
      "grid_auto_columns": null,
      "grid_auto_flow": null,
      "grid_auto_rows": null,
      "grid_column": null,
      "grid_gap": null,
      "grid_row": null,
      "grid_template_areas": null,
      "grid_template_columns": null,
      "grid_template_rows": null,
      "height": null,
      "justify_content": null,
      "justify_items": null,
      "left": null,
      "margin": null,
      "max_height": null,
      "max_width": null,
      "min_height": null,
      "min_width": null,
      "object_fit": null,
      "object_position": null,
      "order": null,
      "overflow": null,
      "overflow_x": null,
      "overflow_y": null,
      "padding": null,
      "right": null,
      "top": null,
      "visibility": null,
      "width": null
     }
    },
    "44d9fe5e09814fb4945d082640f67555": {
     "model_module": "@jupyter-widgets/controls",
     "model_module_version": "1.5.0",
     "model_name": "IntSliderModel",
     "state": {
      "_dom_classes": [],
      "_model_module": "@jupyter-widgets/controls",
      "_model_module_version": "1.5.0",
      "_model_name": "IntSliderModel",
      "_view_count": null,
      "_view_module": "@jupyter-widgets/controls",
      "_view_module_version": "1.5.0",
      "_view_name": "IntSliderView",
      "continuous_update": false,
      "description": "Image Slice:",
      "description_tooltip": null,
      "disabled": false,
      "layout": "IPY_MODEL_39b5692ab6714173a7e4f4166d46d927",
      "max": 63,
      "min": 0,
      "orientation": "horizontal",
      "readout": true,
      "readout_format": "d",
      "step": 1,
      "style": "IPY_MODEL_471dcd8c21e049e48e385b91460ce676",
      "value": 0
     }
    },
    "471dcd8c21e049e48e385b91460ce676": {
     "model_module": "@jupyter-widgets/controls",
     "model_module_version": "1.5.0",
     "model_name": "SliderStyleModel",
     "state": {
      "_model_module": "@jupyter-widgets/controls",
      "_model_module_version": "1.5.0",
      "_model_name": "SliderStyleModel",
      "_view_count": null,
      "_view_module": "@jupyter-widgets/base",
      "_view_module_version": "1.2.0",
      "_view_name": "StyleView",
      "description_width": "",
      "handle_color": null
     }
    },
    "483a5546eb684dcbb934df082f9f64b8": {
     "model_module": "@jupyter-widgets/controls",
     "model_module_version": "1.5.0",
     "model_name": "DescriptionStyleModel",
     "state": {
      "_model_module": "@jupyter-widgets/controls",
      "_model_module_version": "1.5.0",
      "_model_name": "DescriptionStyleModel",
      "_view_count": null,
      "_view_module": "@jupyter-widgets/base",
      "_view_module_version": "1.2.0",
      "_view_name": "StyleView",
      "description_width": "initial"
     }
    },
    "48612f40419b441b80d69525d643f201": {
     "model_module": "@jupyter-widgets/controls",
     "model_module_version": "1.5.0",
     "model_name": "VBoxModel",
     "state": {
      "_dom_classes": [
       "widget-interact"
      ],
      "_model_module": "@jupyter-widgets/controls",
      "_model_module_version": "1.5.0",
      "_model_name": "VBoxModel",
      "_view_count": null,
      "_view_module": "@jupyter-widgets/controls",
      "_view_module_version": "1.5.0",
      "_view_name": "VBoxView",
      "box_style": "",
      "children": [
       "IPY_MODEL_7c9742107c2342099190eaa0e043ef43",
       "IPY_MODEL_59a891d23c8a4dfeb3386cba378bc29a"
      ],
      "layout": "IPY_MODEL_ccab16b1101d4e6eb8fa8b6f13a73bec"
     }
    },
    "49106a36238a4fae982b823ce1eda7da": {
     "model_module": "@jupyter-widgets/controls",
     "model_module_version": "1.5.0",
     "model_name": "RadioButtonsModel",
     "state": {
      "_dom_classes": [],
      "_model_module": "@jupyter-widgets/controls",
      "_model_module_version": "1.5.0",
      "_model_name": "RadioButtonsModel",
      "_options_labels": [
       "x-y",
       "y-z",
       "z-x"
      ],
      "_view_count": null,
      "_view_module": "@jupyter-widgets/controls",
      "_view_module_version": "1.5.0",
      "_view_name": "RadioButtonsView",
      "description": "Slice plane selection:",
      "description_tooltip": null,
      "disabled": false,
      "index": 0,
      "layout": "IPY_MODEL_7365ba7d8a2647b59876ee098c941341",
      "style": "IPY_MODEL_d222762b1e0e453da158208f3825236e"
     }
    },
    "59a891d23c8a4dfeb3386cba378bc29a": {
     "model_module": "@jupyter-widgets/output",
     "model_module_version": "1.0.0",
     "model_name": "OutputModel",
     "state": {
      "_dom_classes": [],
      "_model_module": "@jupyter-widgets/output",
      "_model_module_version": "1.0.0",
      "_model_name": "OutputModel",
      "_view_count": null,
      "_view_module": "@jupyter-widgets/output",
      "_view_module_version": "1.0.0",
      "_view_name": "OutputView",
      "layout": "IPY_MODEL_78fffd6ff1de44acae43c8e247046d1f",
      "msg_id": "",
      "outputs": [
       {
        "image/png": "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\n",
        "metadata": {
         "needs_background": "light",
         "tags": []
        },
        "output_type": "display_data",
        "text/plain": "<Figure size 216x216 with 1 Axes>"
       }
      ]
     }
    },
    "5be4179bdf3d4160a1ca2bf3d4f0a942": {
     "model_module": "@jupyter-widgets/base",
     "model_module_version": "1.2.0",
     "model_name": "LayoutModel",
     "state": {
      "_model_module": "@jupyter-widgets/base",
      "_model_module_version": "1.2.0",
      "_model_name": "LayoutModel",
      "_view_count": null,
      "_view_module": "@jupyter-widgets/base",
      "_view_module_version": "1.2.0",
      "_view_name": "LayoutView",
      "align_content": null,
      "align_items": null,
      "align_self": null,
      "border": null,
      "bottom": null,
      "display": null,
      "flex": null,
      "flex_flow": null,
      "grid_area": null,
      "grid_auto_columns": null,
      "grid_auto_flow": null,
      "grid_auto_rows": null,
      "grid_column": null,
      "grid_gap": null,
      "grid_row": null,
      "grid_template_areas": null,
      "grid_template_columns": null,
      "grid_template_rows": null,
      "height": null,
      "justify_content": null,
      "justify_items": null,
      "left": null,
      "margin": null,
      "max_height": null,
      "max_width": null,
      "min_height": null,
      "min_width": null,
      "object_fit": null,
      "object_position": null,
      "order": null,
      "overflow": null,
      "overflow_x": null,
      "overflow_y": null,
      "padding": null,
      "right": null,
      "top": null,
      "visibility": null,
      "width": null
     }
    },
    "63451f5407c74257a5694799d5b503ed": {
     "model_module": "@jupyter-widgets/base",
     "model_module_version": "1.2.0",
     "model_name": "LayoutModel",
     "state": {
      "_model_module": "@jupyter-widgets/base",
      "_model_module_version": "1.2.0",
      "_model_name": "LayoutModel",
      "_view_count": null,
      "_view_module": "@jupyter-widgets/base",
      "_view_module_version": "1.2.0",
      "_view_name": "LayoutView",
      "align_content": null,
      "align_items": null,
      "align_self": null,
      "border": null,
      "bottom": null,
      "display": null,
      "flex": null,
      "flex_flow": null,
      "grid_area": null,
      "grid_auto_columns": null,
      "grid_auto_flow": null,
      "grid_auto_rows": null,
      "grid_column": null,
      "grid_gap": null,
      "grid_row": null,
      "grid_template_areas": null,
      "grid_template_columns": null,
      "grid_template_rows": null,
      "height": null,
      "justify_content": null,
      "justify_items": null,
      "left": null,
      "margin": null,
      "max_height": null,
      "max_width": null,
      "min_height": null,
      "min_width": null,
      "object_fit": null,
      "object_position": null,
      "order": null,
      "overflow": null,
      "overflow_x": null,
      "overflow_y": null,
      "padding": null,
      "right": null,
      "top": null,
      "visibility": null,
      "width": null
     }
    },
    "67debccb99a04f90a423cdb9e0e05073": {
     "model_module": "@jupyter-widgets/output",
     "model_module_version": "1.0.0",
     "model_name": "OutputModel",
     "state": {
      "_dom_classes": [],
      "_model_module": "@jupyter-widgets/output",
      "_model_module_version": "1.0.0",
      "_model_name": "OutputModel",
      "_view_count": null,
      "_view_module": "@jupyter-widgets/output",
      "_view_module_version": "1.0.0",
      "_view_name": "OutputView",
      "layout": "IPY_MODEL_386aeb201c27438ea51f777c3d06b332",
      "msg_id": "",
      "outputs": [
       {
        "image/png": "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\n",
        "metadata": {
         "needs_background": "light",
         "tags": []
        },
        "output_type": "display_data",
        "text/plain": "<Figure size 216x216 with 1 Axes>"
       }
      ]
     }
    },
    "6d4c513dd3d7492aba9aea962651c537": {
     "model_module": "@jupyter-widgets/base",
     "model_module_version": "1.2.0",
     "model_name": "LayoutModel",
     "state": {
      "_model_module": "@jupyter-widgets/base",
      "_model_module_version": "1.2.0",
      "_model_name": "LayoutModel",
      "_view_count": null,
      "_view_module": "@jupyter-widgets/base",
      "_view_module_version": "1.2.0",
      "_view_name": "LayoutView",
      "align_content": null,
      "align_items": null,
      "align_self": null,
      "border": null,
      "bottom": null,
      "display": null,
      "flex": null,
      "flex_flow": null,
      "grid_area": null,
      "grid_auto_columns": null,
      "grid_auto_flow": null,
      "grid_auto_rows": null,
      "grid_column": null,
      "grid_gap": null,
      "grid_row": null,
      "grid_template_areas": null,
      "grid_template_columns": null,
      "grid_template_rows": null,
      "height": null,
      "justify_content": null,
      "justify_items": null,
      "left": null,
      "margin": null,
      "max_height": null,
      "max_width": null,
      "min_height": null,
      "min_width": null,
      "object_fit": null,
      "object_position": null,
      "order": null,
      "overflow": null,
      "overflow_x": null,
      "overflow_y": null,
      "padding": null,
      "right": null,
      "top": null,
      "visibility": null,
      "width": null
     }
    },
    "6e812d7b8dd74172a000978b8b61ab98": {
     "model_module": "@jupyter-widgets/output",
     "model_module_version": "1.0.0",
     "model_name": "OutputModel",
     "state": {
      "_dom_classes": [],
      "_model_module": "@jupyter-widgets/output",
      "_model_module_version": "1.0.0",
      "_model_name": "OutputModel",
      "_view_count": null,
      "_view_module": "@jupyter-widgets/output",
      "_view_module_version": "1.0.0",
      "_view_name": "OutputView",
      "layout": "IPY_MODEL_0b9ee1b96552412fb4ec29f8ccebe421",
      "msg_id": "",
      "outputs": [
       {
        "image/png": "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\n",
        "metadata": {
         "needs_background": "light",
         "tags": []
        },
        "output_type": "display_data",
        "text/plain": "<Figure size 216x216 with 1 Axes>"
       }
      ]
     }
    },
    "7365ba7d8a2647b59876ee098c941341": {
     "model_module": "@jupyter-widgets/base",
     "model_module_version": "1.2.0",
     "model_name": "LayoutModel",
     "state": {
      "_model_module": "@jupyter-widgets/base",
      "_model_module_version": "1.2.0",
      "_model_name": "LayoutModel",
      "_view_count": null,
      "_view_module": "@jupyter-widgets/base",
      "_view_module_version": "1.2.0",
      "_view_name": "LayoutView",
      "align_content": null,
      "align_items": null,
      "align_self": null,
      "border": null,
      "bottom": null,
      "display": null,
      "flex": null,
      "flex_flow": null,
      "grid_area": null,
      "grid_auto_columns": null,
      "grid_auto_flow": null,
      "grid_auto_rows": null,
      "grid_column": null,
      "grid_gap": null,
      "grid_row": null,
      "grid_template_areas": null,
      "grid_template_columns": null,
      "grid_template_rows": null,
      "height": null,
      "justify_content": null,
      "justify_items": null,
      "left": null,
      "margin": null,
      "max_height": null,
      "max_width": null,
      "min_height": null,
      "min_width": null,
      "object_fit": null,
      "object_position": null,
      "order": null,
      "overflow": null,
      "overflow_x": null,
      "overflow_y": null,
      "padding": null,
      "right": null,
      "top": null,
      "visibility": null,
      "width": null
     }
    },
    "74ba473c84034f94b1cb0e183cef82ff": {
     "model_module": "@jupyter-widgets/controls",
     "model_module_version": "1.5.0",
     "model_name": "VBoxModel",
     "state": {
      "_dom_classes": [
       "widget-interact"
      ],
      "_model_module": "@jupyter-widgets/controls",
      "_model_module_version": "1.5.0",
      "_model_name": "VBoxModel",
      "_view_count": null,
      "_view_module": "@jupyter-widgets/controls",
      "_view_module_version": "1.5.0",
      "_view_name": "VBoxView",
      "box_style": "",
      "children": [
       "IPY_MODEL_49106a36238a4fae982b823ce1eda7da",
       "IPY_MODEL_354de118462442139f3b2000beee2aed"
      ],
      "layout": "IPY_MODEL_8df86bf5a87a4b9eaf8e2f520cf93748"
     }
    },
    "7519a0454bd54b07bb0312f00ede31bc": {
     "model_module": "@jupyter-widgets/controls",
     "model_module_version": "1.5.0",
     "model_name": "DescriptionStyleModel",
     "state": {
      "_model_module": "@jupyter-widgets/controls",
      "_model_module_version": "1.5.0",
      "_model_name": "DescriptionStyleModel",
      "_view_count": null,
      "_view_module": "@jupyter-widgets/base",
      "_view_module_version": "1.2.0",
      "_view_name": "StyleView",
      "description_width": "initial"
     }
    },
    "758dec4daf104d4b99cf898c47d98fda": {
     "model_module": "@jupyter-widgets/controls",
     "model_module_version": "1.5.0",
     "model_name": "RadioButtonsModel",
     "state": {
      "_dom_classes": [],
      "_model_module": "@jupyter-widgets/controls",
      "_model_module_version": "1.5.0",
      "_model_name": "RadioButtonsModel",
      "_options_labels": [
       "x-y",
       "y-z",
       "z-x"
      ],
      "_view_count": null,
      "_view_module": "@jupyter-widgets/controls",
      "_view_module_version": "1.5.0",
      "_view_name": "RadioButtonsView",
      "description": "Slice plane selection:",
      "description_tooltip": null,
      "disabled": false,
      "index": 0,
      "layout": "IPY_MODEL_af27644abb4849ac92d8fbd21f65db87",
      "style": "IPY_MODEL_126cb4f29010450e97cebb7cbe4fdef6"
     }
    },
    "76790c4af10f4cfea0278085a0375cc3": {
     "model_module": "@jupyter-widgets/controls",
     "model_module_version": "1.5.0",
     "model_name": "SliderStyleModel",
     "state": {
      "_model_module": "@jupyter-widgets/controls",
      "_model_module_version": "1.5.0",
      "_model_name": "SliderStyleModel",
      "_view_count": null,
      "_view_module": "@jupyter-widgets/base",
      "_view_module_version": "1.2.0",
      "_view_name": "StyleView",
      "description_width": "",
      "handle_color": null
     }
    },
    "772b9a8fd0124cbb9b55960895fc9d0d": {
     "model_module": "@jupyter-widgets/base",
     "model_module_version": "1.2.0",
     "model_name": "LayoutModel",
     "state": {
      "_model_module": "@jupyter-widgets/base",
      "_model_module_version": "1.2.0",
      "_model_name": "LayoutModel",
      "_view_count": null,
      "_view_module": "@jupyter-widgets/base",
      "_view_module_version": "1.2.0",
      "_view_name": "LayoutView",
      "align_content": null,
      "align_items": null,
      "align_self": null,
      "border": null,
      "bottom": null,
      "display": null,
      "flex": null,
      "flex_flow": null,
      "grid_area": null,
      "grid_auto_columns": null,
      "grid_auto_flow": null,
      "grid_auto_rows": null,
      "grid_column": null,
      "grid_gap": null,
      "grid_row": null,
      "grid_template_areas": null,
      "grid_template_columns": null,
      "grid_template_rows": null,
      "height": null,
      "justify_content": null,
      "justify_items": null,
      "left": null,
      "margin": null,
      "max_height": null,
      "max_width": null,
      "min_height": null,
      "min_width": null,
      "object_fit": null,
      "object_position": null,
      "order": null,
      "overflow": null,
      "overflow_x": null,
      "overflow_y": null,
      "padding": null,
      "right": null,
      "top": null,
      "visibility": null,
      "width": null
     }
    },
    "78fffd6ff1de44acae43c8e247046d1f": {
     "model_module": "@jupyter-widgets/base",
     "model_module_version": "1.2.0",
     "model_name": "LayoutModel",
     "state": {
      "_model_module": "@jupyter-widgets/base",
      "_model_module_version": "1.2.0",
      "_model_name": "LayoutModel",
      "_view_count": null,
      "_view_module": "@jupyter-widgets/base",
      "_view_module_version": "1.2.0",
      "_view_name": "LayoutView",
      "align_content": null,
      "align_items": null,
      "align_self": null,
      "border": null,
      "bottom": null,
      "display": null,
      "flex": null,
      "flex_flow": null,
      "grid_area": null,
      "grid_auto_columns": null,
      "grid_auto_flow": null,
      "grid_auto_rows": null,
      "grid_column": null,
      "grid_gap": null,
      "grid_row": null,
      "grid_template_areas": null,
      "grid_template_columns": null,
      "grid_template_rows": null,
      "height": null,
      "justify_content": null,
      "justify_items": null,
      "left": null,
      "margin": null,
      "max_height": null,
      "max_width": null,
      "min_height": null,
      "min_width": null,
      "object_fit": null,
      "object_position": null,
      "order": null,
      "overflow": null,
      "overflow_x": null,
      "overflow_y": null,
      "padding": null,
      "right": null,
      "top": null,
      "visibility": null,
      "width": null
     }
    },
    "7bf77b1532cc472a8a9d372b4d1b0236": {
     "model_module": "@jupyter-widgets/base",
     "model_module_version": "1.2.0",
     "model_name": "LayoutModel",
     "state": {
      "_model_module": "@jupyter-widgets/base",
      "_model_module_version": "1.2.0",
      "_model_name": "LayoutModel",
      "_view_count": null,
      "_view_module": "@jupyter-widgets/base",
      "_view_module_version": "1.2.0",
      "_view_name": "LayoutView",
      "align_content": null,
      "align_items": null,
      "align_self": null,
      "border": null,
      "bottom": null,
      "display": null,
      "flex": null,
      "flex_flow": null,
      "grid_area": null,
      "grid_auto_columns": null,
      "grid_auto_flow": null,
      "grid_auto_rows": null,
      "grid_column": null,
      "grid_gap": null,
      "grid_row": null,
      "grid_template_areas": null,
      "grid_template_columns": null,
      "grid_template_rows": null,
      "height": null,
      "justify_content": null,
      "justify_items": null,
      "left": null,
      "margin": null,
      "max_height": null,
      "max_width": null,
      "min_height": null,
      "min_width": null,
      "object_fit": null,
      "object_position": null,
      "order": null,
      "overflow": null,
      "overflow_x": null,
      "overflow_y": null,
      "padding": null,
      "right": null,
      "top": null,
      "visibility": null,
      "width": null
     }
    },
    "7c9742107c2342099190eaa0e043ef43": {
     "model_module": "@jupyter-widgets/controls",
     "model_module_version": "1.5.0",
     "model_name": "IntSliderModel",
     "state": {
      "_dom_classes": [],
      "_model_module": "@jupyter-widgets/controls",
      "_model_module_version": "1.5.0",
      "_model_name": "IntSliderModel",
      "_view_count": null,
      "_view_module": "@jupyter-widgets/controls",
      "_view_module_version": "1.5.0",
      "_view_name": "IntSliderView",
      "continuous_update": false,
      "description": "Image Slice:",
      "description_tooltip": null,
      "disabled": false,
      "layout": "IPY_MODEL_d50fdf20df1a4db1aef1690ecc3c7e30",
      "max": 63,
      "min": 0,
      "orientation": "horizontal",
      "readout": true,
      "readout_format": "d",
      "step": 1,
      "style": "IPY_MODEL_f94b216f4bc545fdb9c762bbdd8f1b8d",
      "value": 20
     }
    },
    "83eab02302b74604bb3cbecb90febb46": {
     "model_module": "@jupyter-widgets/output",
     "model_module_version": "1.0.0",
     "model_name": "OutputModel",
     "state": {
      "_dom_classes": [],
      "_model_module": "@jupyter-widgets/output",
      "_model_module_version": "1.0.0",
      "_model_name": "OutputModel",
      "_view_count": null,
      "_view_module": "@jupyter-widgets/output",
      "_view_module_version": "1.0.0",
      "_view_name": "OutputView",
      "layout": "IPY_MODEL_1e363058a8bc42b7b2130efb03cc2935",
      "msg_id": "",
      "outputs": [
       {
        "image/png": "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\n",
        "metadata": {
         "needs_background": "light",
         "tags": []
        },
        "output_type": "display_data",
        "text/plain": "<Figure size 216x216 with 1 Axes>"
       }
      ]
     }
    },
    "84cf2627a6c54b7a92dbac2dd7d78375": {
     "model_module": "@jupyter-widgets/controls",
     "model_module_version": "1.5.0",
     "model_name": "SliderStyleModel",
     "state": {
      "_model_module": "@jupyter-widgets/controls",
      "_model_module_version": "1.5.0",
      "_model_name": "SliderStyleModel",
      "_view_count": null,
      "_view_module": "@jupyter-widgets/base",
      "_view_module_version": "1.2.0",
      "_view_name": "StyleView",
      "description_width": "",
      "handle_color": null
     }
    },
    "8a3e1ba45a264b43b87bed9b78151571": {
     "model_module": "@jupyter-widgets/base",
     "model_module_version": "1.2.0",
     "model_name": "LayoutModel",
     "state": {
      "_model_module": "@jupyter-widgets/base",
      "_model_module_version": "1.2.0",
      "_model_name": "LayoutModel",
      "_view_count": null,
      "_view_module": "@jupyter-widgets/base",
      "_view_module_version": "1.2.0",
      "_view_name": "LayoutView",
      "align_content": null,
      "align_items": null,
      "align_self": null,
      "border": null,
      "bottom": null,
      "display": null,
      "flex": null,
      "flex_flow": null,
      "grid_area": null,
      "grid_auto_columns": null,
      "grid_auto_flow": null,
      "grid_auto_rows": null,
      "grid_column": null,
      "grid_gap": null,
      "grid_row": null,
      "grid_template_areas": null,
      "grid_template_columns": null,
      "grid_template_rows": null,
      "height": null,
      "justify_content": null,
      "justify_items": null,
      "left": null,
      "margin": null,
      "max_height": null,
      "max_width": null,
      "min_height": null,
      "min_width": null,
      "object_fit": null,
      "object_position": null,
      "order": null,
      "overflow": null,
      "overflow_x": null,
      "overflow_y": null,
      "padding": null,
      "right": null,
      "top": null,
      "visibility": null,
      "width": null
     }
    },
    "8df86bf5a87a4b9eaf8e2f520cf93748": {
     "model_module": "@jupyter-widgets/base",
     "model_module_version": "1.2.0",
     "model_name": "LayoutModel",
     "state": {
      "_model_module": "@jupyter-widgets/base",
      "_model_module_version": "1.2.0",
      "_model_name": "LayoutModel",
      "_view_count": null,
      "_view_module": "@jupyter-widgets/base",
      "_view_module_version": "1.2.0",
      "_view_name": "LayoutView",
      "align_content": null,
      "align_items": null,
      "align_self": null,
      "border": null,
      "bottom": null,
      "display": null,
      "flex": null,
      "flex_flow": null,
      "grid_area": null,
      "grid_auto_columns": null,
      "grid_auto_flow": null,
      "grid_auto_rows": null,
      "grid_column": null,
      "grid_gap": null,
      "grid_row": null,
      "grid_template_areas": null,
      "grid_template_columns": null,
      "grid_template_rows": null,
      "height": null,
      "justify_content": null,
      "justify_items": null,
      "left": null,
      "margin": null,
      "max_height": null,
      "max_width": null,
      "min_height": null,
      "min_width": null,
      "object_fit": null,
      "object_position": null,
      "order": null,
      "overflow": null,
      "overflow_x": null,
      "overflow_y": null,
      "padding": null,
      "right": null,
      "top": null,
      "visibility": null,
      "width": null
     }
    },
    "93764e4250f04614a497ec30b50f1769": {
     "model_module": "@jupyter-widgets/controls",
     "model_module_version": "1.5.0",
     "model_name": "VBoxModel",
     "state": {
      "_dom_classes": [
       "widget-interact"
      ],
      "_model_module": "@jupyter-widgets/controls",
      "_model_module_version": "1.5.0",
      "_model_name": "VBoxModel",
      "_view_count": null,
      "_view_module": "@jupyter-widgets/controls",
      "_view_module_version": "1.5.0",
      "_view_name": "VBoxView",
      "box_style": "",
      "children": [
       "IPY_MODEL_f44a735bcc224affb55dcc0b625dd278",
       "IPY_MODEL_b9452b27dc2043e6a44af1f8a993a8a0"
      ],
      "layout": "IPY_MODEL_6d4c513dd3d7492aba9aea962651c537"
     }
    },
    "986ab52348f34a96bb769db5468766f9": {
     "model_module": "@jupyter-widgets/base",
     "model_module_version": "1.2.0",
     "model_name": "LayoutModel",
     "state": {
      "_model_module": "@jupyter-widgets/base",
      "_model_module_version": "1.2.0",
      "_model_name": "LayoutModel",
      "_view_count": null,
      "_view_module": "@jupyter-widgets/base",
      "_view_module_version": "1.2.0",
      "_view_name": "LayoutView",
      "align_content": null,
      "align_items": null,
      "align_self": null,
      "border": null,
      "bottom": null,
      "display": null,
      "flex": null,
      "flex_flow": null,
      "grid_area": null,
      "grid_auto_columns": null,
      "grid_auto_flow": null,
      "grid_auto_rows": null,
      "grid_column": null,
      "grid_gap": null,
      "grid_row": null,
      "grid_template_areas": null,
      "grid_template_columns": null,
      "grid_template_rows": null,
      "height": null,
      "justify_content": null,
      "justify_items": null,
      "left": null,
      "margin": null,
      "max_height": null,
      "max_width": null,
      "min_height": null,
      "min_width": null,
      "object_fit": null,
      "object_position": null,
      "order": null,
      "overflow": null,
      "overflow_x": null,
      "overflow_y": null,
      "padding": null,
      "right": null,
      "top": null,
      "visibility": null,
      "width": null
     }
    },
    "9c6bdbce12b14cec8cf1bdcc58abbc14": {
     "model_module": "@jupyter-widgets/output",
     "model_module_version": "1.0.0",
     "model_name": "OutputModel",
     "state": {
      "_dom_classes": [],
      "_model_module": "@jupyter-widgets/output",
      "_model_module_version": "1.0.0",
      "_model_name": "OutputModel",
      "_view_count": null,
      "_view_module": "@jupyter-widgets/output",
      "_view_module_version": "1.0.0",
      "_view_name": "OutputView",
      "layout": "IPY_MODEL_d843965d94114e28bf6ec7c29007c163",
      "msg_id": "",
      "outputs": [
       {
        "application/vnd.jupyter.widget-view+json": {
         "model_id": "b0b9d867bd10407194f3ecdd46237606",
         "version_major": 2,
         "version_minor": 0
        },
        "metadata": {
         "tags": []
        },
        "output_type": "display_data",
        "text/plain": "interactive(children=(IntSlider(value=0, continuous_update=False, description='Image Slice:', max=63), Output(…"
       }
      ]
     }
    },
    "a073f8bd0aaa4d93b7709e06fa96993b": {
     "model_module": "@jupyter-widgets/base",
     "model_module_version": "1.2.0",
     "model_name": "LayoutModel",
     "state": {
      "_model_module": "@jupyter-widgets/base",
      "_model_module_version": "1.2.0",
      "_model_name": "LayoutModel",
      "_view_count": null,
      "_view_module": "@jupyter-widgets/base",
      "_view_module_version": "1.2.0",
      "_view_name": "LayoutView",
      "align_content": null,
      "align_items": null,
      "align_self": null,
      "border": null,
      "bottom": null,
      "display": null,
      "flex": null,
      "flex_flow": null,
      "grid_area": null,
      "grid_auto_columns": null,
      "grid_auto_flow": null,
      "grid_auto_rows": null,
      "grid_column": null,
      "grid_gap": null,
      "grid_row": null,
      "grid_template_areas": null,
      "grid_template_columns": null,
      "grid_template_rows": null,
      "height": null,
      "justify_content": null,
      "justify_items": null,
      "left": null,
      "margin": null,
      "max_height": null,
      "max_width": null,
      "min_height": null,
      "min_width": null,
      "object_fit": null,
      "object_position": null,
      "order": null,
      "overflow": null,
      "overflow_x": null,
      "overflow_y": null,
      "padding": null,
      "right": null,
      "top": null,
      "visibility": null,
      "width": null
     }
    },
    "a30d1749347245f6bb989a85adae0db1": {
     "model_module": "@jupyter-widgets/controls",
     "model_module_version": "1.5.0",
     "model_name": "IntSliderModel",
     "state": {
      "_dom_classes": [],
      "_model_module": "@jupyter-widgets/controls",
      "_model_module_version": "1.5.0",
      "_model_name": "IntSliderModel",
      "_view_count": null,
      "_view_module": "@jupyter-widgets/controls",
      "_view_module_version": "1.5.0",
      "_view_name": "IntSliderView",
      "continuous_update": false,
      "description": "Image Slice:",
      "description_tooltip": null,
      "disabled": false,
      "layout": "IPY_MODEL_a073f8bd0aaa4d93b7709e06fa96993b",
      "max": 63,
      "min": 0,
      "orientation": "horizontal",
      "readout": true,
      "readout_format": "d",
      "step": 1,
      "style": "IPY_MODEL_84cf2627a6c54b7a92dbac2dd7d78375",
      "value": 0
     }
    },
    "a74b341fa58947ecba17985e7313aa5e": {
     "model_module": "@jupyter-widgets/base",
     "model_module_version": "1.2.0",
     "model_name": "LayoutModel",
     "state": {
      "_model_module": "@jupyter-widgets/base",
      "_model_module_version": "1.2.0",
      "_model_name": "LayoutModel",
      "_view_count": null,
      "_view_module": "@jupyter-widgets/base",
      "_view_module_version": "1.2.0",
      "_view_name": "LayoutView",
      "align_content": null,
      "align_items": null,
      "align_self": null,
      "border": null,
      "bottom": null,
      "display": null,
      "flex": null,
      "flex_flow": null,
      "grid_area": null,
      "grid_auto_columns": null,
      "grid_auto_flow": null,
      "grid_auto_rows": null,
      "grid_column": null,
      "grid_gap": null,
      "grid_row": null,
      "grid_template_areas": null,
      "grid_template_columns": null,
      "grid_template_rows": null,
      "height": null,
      "justify_content": null,
      "justify_items": null,
      "left": null,
      "margin": null,
      "max_height": null,
      "max_width": null,
      "min_height": null,
      "min_width": null,
      "object_fit": null,
      "object_position": null,
      "order": null,
      "overflow": null,
      "overflow_x": null,
      "overflow_y": null,
      "padding": null,
      "right": null,
      "top": null,
      "visibility": null,
      "width": null
     }
    },
    "aca0403fc6484843bb5f2189550e170b": {
     "model_module": "@jupyter-widgets/controls",
     "model_module_version": "1.5.0",
     "model_name": "RadioButtonsModel",
     "state": {
      "_dom_classes": [],
      "_model_module": "@jupyter-widgets/controls",
      "_model_module_version": "1.5.0",
      "_model_name": "RadioButtonsModel",
      "_options_labels": [
       "x-y",
       "y-z",
       "z-x"
      ],
      "_view_count": null,
      "_view_module": "@jupyter-widgets/controls",
      "_view_module_version": "1.5.0",
      "_view_name": "RadioButtonsView",
      "description": "Slice plane selection:",
      "description_tooltip": null,
      "disabled": false,
      "index": 0,
      "layout": "IPY_MODEL_375a1a180e3f4c84a75a0fae342d8990",
      "style": "IPY_MODEL_d4e187ce56114d6eb19c49c493304c55"
     }
    },
    "af27644abb4849ac92d8fbd21f65db87": {
     "model_module": "@jupyter-widgets/base",
     "model_module_version": "1.2.0",
     "model_name": "LayoutModel",
     "state": {
      "_model_module": "@jupyter-widgets/base",
      "_model_module_version": "1.2.0",
      "_model_name": "LayoutModel",
      "_view_count": null,
      "_view_module": "@jupyter-widgets/base",
      "_view_module_version": "1.2.0",
      "_view_name": "LayoutView",
      "align_content": null,
      "align_items": null,
      "align_self": null,
      "border": null,
      "bottom": null,
      "display": null,
      "flex": null,
      "flex_flow": null,
      "grid_area": null,
      "grid_auto_columns": null,
      "grid_auto_flow": null,
      "grid_auto_rows": null,
      "grid_column": null,
      "grid_gap": null,
      "grid_row": null,
      "grid_template_areas": null,
      "grid_template_columns": null,
      "grid_template_rows": null,
      "height": null,
      "justify_content": null,
      "justify_items": null,
      "left": null,
      "margin": null,
      "max_height": null,
      "max_width": null,
      "min_height": null,
      "min_width": null,
      "object_fit": null,
      "object_position": null,
      "order": null,
      "overflow": null,
      "overflow_x": null,
      "overflow_y": null,
      "padding": null,
      "right": null,
      "top": null,
      "visibility": null,
      "width": null
     }
    },
    "b0b9d867bd10407194f3ecdd46237606": {
     "model_module": "@jupyter-widgets/controls",
     "model_module_version": "1.5.0",
     "model_name": "VBoxModel",
     "state": {
      "_dom_classes": [
       "widget-interact"
      ],
      "_model_module": "@jupyter-widgets/controls",
      "_model_module_version": "1.5.0",
      "_model_name": "VBoxModel",
      "_view_count": null,
      "_view_module": "@jupyter-widgets/controls",
      "_view_module_version": "1.5.0",
      "_view_name": "VBoxView",
      "box_style": "",
      "children": [
       "IPY_MODEL_44d9fe5e09814fb4945d082640f67555",
       "IPY_MODEL_83eab02302b74604bb3cbecb90febb46"
      ],
      "layout": "IPY_MODEL_e4c2ca1b853047c8a46220628b2beade"
     }
    },
    "b0dad19f72a64341b33b847b92d8b579": {
     "model_module": "@jupyter-widgets/base",
     "model_module_version": "1.2.0",
     "model_name": "LayoutModel",
     "state": {
      "_model_module": "@jupyter-widgets/base",
      "_model_module_version": "1.2.0",
      "_model_name": "LayoutModel",
      "_view_count": null,
      "_view_module": "@jupyter-widgets/base",
      "_view_module_version": "1.2.0",
      "_view_name": "LayoutView",
      "align_content": null,
      "align_items": null,
      "align_self": null,
      "border": null,
      "bottom": null,
      "display": null,
      "flex": null,
      "flex_flow": null,
      "grid_area": null,
      "grid_auto_columns": null,
      "grid_auto_flow": null,
      "grid_auto_rows": null,
      "grid_column": null,
      "grid_gap": null,
      "grid_row": null,
      "grid_template_areas": null,
      "grid_template_columns": null,
      "grid_template_rows": null,
      "height": null,
      "justify_content": null,
      "justify_items": null,
      "left": null,
      "margin": null,
      "max_height": null,
      "max_width": null,
      "min_height": null,
      "min_width": null,
      "object_fit": null,
      "object_position": null,
      "order": null,
      "overflow": null,
      "overflow_x": null,
      "overflow_y": null,
      "padding": null,
      "right": null,
      "top": null,
      "visibility": null,
      "width": null
     }
    },
    "b3b0e74dc78847bea77e1aa39d80d6aa": {
     "model_module": "@jupyter-widgets/controls",
     "model_module_version": "1.5.0",
     "model_name": "VBoxModel",
     "state": {
      "_dom_classes": [
       "widget-interact"
      ],
      "_model_module": "@jupyter-widgets/controls",
      "_model_module_version": "1.5.0",
      "_model_name": "VBoxModel",
      "_view_count": null,
      "_view_module": "@jupyter-widgets/controls",
      "_view_module_version": "1.5.0",
      "_view_name": "VBoxView",
      "box_style": "",
      "children": [
       "IPY_MODEL_22aaad7571894df581f419b7a70199ca",
       "IPY_MODEL_0bde91469ab64c9185ef40b8a69b292e"
      ],
      "layout": "IPY_MODEL_b0dad19f72a64341b33b847b92d8b579"
     }
    },
    "b6dae5055d1a433089e34a4a77f18aa6": {
     "model_module": "@jupyter-widgets/controls",
     "model_module_version": "1.5.0",
     "model_name": "VBoxModel",
     "state": {
      "_dom_classes": [
       "widget-interact"
      ],
      "_model_module": "@jupyter-widgets/controls",
      "_model_module_version": "1.5.0",
      "_model_name": "VBoxModel",
      "_view_count": null,
      "_view_module": "@jupyter-widgets/controls",
      "_view_module_version": "1.5.0",
      "_view_name": "VBoxView",
      "box_style": "",
      "children": [
       "IPY_MODEL_2c2c1d1ce993441788156a5f1ba88264",
       "IPY_MODEL_c95e40235f1d4cc397b867325937ea78"
      ],
      "layout": "IPY_MODEL_f87c8600667d4516966857ffe5f15faa"
     }
    },
    "b9452b27dc2043e6a44af1f8a993a8a0": {
     "model_module": "@jupyter-widgets/output",
     "model_module_version": "1.0.0",
     "model_name": "OutputModel",
     "state": {
      "_dom_classes": [],
      "_model_module": "@jupyter-widgets/output",
      "_model_module_version": "1.0.0",
      "_model_name": "OutputModel",
      "_view_count": null,
      "_view_module": "@jupyter-widgets/output",
      "_view_module_version": "1.0.0",
      "_view_name": "OutputView",
      "layout": "IPY_MODEL_5be4179bdf3d4160a1ca2bf3d4f0a942",
      "msg_id": "",
      "outputs": [
       {
        "application/vnd.jupyter.widget-view+json": {
         "model_id": "b6dae5055d1a433089e34a4a77f18aa6",
         "version_major": 2,
         "version_minor": 0
        },
        "metadata": {
         "tags": []
        },
        "output_type": "display_data",
        "text/plain": "interactive(children=(IntSlider(value=0, continuous_update=False, description='Image Slice:', max=63), Output(…"
       }
      ]
     }
    },
    "bc4f1b4dfe474ee8a331f53911afbdf3": {
     "model_module": "@jupyter-widgets/controls",
     "model_module_version": "1.5.0",
     "model_name": "SliderStyleModel",
     "state": {
      "_model_module": "@jupyter-widgets/controls",
      "_model_module_version": "1.5.0",
      "_model_name": "SliderStyleModel",
      "_view_count": null,
      "_view_module": "@jupyter-widgets/base",
      "_view_module_version": "1.2.0",
      "_view_name": "StyleView",
      "description_width": "",
      "handle_color": null
     }
    },
    "c7892a0f60c049f5894fccf610d7b9d5": {
     "model_module": "@jupyter-widgets/controls",
     "model_module_version": "1.5.0",
     "model_name": "VBoxModel",
     "state": {
      "_dom_classes": [
       "widget-interact"
      ],
      "_model_module": "@jupyter-widgets/controls",
      "_model_module_version": "1.5.0",
      "_model_name": "VBoxModel",
      "_view_count": null,
      "_view_module": "@jupyter-widgets/controls",
      "_view_module_version": "1.5.0",
      "_view_name": "VBoxView",
      "box_style": "",
      "children": [
       "IPY_MODEL_758dec4daf104d4b99cf898c47d98fda",
       "IPY_MODEL_cb767a4036884ba59d728bb54c3931ca"
      ],
      "layout": "IPY_MODEL_c78989532492484fa688951d6f2fab2f"
     }
    },
    "c78989532492484fa688951d6f2fab2f": {
     "model_module": "@jupyter-widgets/base",
     "model_module_version": "1.2.0",
     "model_name": "LayoutModel",
     "state": {
      "_model_module": "@jupyter-widgets/base",
      "_model_module_version": "1.2.0",
      "_model_name": "LayoutModel",
      "_view_count": null,
      "_view_module": "@jupyter-widgets/base",
      "_view_module_version": "1.2.0",
      "_view_name": "LayoutView",
      "align_content": null,
      "align_items": null,
      "align_self": null,
      "border": null,
      "bottom": null,
      "display": null,
      "flex": null,
      "flex_flow": null,
      "grid_area": null,
      "grid_auto_columns": null,
      "grid_auto_flow": null,
      "grid_auto_rows": null,
      "grid_column": null,
      "grid_gap": null,
      "grid_row": null,
      "grid_template_areas": null,
      "grid_template_columns": null,
      "grid_template_rows": null,
      "height": null,
      "justify_content": null,
      "justify_items": null,
      "left": null,
      "margin": null,
      "max_height": null,
      "max_width": null,
      "min_height": null,
      "min_width": null,
      "object_fit": null,
      "object_position": null,
      "order": null,
      "overflow": null,
      "overflow_x": null,
      "overflow_y": null,
      "padding": null,
      "right": null,
      "top": null,
      "visibility": null,
      "width": null
     }
    },
    "c95e40235f1d4cc397b867325937ea78": {
     "model_module": "@jupyter-widgets/output",
     "model_module_version": "1.0.0",
     "model_name": "OutputModel",
     "state": {
      "_dom_classes": [],
      "_model_module": "@jupyter-widgets/output",
      "_model_module_version": "1.0.0",
      "_model_name": "OutputModel",
      "_view_count": null,
      "_view_module": "@jupyter-widgets/output",
      "_view_module_version": "1.0.0",
      "_view_name": "OutputView",
      "layout": "IPY_MODEL_06e85340a7d64d5381c54e6e806f1d07",
      "msg_id": "",
      "outputs": [
       {
        "image/png": "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\n",
        "metadata": {
         "needs_background": "light",
         "tags": []
        },
        "output_type": "display_data",
        "text/plain": "<Figure size 216x216 with 1 Axes>"
       }
      ]
     }
    },
    "cb767a4036884ba59d728bb54c3931ca": {
     "model_module": "@jupyter-widgets/output",
     "model_module_version": "1.0.0",
     "model_name": "OutputModel",
     "state": {
      "_dom_classes": [],
      "_model_module": "@jupyter-widgets/output",
      "_model_module_version": "1.0.0",
      "_model_name": "OutputModel",
      "_view_count": null,
      "_view_module": "@jupyter-widgets/output",
      "_view_module_version": "1.0.0",
      "_view_name": "OutputView",
      "layout": "IPY_MODEL_986ab52348f34a96bb769db5468766f9",
      "msg_id": "",
      "outputs": [
       {
        "application/vnd.jupyter.widget-view+json": {
         "model_id": "48612f40419b441b80d69525d643f201",
         "version_major": 2,
         "version_minor": 0
        },
        "metadata": {
         "tags": []
        },
        "output_type": "display_data",
        "text/plain": "interactive(children=(IntSlider(value=0, continuous_update=False, description='Image Slice:', max=63), Output(…"
       }
      ]
     }
    },
    "ccab16b1101d4e6eb8fa8b6f13a73bec": {
     "model_module": "@jupyter-widgets/base",
     "model_module_version": "1.2.0",
     "model_name": "LayoutModel",
     "state": {
      "_model_module": "@jupyter-widgets/base",
      "_model_module_version": "1.2.0",
      "_model_name": "LayoutModel",
      "_view_count": null,
      "_view_module": "@jupyter-widgets/base",
      "_view_module_version": "1.2.0",
      "_view_name": "LayoutView",
      "align_content": null,
      "align_items": null,
      "align_self": null,
      "border": null,
      "bottom": null,
      "display": null,
      "flex": null,
      "flex_flow": null,
      "grid_area": null,
      "grid_auto_columns": null,
      "grid_auto_flow": null,
      "grid_auto_rows": null,
      "grid_column": null,
      "grid_gap": null,
      "grid_row": null,
      "grid_template_areas": null,
      "grid_template_columns": null,
      "grid_template_rows": null,
      "height": null,
      "justify_content": null,
      "justify_items": null,
      "left": null,
      "margin": null,
      "max_height": null,
      "max_width": null,
      "min_height": null,
      "min_width": null,
      "object_fit": null,
      "object_position": null,
      "order": null,
      "overflow": null,
      "overflow_x": null,
      "overflow_y": null,
      "padding": null,
      "right": null,
      "top": null,
      "visibility": null,
      "width": null
     }
    },
    "d222762b1e0e453da158208f3825236e": {
     "model_module": "@jupyter-widgets/controls",
     "model_module_version": "1.5.0",
     "model_name": "DescriptionStyleModel",
     "state": {
      "_model_module": "@jupyter-widgets/controls",
      "_model_module_version": "1.5.0",
      "_model_name": "DescriptionStyleModel",
      "_view_count": null,
      "_view_module": "@jupyter-widgets/base",
      "_view_module_version": "1.2.0",
      "_view_name": "StyleView",
      "description_width": "initial"
     }
    },
    "d4e187ce56114d6eb19c49c493304c55": {
     "model_module": "@jupyter-widgets/controls",
     "model_module_version": "1.5.0",
     "model_name": "DescriptionStyleModel",
     "state": {
      "_model_module": "@jupyter-widgets/controls",
      "_model_module_version": "1.5.0",
      "_model_name": "DescriptionStyleModel",
      "_view_count": null,
      "_view_module": "@jupyter-widgets/base",
      "_view_module_version": "1.2.0",
      "_view_name": "StyleView",
      "description_width": "initial"
     }
    },
    "d50fdf20df1a4db1aef1690ecc3c7e30": {
     "model_module": "@jupyter-widgets/base",
     "model_module_version": "1.2.0",
     "model_name": "LayoutModel",
     "state": {
      "_model_module": "@jupyter-widgets/base",
      "_model_module_version": "1.2.0",
      "_model_name": "LayoutModel",
      "_view_count": null,
      "_view_module": "@jupyter-widgets/base",
      "_view_module_version": "1.2.0",
      "_view_name": "LayoutView",
      "align_content": null,
      "align_items": null,
      "align_self": null,
      "border": null,
      "bottom": null,
      "display": null,
      "flex": null,
      "flex_flow": null,
      "grid_area": null,
      "grid_auto_columns": null,
      "grid_auto_flow": null,
      "grid_auto_rows": null,
      "grid_column": null,
      "grid_gap": null,
      "grid_row": null,
      "grid_template_areas": null,
      "grid_template_columns": null,
      "grid_template_rows": null,
      "height": null,
      "justify_content": null,
      "justify_items": null,
      "left": null,
      "margin": null,
      "max_height": null,
      "max_width": null,
      "min_height": null,
      "min_width": null,
      "object_fit": null,
      "object_position": null,
      "order": null,
      "overflow": null,
      "overflow_x": null,
      "overflow_y": null,
      "padding": null,
      "right": null,
      "top": null,
      "visibility": null,
      "width": null
     }
    },
    "d843965d94114e28bf6ec7c29007c163": {
     "model_module": "@jupyter-widgets/base",
     "model_module_version": "1.2.0",
     "model_name": "LayoutModel",
     "state": {
      "_model_module": "@jupyter-widgets/base",
      "_model_module_version": "1.2.0",
      "_model_name": "LayoutModel",
      "_view_count": null,
      "_view_module": "@jupyter-widgets/base",
      "_view_module_version": "1.2.0",
      "_view_name": "LayoutView",
      "align_content": null,
      "align_items": null,
      "align_self": null,
      "border": null,
      "bottom": null,
      "display": null,
      "flex": null,
      "flex_flow": null,
      "grid_area": null,
      "grid_auto_columns": null,
      "grid_auto_flow": null,
      "grid_auto_rows": null,
      "grid_column": null,
      "grid_gap": null,
      "grid_row": null,
      "grid_template_areas": null,
      "grid_template_columns": null,
      "grid_template_rows": null,
      "height": null,
      "justify_content": null,
      "justify_items": null,
      "left": null,
      "margin": null,
      "max_height": null,
      "max_width": null,
      "min_height": null,
      "min_width": null,
      "object_fit": null,
      "object_position": null,
      "order": null,
      "overflow": null,
      "overflow_x": null,
      "overflow_y": null,
      "padding": null,
      "right": null,
      "top": null,
      "visibility": null,
      "width": null
     }
    },
    "e1154294ded84cec870dbd6316b0923f": {
     "model_module": "@jupyter-widgets/controls",
     "model_module_version": "1.5.0",
     "model_name": "IntSliderModel",
     "state": {
      "_dom_classes": [],
      "_model_module": "@jupyter-widgets/controls",
      "_model_module_version": "1.5.0",
      "_model_name": "IntSliderModel",
      "_view_count": null,
      "_view_module": "@jupyter-widgets/controls",
      "_view_module_version": "1.5.0",
      "_view_name": "IntSliderView",
      "continuous_update": false,
      "description": "Image Slice:",
      "description_tooltip": null,
      "disabled": false,
      "layout": "IPY_MODEL_7bf77b1532cc472a8a9d372b4d1b0236",
      "max": 63,
      "min": 0,
      "orientation": "horizontal",
      "readout": true,
      "readout_format": "d",
      "step": 1,
      "style": "IPY_MODEL_76790c4af10f4cfea0278085a0375cc3",
      "value": 25
     }
    },
    "e4c2ca1b853047c8a46220628b2beade": {
     "model_module": "@jupyter-widgets/base",
     "model_module_version": "1.2.0",
     "model_name": "LayoutModel",
     "state": {
      "_model_module": "@jupyter-widgets/base",
      "_model_module_version": "1.2.0",
      "_model_name": "LayoutModel",
      "_view_count": null,
      "_view_module": "@jupyter-widgets/base",
      "_view_module_version": "1.2.0",
      "_view_name": "LayoutView",
      "align_content": null,
      "align_items": null,
      "align_self": null,
      "border": null,
      "bottom": null,
      "display": null,
      "flex": null,
      "flex_flow": null,
      "grid_area": null,
      "grid_auto_columns": null,
      "grid_auto_flow": null,
      "grid_auto_rows": null,
      "grid_column": null,
      "grid_gap": null,
      "grid_row": null,
      "grid_template_areas": null,
      "grid_template_columns": null,
      "grid_template_rows": null,
      "height": null,
      "justify_content": null,
      "justify_items": null,
      "left": null,
      "margin": null,
      "max_height": null,
      "max_width": null,
      "min_height": null,
      "min_width": null,
      "object_fit": null,
      "object_position": null,
      "order": null,
      "overflow": null,
      "overflow_x": null,
      "overflow_y": null,
      "padding": null,
      "right": null,
      "top": null,
      "visibility": null,
      "width": null
     }
    },
    "f1e57a1ae3234e25ba173e35f04927f6": {
     "model_module": "@jupyter-widgets/base",
     "model_module_version": "1.2.0",
     "model_name": "LayoutModel",
     "state": {
      "_model_module": "@jupyter-widgets/base",
      "_model_module_version": "1.2.0",
      "_model_name": "LayoutModel",
      "_view_count": null,
      "_view_module": "@jupyter-widgets/base",
      "_view_module_version": "1.2.0",
      "_view_name": "LayoutView",
      "align_content": null,
      "align_items": null,
      "align_self": null,
      "border": null,
      "bottom": null,
      "display": null,
      "flex": null,
      "flex_flow": null,
      "grid_area": null,
      "grid_auto_columns": null,
      "grid_auto_flow": null,
      "grid_auto_rows": null,
      "grid_column": null,
      "grid_gap": null,
      "grid_row": null,
      "grid_template_areas": null,
      "grid_template_columns": null,
      "grid_template_rows": null,
      "height": null,
      "justify_content": null,
      "justify_items": null,
      "left": null,
      "margin": null,
      "max_height": null,
      "max_width": null,
      "min_height": null,
      "min_width": null,
      "object_fit": null,
      "object_position": null,
      "order": null,
      "overflow": null,
      "overflow_x": null,
      "overflow_y": null,
      "padding": null,
      "right": null,
      "top": null,
      "visibility": null,
      "width": null
     }
    },
    "f44a735bcc224affb55dcc0b625dd278": {
     "model_module": "@jupyter-widgets/controls",
     "model_module_version": "1.5.0",
     "model_name": "RadioButtonsModel",
     "state": {
      "_dom_classes": [],
      "_model_module": "@jupyter-widgets/controls",
      "_model_module_version": "1.5.0",
      "_model_name": "RadioButtonsModel",
      "_options_labels": [
       "x-y",
       "y-z",
       "z-x"
      ],
      "_view_count": null,
      "_view_module": "@jupyter-widgets/controls",
      "_view_module_version": "1.5.0",
      "_view_name": "RadioButtonsView",
      "description": "Slice plane selection:",
      "description_tooltip": null,
      "disabled": false,
      "index": 0,
      "layout": "IPY_MODEL_a74b341fa58947ecba17985e7313aa5e",
      "style": "IPY_MODEL_483a5546eb684dcbb934df082f9f64b8"
     }
    },
    "f76653c34d9646a385ef1e8b224247b9": {
     "model_module": "@jupyter-widgets/base",
     "model_module_version": "1.2.0",
     "model_name": "LayoutModel",
     "state": {
      "_model_module": "@jupyter-widgets/base",
      "_model_module_version": "1.2.0",
      "_model_name": "LayoutModel",
      "_view_count": null,
      "_view_module": "@jupyter-widgets/base",
      "_view_module_version": "1.2.0",
      "_view_name": "LayoutView",
      "align_content": null,
      "align_items": null,
      "align_self": null,
      "border": null,
      "bottom": null,
      "display": null,
      "flex": null,
      "flex_flow": null,
      "grid_area": null,
      "grid_auto_columns": null,
      "grid_auto_flow": null,
      "grid_auto_rows": null,
      "grid_column": null,
      "grid_gap": null,
      "grid_row": null,
      "grid_template_areas": null,
      "grid_template_columns": null,
      "grid_template_rows": null,
      "height": null,
      "justify_content": null,
      "justify_items": null,
      "left": null,
      "margin": null,
      "max_height": null,
      "max_width": null,
      "min_height": null,
      "min_width": null,
      "object_fit": null,
      "object_position": null,
      "order": null,
      "overflow": null,
      "overflow_x": null,
      "overflow_y": null,
      "padding": null,
      "right": null,
      "top": null,
      "visibility": null,
      "width": null
     }
    },
    "f87c8600667d4516966857ffe5f15faa": {
     "model_module": "@jupyter-widgets/base",
     "model_module_version": "1.2.0",
     "model_name": "LayoutModel",
     "state": {
      "_model_module": "@jupyter-widgets/base",
      "_model_module_version": "1.2.0",
      "_model_name": "LayoutModel",
      "_view_count": null,
      "_view_module": "@jupyter-widgets/base",
      "_view_module_version": "1.2.0",
      "_view_name": "LayoutView",
      "align_content": null,
      "align_items": null,
      "align_self": null,
      "border": null,
      "bottom": null,
      "display": null,
      "flex": null,
      "flex_flow": null,
      "grid_area": null,
      "grid_auto_columns": null,
      "grid_auto_flow": null,
      "grid_auto_rows": null,
      "grid_column": null,
      "grid_gap": null,
      "grid_row": null,
      "grid_template_areas": null,
      "grid_template_columns": null,
      "grid_template_rows": null,
      "height": null,
      "justify_content": null,
      "justify_items": null,
      "left": null,
      "margin": null,
      "max_height": null,
      "max_width": null,
      "min_height": null,
      "min_width": null,
      "object_fit": null,
      "object_position": null,
      "order": null,
      "overflow": null,
      "overflow_x": null,
      "overflow_y": null,
      "padding": null,
      "right": null,
      "top": null,
      "visibility": null,
      "width": null
     }
    },
    "f94b216f4bc545fdb9c762bbdd8f1b8d": {
     "model_module": "@jupyter-widgets/controls",
     "model_module_version": "1.5.0",
     "model_name": "SliderStyleModel",
     "state": {
      "_model_module": "@jupyter-widgets/controls",
      "_model_module_version": "1.5.0",
      "_model_name": "SliderStyleModel",
      "_view_count": null,
      "_view_module": "@jupyter-widgets/base",
      "_view_module_version": "1.2.0",
      "_view_name": "StyleView",
      "description_width": "",
      "handle_color": null
     }
    }
   }
  }
 },
 "nbformat": 4,
 "nbformat_minor": 0
}
