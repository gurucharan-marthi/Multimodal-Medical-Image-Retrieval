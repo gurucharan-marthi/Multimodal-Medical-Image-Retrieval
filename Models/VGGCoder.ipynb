{
 "cells": [
  {
   "cell_type": "code",
   "execution_count": null,
   "metadata": {
    "colab": {
     "base_uri": "https://localhost:8080/"
    },
    "id": "aKcTPWmgSe4C",
    "outputId": "3e132585-55c7-44c0-d30f-da6bd6f95574"
   },
   "outputs": [
    {
     "name": "stdout",
     "output_type": "stream",
     "text": [
      "Mounted at /content/drive\n"
     ]
    }
   ],
   "source": [
    "import os\n",
    "import numpy as np\n",
    "import matplotlib.pyplot as plt\n",
    "from sklearn.model_selection import train_test_split\n",
    "from sklearn.neighbors import NearestNeighbors\n",
    "from tensorflow.keras.models import Sequential, load_model, Model\n",
    "from tensorflow.keras.layers import Dense, Flatten, Conv3D, MaxPooling3D, Dropout, BatchNormalization, Input, Reshape, Conv3DTranspose, UpSampling3D, LSTM\n",
    "from tensorflow.keras.optimizers import Adamax\n",
    "from skimage.util import random_noise\n",
    "from skimage.metrics import structural_similarity, mean_squared_error\n",
    "from scipy.ndimage import rotate\n",
    "from skimage.transform import resize\n",
    "import nibabel as nib\n",
    "from ipywidgets import interact, IntSlider, RadioButtons\n",
    "import time\n",
    "import warnings\n",
    "warnings.filterwarnings(\"ignore\")\n",
    "from google.colab import drive\n",
    "drive.mount('/content/drive')"
   ]
  },
  {
   "cell_type": "code",
   "execution_count": null,
   "metadata": {
    "id": "DQg7TXh9TiJp"
   },
   "outputs": [],
   "source": [
    "def label_img(img):\n",
    "  return [0]\n",
    "\n",
    "def rotateit(image, theta, isseg=False):\n",
    "  order = 0 if isseg == True else 5\n",
    "  return ndimage.rotate(image, float(theta), reshape=False, order=order, mode='nearest')\n",
    "\n",
    "def data_nii_to_npy_2():\n",
    "  dataset_array = []\n",
    "  dataset_labels = []\n",
    "  count = 0\n",
    "\n",
    "  img_path = \"/content/drive/My Drive/FYP_1/\"\n",
    "  saveimg_path = \"/content/drive/My Drive/\"\n",
    "\n",
    "  img_names = os.listdir(img_path)\n",
    "  shuffle(img_names)\n",
    "  for img_name in img_names:\n",
    "     # print(img_name)\n",
    "      img_new = nib.load(img_path + img_name)#load\n",
    "      #img = np.array(img)\n",
    "      imag_data_nparray = img_new.get_fdata()\n",
    "      label_current_image=label_img(img_name)\n",
    "      imag_data_nparray=resize(imag_data_nparray,(32,32,32))\n",
    "      image_data_nparray_rotate=rotateit(imag_data_nparray,180)\n",
    "      count +=1\n",
    "      print(count)\n",
    "      dataset_array.append(imag_data_nparray)\n",
    "      dataset_array.append(image_data_nparray_rotate)\n",
    "      dataset_labels.append(label_current_image)\n",
    "      dataset_labels.append(label_current_image)\n",
    "\n",
    "  dataset_array = np.array(dataset_array)\n",
    "  dataset_labels = np.array(dataset_labels)\n",
    "  return dataset_array, dataset_labels"
   ]
  },
  {
   "cell_type": "code",
   "execution_count": null,
   "metadata": {
    "colab": {
     "base_uri": "https://localhost:8080/"
    },
    "id": "gZ5dUTW-rQyB",
    "outputId": "29a3dca0-50bb-4b4a-ec28-f30cacdb8111"
   },
   "outputs": [],
   "source": [
    "data , labels = data_nii_to_npy_2()"
   ]
  },
  {
   "cell_type": "code",
   "execution_count": null,
   "metadata": {
    "id": "jLQWOlmyUKqb"
   },
   "outputs": [],
   "source": [
    "np.save(\"data.npy\", data)\n",
    "np.save(\"labels.npy\", labels)"
   ]
  },
  {
   "cell_type": "code",
   "execution_count": null,
   "metadata": {
    "colab": {
     "base_uri": "https://localhost:8080/"
    },
    "id": "013hX7TYULpr",
    "outputId": "504a9aa4-a469-4c9c-b025-8efeacd5fc18"
   },
   "outputs": [
    {
     "name": "stdout",
     "output_type": "stream",
     "text": [
      "(454, 32, 32, 32)\n",
      "(454, 1)\n"
     ]
    }
   ],
   "source": [
    "train_dataset_array = np.load(\"data.npy\")\n",
    "train_dataset_array_labels = np.load(\"labels.npy\",allow_pickle=True)\n",
    "\n",
    "print(train_dataset_array.shape)\n",
    "print(train_dataset_array_labels.shape)"
   ]
  },
  {
   "cell_type": "code",
   "execution_count": null,
   "metadata": {
    "id": "-iveZsHpUMc6"
   },
   "outputs": [],
   "source": [
    "# partition the data into training and testing splits using 70% of\n",
    "# the data for training and the remaining 30% for testing\n",
    "(trainX, testX, trainY, testY) = train_test_split(train_dataset_array, train_dataset_array_labels, test_size=0.30, stratify=train_dataset_array_labels)"
   ]
  },
  {
   "cell_type": "code",
   "execution_count": null,
   "metadata": {
    "id": "wQTWpJcmUOAA"
   },
   "outputs": [],
   "source": [
    "#Normalize Images\n",
    "X_train = trainX.astype('float32') / 255.0\n",
    "X_test = testX.astype('float32') / 255.0"
   ]
  },
  {
   "cell_type": "code",
   "execution_count": null,
   "metadata": {
    "id": "JAMOphhQUURo"
   },
   "outputs": [],
   "source": [
    "#VGG\n",
    "\n",
    "#Image Dimension\n",
    "IMAGE_DIM=(32,32,32,1)\n",
    "\n",
    "#Required Feature vector size after encoding\n",
    "ENCODED_SIZE=512\n",
    "\n",
    "def ConvAutoEncoder(img_dim, encoded_size):\n",
    "    #Encoder Part\n",
    "    enc = keras.models.Sequential()\n",
    "    enc.add(InputLayer(img_dim))\n",
    "    enc.add(Conv3D(filters=64, kernel_size=(3, 3, 3), activation='relu', padding='same'))\n",
    "    enc.add(Conv3D(filters=64, kernel_size=(3, 3, 3), activation='relu', padding='same'))\n",
    "    enc.add(MaxPooling3D(pool_size=(2, 2, 2)))\n",
    "    enc.add(Conv3D(filters=128, kernel_size=(3, 3, 3), activation='relu', padding='same'))\n",
    "    enc.add(Conv3D(filters=128, kernel_size=(3, 3, 3), activation='relu', padding='same'))\n",
    "    enc.add(MaxPooling3D(pool_size=(2, 2, 2)))\n",
    "    enc.add(Conv3D(filters=256, kernel_size=(3, 3, 3), activation='relu', padding='same'))\n",
    "    enc.add(Conv3D(filters=256, kernel_size=(3, 3, 3), activation='relu', padding='same'))\n",
    "    enc.add(Conv3D(filters=256, kernel_size=(3, 3, 3), activation='relu', padding='same'))\n",
    "    enc.add(Conv3D(filters=256, kernel_size=(3, 3, 3), activation='relu', padding='same'))\n",
    "    enc.add(MaxPooling3D(pool_size=(2, 2, 2)))\n",
    "    enc.add(Flatten())\n",
    "    enc.add(Dense(encoded_size))\n",
    "\n",
    "    #Decoder Part\n",
    "    dec = keras.models.Sequential()\n",
    "    dec.add(InputLayer((encoded_size,)))\n",
    "    dec.add(Dense(16384))\n",
    "    dec.add(Reshape((4, 4, 4, 256)))\n",
    "    dec.add(UpSampling3D(size=(2,2,2)))\n",
    "    dec.add(Conv3DTranspose(filters=256, kernel_size=(3, 3, 3), activation='relu', padding='same'))\n",
    "    dec.add(Conv3DTranspose(filters=256, kernel_size=(3, 3, 3), activation='relu', padding='same'))\n",
    "    dec.add(Conv3DTranspose(filters=256, kernel_size=(3, 3, 3), activation='relu', padding='same'))\n",
    "    dec.add(Conv3DTranspose(filters=256, kernel_size=(3, 3, 3), activation='relu', padding='same'))\n",
    "    dec.add(UpSampling3D(size=(2,2,2)))\n",
    "    dec.add(Conv3DTranspose(filters=128, kernel_size=(3, 3, 3), activation='relu', padding='same'))\n",
    "    dec.add(Conv3DTranspose(filters=128, kernel_size=(3, 3, 3), activation='relu', padding='same'))\n",
    "    dec.add(UpSampling3D(size=(2,2,2)))\n",
    "    dec.add(Conv3DTranspose(filters=64, kernel_size=(3, 3, 3), activation=None, padding='same'))\n",
    "    dec.add(Conv3DTranspose(filters=64, kernel_size=(3, 3, 3), activation=None, padding='same'))\n",
    "\n",
    "    return enc, dec\n",
    "\n",
    "vggencoder, vggdecoder = ConvAutoEncoder(img_dim=IMAGE_DIM, encoded_size=ENCODED_SIZE)"
   ]
  },
  {
   "cell_type": "code",
   "execution_count": null,
   "metadata": {
    "colab": {
     "base_uri": "https://localhost:8080/"
    },
    "id": "4XfrA6_9JO3-",
    "outputId": "ec529a53-9396-4ba6-ee15-8ec063f9f7da"
   },
   "outputs": [
    {
     "name": "stdout",
     "output_type": "stream",
     "text": [
      "Model: \"sequential\"\n",
      "_________________________________________________________________\n",
      "Layer (type)                 Output Shape              Param #   \n",
      "=================================================================\n",
      "conv3d (Conv3D)              (None, 32, 32, 32, 64)    1792      \n",
      "_________________________________________________________________\n",
      "conv3d_1 (Conv3D)            (None, 32, 32, 32, 64)    110656    \n",
      "_________________________________________________________________\n",
      "max_pooling3d (MaxPooling3D) (None, 16, 16, 16, 64)    0         \n",
      "_________________________________________________________________\n",
      "conv3d_2 (Conv3D)            (None, 16, 16, 16, 128)   221312    \n",
      "_________________________________________________________________\n",
      "conv3d_3 (Conv3D)            (None, 16, 16, 16, 128)   442496    \n",
      "_________________________________________________________________\n",
      "max_pooling3d_1 (MaxPooling3 (None, 8, 8, 8, 128)      0         \n",
      "_________________________________________________________________\n",
      "conv3d_4 (Conv3D)            (None, 8, 8, 8, 256)      884992    \n",
      "_________________________________________________________________\n",
      "conv3d_5 (Conv3D)            (None, 8, 8, 8, 256)      1769728   \n",
      "_________________________________________________________________\n",
      "conv3d_6 (Conv3D)            (None, 8, 8, 8, 256)      1769728   \n",
      "_________________________________________________________________\n",
      "conv3d_7 (Conv3D)            (None, 8, 8, 8, 256)      1769728   \n",
      "_________________________________________________________________\n",
      "max_pooling3d_2 (MaxPooling3 (None, 4, 4, 4, 256)      0         \n",
      "_________________________________________________________________\n",
      "flatten (Flatten)            (None, 16384)             0         \n",
      "_________________________________________________________________\n",
      "dense (Dense)                (None, 512)               8389120   \n",
      "=================================================================\n",
      "Total params: 15,359,552\n",
      "Trainable params: 15,359,552\n",
      "Non-trainable params: 0\n",
      "_________________________________________________________________\n"
     ]
    }
   ],
   "source": [
    "vggencoder.summary()\n",
    "#plot_model(encoder, show_shapes=True, show_layer_names=True)"
   ]
  },
  {
   "cell_type": "code",
   "execution_count": null,
   "metadata": {
    "colab": {
     "base_uri": "https://localhost:8080/"
    },
    "id": "yvGhNb3iYQkr",
    "outputId": "89242d0a-0915-4294-f161-3e4b1e3b8375"
   },
   "outputs": [
    {
     "name": "stdout",
     "output_type": "stream",
     "text": [
      "Model: \"sequential_1\"\n",
      "_________________________________________________________________\n",
      "Layer (type)                 Output Shape              Param #   \n",
      "=================================================================\n",
      "dense_1 (Dense)              (None, 16384)             8404992   \n",
      "_________________________________________________________________\n",
      "reshape (Reshape)            (None, 4, 4, 4, 256)      0         \n",
      "_________________________________________________________________\n",
      "up_sampling3d (UpSampling3D) (None, 8, 8, 8, 256)      0         \n",
      "_________________________________________________________________\n",
      "conv3d_transpose (Conv3DTran (None, 8, 8, 8, 256)      1769728   \n",
      "_________________________________________________________________\n",
      "conv3d_transpose_1 (Conv3DTr (None, 8, 8, 8, 256)      1769728   \n",
      "_________________________________________________________________\n",
      "conv3d_transpose_2 (Conv3DTr (None, 8, 8, 8, 256)      1769728   \n",
      "_________________________________________________________________\n",
      "conv3d_transpose_3 (Conv3DTr (None, 8, 8, 8, 256)      1769728   \n",
      "_________________________________________________________________\n",
      "up_sampling3d_1 (UpSampling3 (None, 16, 16, 16, 256)   0         \n",
      "_________________________________________________________________\n",
      "conv3d_transpose_4 (Conv3DTr (None, 16, 16, 16, 128)   884864    \n",
      "_________________________________________________________________\n",
      "conv3d_transpose_5 (Conv3DTr (None, 16, 16, 16, 128)   442496    \n",
      "_________________________________________________________________\n",
      "up_sampling3d_2 (UpSampling3 (None, 32, 32, 32, 128)   0         \n",
      "_________________________________________________________________\n",
      "conv3d_transpose_6 (Conv3DTr (None, 32, 32, 32, 64)    221248    \n",
      "_________________________________________________________________\n",
      "conv3d_transpose_7 (Conv3DTr (None, 32, 32, 32, 64)    110656    \n",
      "=================================================================\n",
      "Total params: 17,143,168\n",
      "Trainable params: 17,143,168\n",
      "Non-trainable params: 0\n",
      "_________________________________________________________________\n"
     ]
    }
   ],
   "source": [
    "vggdecoder.summary()\n",
    "#plot_model(decoder, show_shapes=True, show_layer_names=True)"
   ]
  },
  {
   "cell_type": "code",
   "execution_count": null,
   "metadata": {
    "id": "Si2cHklEUq2j"
   },
   "outputs": [],
   "source": [
    "input = Input(IMAGE_DIM)\n",
    "encoded = vggencoder(input)\n",
    "decoded = vggdecoder(encoded)\n",
    "\n",
    "cae = keras.models.Model(inputs=input, outputs=decoded)\n",
    "cae.compile(optimizer='adamax', loss='mean_squared_error')"
   ]
  },
  {
   "cell_type": "code",
   "execution_count": null,
   "metadata": {
    "id": "iKMgVzy2gYB2"
   },
   "outputs": [],
   "source": [
    "#size is reduced to less due to GPU limit\n",
    "X_train = X_train.reshape(X_train.shape[0],32,32,32,1)\n",
    "X_test = X_test.reshape(X_test.shape[0],32,32,32,1)"
   ]
  },
  {
   "cell_type": "code",
   "execution_count": null,
   "metadata": {
    "colab": {
     "base_uri": "https://localhost:8080/"
    },
    "id": "fOJdhFUAWhlu",
    "outputId": "c35778e8-16fd-455b-becb-6e6e1b622bcc"
   },
   "outputs": [
    {
     "name": "stdout",
     "output_type": "stream",
     "text": [
      "Epoch 1/25\n",
      "40/40 [==============================] - 19s 463ms/step - loss: 7.1521 - val_loss: 7.2704\n",
      "Epoch 2/25\n",
      "40/40 [==============================] - 18s 464ms/step - loss: 7.0568 - val_loss: 7.1787\n",
      "Epoch 3/25\n",
      "40/40 [==============================] - 18s 457ms/step - loss: 6.9712 - val_loss: 7.0765\n",
      "Epoch 4/25\n",
      "40/40 [==============================] - 18s 450ms/step - loss: 6.8589 - val_loss: 6.9606\n",
      "Epoch 5/25\n",
      "40/40 [==============================] - 18s 452ms/step - loss: 6.7309 - val_loss: 6.8164\n",
      "Epoch 6/25\n",
      "40/40 [==============================] - 18s 456ms/step - loss: 6.5753 - val_loss: 6.6276\n",
      "Epoch 7/25\n",
      "40/40 [==============================] - 18s 459ms/step - loss: 6.3410 - val_loss: 6.3265\n",
      "Epoch 8/25\n",
      "40/40 [==============================] - 18s 456ms/step - loss: 6.0266 - val_loss: 5.9897\n",
      "Epoch 9/25\n",
      "40/40 [==============================] - 18s 454ms/step - loss: 5.7263 - val_loss: 5.8087\n",
      "Epoch 10/25\n",
      "40/40 [==============================] - 18s 455ms/step - loss: 5.5368 - val_loss: 5.7085\n",
      "Epoch 11/25\n",
      "40/40 [==============================] - 18s 455ms/step - loss: 5.4461 - val_loss: 5.5625\n",
      "Epoch 12/25\n",
      "40/40 [==============================] - 18s 456ms/step - loss: 5.4155 - val_loss: 5.5451\n",
      "Epoch 13/25\n",
      "40/40 [==============================] - 18s 456ms/step - loss: 5.3479 - val_loss: 5.5000\n",
      "Epoch 14/25\n",
      "40/40 [==============================] - 18s 457ms/step - loss: 5.3287 - val_loss: 5.4720\n",
      "Epoch 15/25\n",
      "40/40 [==============================] - 18s 456ms/step - loss: 5.3113 - val_loss: 5.4639\n",
      "Epoch 16/25\n",
      "40/40 [==============================] - 18s 456ms/step - loss: 5.3155 - val_loss: 5.4452\n",
      "Epoch 17/25\n",
      "40/40 [==============================] - 18s 455ms/step - loss: 5.2946 - val_loss: 5.4381\n",
      "Epoch 18/25\n",
      "40/40 [==============================] - 18s 455ms/step - loss: 5.3203 - val_loss: 5.4388\n",
      "Epoch 19/25\n",
      "40/40 [==============================] - 18s 455ms/step - loss: 5.2665 - val_loss: 5.4148\n",
      "Epoch 20/25\n",
      "40/40 [==============================] - 18s 455ms/step - loss: 5.2751 - val_loss: 5.4081\n",
      "Epoch 21/25\n",
      "40/40 [==============================] - 18s 455ms/step - loss: 5.2578 - val_loss: 5.4147\n",
      "Epoch 22/25\n",
      "40/40 [==============================] - 18s 455ms/step - loss: 5.2411 - val_loss: 5.3902\n",
      "Epoch 23/25\n",
      "40/40 [==============================] - 18s 455ms/step - loss: 5.2821 - val_loss: 5.4545\n",
      "Epoch 24/25\n",
      "40/40 [==============================] - 18s 455ms/step - loss: 5.2531 - val_loss: 5.3983\n",
      "Epoch 25/25\n",
      "40/40 [==============================] - 18s 455ms/step - loss: 5.2951 - val_loss: 5.3702\n"
     ]
    },
    {
     "data": {
      "text/plain": [
       "<tensorflow.python.keras.callbacks.History at 0x7f6954741048>"
      ]
     },
     "execution_count": 30,
     "metadata": {
      "tags": []
     },
     "output_type": "execute_result"
    }
   ],
   "source": [
    "cae.fit(X_train, X_train, batch_size=8, epochs=25, verbose=1, validation_data=(X_test, X_test))"
   ]
  },
  {
   "cell_type": "code",
   "execution_count": null,
   "metadata": {
    "colab": {
     "base_uri": "https://localhost:8080/",
     "height": 332
    },
    "id": "eSGLBK1jUnz4",
    "outputId": "bfc28765-621d-4829-a52d-e08ef94188a6"
   },
   "outputs": [
    {
     "name": "stdout",
     "output_type": "stream",
     "text": [
      "Training Loss:  5.295079708099365\n",
      "Validation Loss:  5.370237827301025\n"
     ]
    },
    {
     "data": {
      "text/plain": [
       "Text(0.5, 1.0, 'Training and validation loss')"
      ]
     },
     "execution_count": 31,
     "metadata": {
      "tags": []
     },
     "output_type": "execute_result"
    },
    {
     "data": {
      "image/png": "[encoded data removed]",
      "text/plain": [
       "<Figure size 432x288 with 1 Axes>"
      ]
     },
     "metadata": {
      "needs_background": "light",
      "tags": []
     },
     "output_type": "display_data"
    }
   ],
   "source": [
    "loss=cae.history.history['loss']\n",
    "val_loss=cae.history.history['val_loss']\n",
    "\n",
    "print(\"Training Loss: \",loss[-1])\n",
    "print(\"Validation Loss: \",val_loss[-1])\n",
    "epochs=range(len(loss)) # Get number of epochs\n",
    "\n",
    "plt.figure()\n",
    "plt.plot(epochs, loss, 'r', \"Training Loss(Red)\")\n",
    "plt.plot(epochs, val_loss, 'b', \"Validation Loss(Blue)\")\n",
    "plt.title('Training and validation loss')"
   ]
  },
  {
   "cell_type": "code",
   "execution_count": null,
   "metadata": {
    "id": "h6m8DU9VS2LJ"
   },
   "outputs": [],
   "source": [
    "#Save model for later use\n",
    "cae.save('VGGCoder.h5')"
   ]
  },
  {
   "cell_type": "code",
   "execution_count": null,
   "metadata": {
    "id": "bSwEutZAlgSd"
   },
   "outputs": [],
   "source": [
    "# Load the trained Model\n",
    "#from keras.models import load_model\n",
    "cae = load_model('VGGCoder.h5')"
   ]
  },
  {
   "cell_type": "code",
   "execution_count": null,
   "metadata": {
    "id": "Lz7SlYKymLzb"
   },
   "outputs": [],
   "source": [
    "# Extract 'Encoder' Part from it\n",
    "encoder = cae.layers[1]\n",
    "\n",
    "images = X_train\n",
    "codes = encoder.predict(images)"
   ]
  },
  {
   "cell_type": "code",
   "execution_count": null,
   "metadata": {
    "colab": {
     "base_uri": "https://localhost:8080/"
    },
    "id": "N7gxf0JRnP_Z",
    "outputId": "382aaad6-9022-4fb4-8fe3-2da7826b47fa"
   },
   "outputs": [
    {
     "data": {
      "text/plain": [
       "NearestNeighbors(algorithm='auto', leaf_size=30, metric='euclidean',\n",
       "                 metric_params=None, n_jobs=None, n_neighbors=5, p=2,\n",
       "                 radius=1.0)"
      ]
     },
     "execution_count": 35,
     "metadata": {
      "tags": []
     },
     "output_type": "execute_result"
    }
   ],
   "source": [
    "from sklearn.neighbors import NearestNeighbors\n",
    "nei_clf = NearestNeighbors(metric=\"euclidean\")\n",
    "nei_clf.fit(codes)"
   ]
  },
  {
   "cell_type": "code",
   "execution_count": null,
   "metadata": {
    "id": "BPA3hzkbdx9i"
   },
   "outputs": [],
   "source": [
    "def get_similar(image, n_neighbors=5):\n",
    "\n",
    "    code = encoder.predict(image[None])\n",
    "\n",
    "    (distances,),(idx,) = nei_clf.kneighbors(code,n_neighbors=n_neighbors)\n",
    "\n",
    "    return distances,images[idx]\n",
    "\n",
    "def show_similar(image):\n",
    "    start_time = time.time()\n",
    "    distances,neighbors = get_similar(image,n_neighbors=5)\n",
    "\n",
    "    print(\"                                     \\033[1m\"+\"QUERY IMAGE\"+\"\\033[0m\")\n",
    "    #Show given image\n",
    "    ImageSliceViewer3D(image.reshape(32,32,32,))\n",
    "\n",
    "    print(\"                                    \\033[1m\"+\"RETRIEVED IMAGES\"+\"\\033[0m\")\n",
    "    for i in range(4):\n",
    "        ImageSliceViewer3D(neighbors[i+1].reshape(32,32,32))\n",
    "        print(\"Dist={:.3f}\".format(distances[i+1]))\n",
    "    plt.show()\n",
    "    end_time = time.time()\n",
    "    exec_time = end_time-start_time\n",
    "    print(\"Execution Time (in seconds):\",exec_time)\n",
    "\n",
    "class ImageSliceViewer3D:\n",
    "    def __init__(self, volume, figsize=(3,3), cmap='gray'):\n",
    "        self.volume = volume\n",
    "        self.figsize = figsize\n",
    "        self.cmap = cmap\n",
    "        self.v = [np.min(volume), np.max(volume)]\n",
    "\n",
    "        # Call to select slice plane\n",
    "        interact(self.view_selection, view=RadioButtons(\n",
    "            options=['x-y','y-z', 'z-x'], value='x-y',\n",
    "            description='Slice plane selection:', disabled=False,\n",
    "            style={'description_width': 'initial'}))\n",
    "\n",
    "    def view_selection(self, view):\n",
    "        # Transpose the volume to orient according to the slice plane selection\n",
    "        orient = {\"y-z\":[1,2,0], \"z-x\":[2,0,1], \"x-y\": [0,1,2]}\n",
    "        self.vol = np.transpose(self.volume, orient[view])\n",
    "        maxZ = self.vol.shape[2] - 1\n",
    "\n",
    "        # Call to view a slice within the selected slice plane\n",
    "        interact(self.plot_slice,\n",
    "            z=IntSlider(min=0, max=maxZ, step=1, continuous_update=False,\n",
    "            description='Image Slice:'))\n",
    "\n",
    "    def plot_slice(self, z):\n",
    "        # Plot slice for the given plane and slice\n",
    "        self.fig = plt.figure(figsize=self.figsize)\n",
    "        plt.imshow(self.vol[:,:,z], cmap=plt.get_cmap(self.cmap),\n",
    "            vmin=self.v[0], vmax=self.v[1])"
   ]
  },
  {
   "cell_type": "code",
   "execution_count": null,
   "metadata": {
    "colab": {
     "base_uri": "https://localhost:8080/",
     "height": 1000,
     "referenced_widgets": [
      "40b05d6a20344c17a041fa247996e5d5",
      "b0ac4132d01a48e19250b92239fa3519",
      "23fe3ca849de4953a59113a6baa662b1",
      "4bbc4fb95c7848039bd373d4d0a87d90",
      "c48edc304d9a4fc89185e4fb8e689de9",
      "432f7cf3f7f040b9bd973bffbb5b855e",
      "c0e9db0902614425a0f4bb112d37e88c",
      "ef61a5efb80f4223a7c52c83895cd150",
      "60bfbbcd8c4c4fef88abffc7386fd222",
      "7359c8f00d24448aacf8de2d59e41bdf",
      "47d0ca6298154463ab7c632cebe083e4",
      "e46c61c4416f4d0e91775327c93d1914",
      "0f3801ed6784485f97115815ac664a20",
      "a3cd65bf5df440358073dbb5ea7ab1de",
      "aa37b85ff07b45ef843f2211f44b21b9",
      "569f09585cb14d31aad9007f87eeb8fb",
      "a16d18f85e414e8bb4614e75ed2cc2d3",
      "16d86a7c51bc445880a7b922957955df",
      "0d335c7c2a024dc6a2ffe564a5c26439",
      "a9d718d8f69443debbd451170618dd71",
      "c5d0c9a5b89f4d13a0bcce6287284b43",
      "ff5b691f276548fa95401b76b44ff4d7",
      "89de6f7aba4f4096b0287f2e4fe3244e",
      "dc9ed4435b734df584859afc454a1d8f",
      "ea166ef3da6c44db9240d1b8107a2bc3",
      "56d1d3b4603d461da7ea9937e60bc151",
      "6029a9b1d4744c23a7845ce75b7c649e",
      "b7b491c31fa941ecbe7d1df49f983caa",
      "1f9eca237f344ca3936f9c426aea8b0e",
      "6dded69bcb8e441eb809d0b63ab22dbb",
      "e958ebab6d004f37a953d152d816aae6",
      "377a2f1dfa124f23a615f5a8ca7e2cb0",
      "4272169899f04dd58e5383ae95ede016",
      "5419b3aa548742aa8fe0efad82aab021",
      "29b283c26abc4f26bb6ac642c7357c2d",
      "0bb73926597141a1ac824dcbb81d7a7d",
      "832ffdaa422e4d06ac9f28cf2a30f320",
      "86feef932c634235928b9d0effbcf8a6",
      "50d6998c62cd494a8d548a6e5b4e7c3f",
      "84eea26a4367401c9cce207c11bcd4e8",
      "1de22c78bcd347928449f1d3a6f807ae",
      "546b82464b324637805c41dec8b14394",
      "260a84c02cb14fed9c1012570ec9d15d",
      "51bb9c2a5a9141fc9696bb679c436632",
      "883a46a8481a4154883c0919a7361404",
      "7bc3b00367684345b9cfc346c70a6349",
      "ed89ac4b98194b598251a5cb74684106",
      "764f053e00634d2b81f3dad85cd4e5ba",
      "2d59d571f3484efabfb168599f86f46e",
      "5e8e9422e6094e9488b9035d6fc5ee7c",
      "4eb0f3067d22428dae9a7c164658605e",
      "fa5bfc91568740ac91b2580da603e412",
      "83faf7bca72b4c498535c9f47a442c70",
      "976638af4c80442da48cf0f23a6c39bd",
      "d3a23a714823455c827452512cfb9454",
      "3fd6bd7d19cf4fd8a58cd31433d5c16a",
      "1096ddf337d246d6990bb9d4f33dce3e",
      "be404660f294486ea86e0b1fc5370905",
      "31619f1bb38340b886424946fa725b8b",
      "f0c3c809511d489f824826f1845a1447",
      "7fb830b595a4471e9726799a5595d07f",
      "7079b181a22f4daebc05bf4db5378158",
      "514597812ee64945bc3eeccce3ee363b",
      "7768a0bb354d46d6882f8c83125cae48",
      "6149f6e0eb524ce5b8f9ca007cbd4c4b",
      "2f7ea6b341ed415db0de4c36b22bc86e",
      "b9ecbf65f6ea48998c63f8c94c45780e",
      "cbf510dad55643cd96ee0ca3b5a11a93",
      "031ef66fb59a432da58c5cc7b3c7fe01",
      "2f2923cda25f44278b7a8ecb6d72aa28"
     ]
    },
    "id": "3afHglQ1TAF_",
    "outputId": "b244977a-d55d-48cb-980e-f41819403596"
   },
   "outputs": [
    {
     "name": "stdout",
     "output_type": "stream",
     "text": [
      "                                     \u001b[1mQUERY IMAGE\u001b[0m\n"
     ]
    },
    {
     "data": {
      "application/vnd.jupyter.widget-view+json": {
       "model_id": "40b05d6a20344c17a041fa247996e5d5",
       "version_major": 2,
       "version_minor": 0
      },
      "text/plain": [
       "interactive(children=(RadioButtons(description='Slice plane selection:', options=('x-y', 'y-z', 'z-x'), style=…"
      ]
     },
     "metadata": {
      "tags": []
     },
     "output_type": "display_data"
    },
    {
     "name": "stdout",
     "output_type": "stream",
     "text": [
      "                                    \u001b[1mRETRIEVED IMAGES\u001b[0m\n"
     ]
    },
    {
     "data": {
      "application/vnd.jupyter.widget-view+json": {
       "model_id": "60bfbbcd8c4c4fef88abffc7386fd222",
       "version_major": 2,
       "version_minor": 0
      },
      "text/plain": [
       "interactive(children=(RadioButtons(description='Slice plane selection:', options=('x-y', 'y-z', 'z-x'), style=…"
      ]
     },
     "metadata": {
      "tags": []
     },
     "output_type": "display_data"
    },
    {
     "name": "stdout",
     "output_type": "stream",
     "text": [
      "Dist=0.000\n"
     ]
    },
    {
     "data": {
      "application/vnd.jupyter.widget-view+json": {
       "model_id": "89de6f7aba4f4096b0287f2e4fe3244e",
       "version_major": 2,
       "version_minor": 0
      },
      "text/plain": [
       "interactive(children=(RadioButtons(description='Slice plane selection:', options=('x-y', 'y-z', 'z-x'), style=…"
      ]
     },
     "metadata": {
      "tags": []
     },
     "output_type": "display_data"
    },
    {
     "name": "stdout",
     "output_type": "stream",
     "text": [
      "Dist=0.000\n"
     ]
    },
    {
     "data": {
      "application/vnd.jupyter.widget-view+json": {
       "model_id": "832ffdaa422e4d06ac9f28cf2a30f320",
       "version_major": 2,
       "version_minor": 0
      },
      "text/plain": [
       "interactive(children=(RadioButtons(description='Slice plane selection:', options=('x-y', 'y-z', 'z-x'), style=…"
      ]
     },
     "metadata": {
      "tags": []
     },
     "output_type": "display_data"
    },
    {
     "name": "stdout",
     "output_type": "stream",
     "text": [
      "Dist=0.000\n"
     ]
    },
    {
     "data": {
      "application/vnd.jupyter.widget-view+json": {
       "model_id": "5e8e9422e6094e9488b9035d6fc5ee7c",
       "version_major": 2,
       "version_minor": 0
      },
      "text/plain": [
       "interactive(children=(RadioButtons(description='Slice plane selection:', options=('x-y', 'y-z', 'z-x'), style=…"
      ]
     },
     "metadata": {
      "tags": []
     },
     "output_type": "display_data"
    },
    {
     "name": "stdout",
     "output_type": "stream",
     "text": [
      "Dist=0.000\n",
      "Execution Time (in seconds): 0.9561891555786133\n"
     ]
    }
   ],
   "source": [
    "show_similar(X_test[56])"
   ]
  },
  {
   "cell_type": "code",
   "execution_count": null,
   "metadata": {
    "id": "ltZz3YWecbcC"
   },
   "outputs": [],
   "source": [
    "def show_similar2d(image):\n",
    "    start_time = time.time()\n",
    "    distances,neighbors = get_similar(image,n_neighbors=5)\n",
    "\n",
    "    print(\"                                     \\033[1m\"+\"QUERY IMAGE\"+\"\\033[0m\")\n",
    "    #Show given image\n",
    "    plt.imshow(image[:,:,5].reshape(32,32),cmap='gray')\n",
    "    plt.title(\"Slice 5\")\n",
    "    plt.show()\n",
    "\n",
    "    print(\"                                    \\033[1m\"+\"RETRIEVED IMAGES\"+\"\\033[0m\")\n",
    "    plt.figure(figsize=(20, 20))\n",
    "    for i in range(4):\n",
    "        ax = plt.subplot(1, 5, i+1)\n",
    "        plt.imshow(neighbors[i+1][:,:,5].reshape(32,32),cmap='gray')\n",
    "        ax.get_xaxis().set_visible(False)\n",
    "        ax.get_yaxis().set_visible(False)\n",
    "        plt.title(\"Dist={:.3f} (Slice 5)\".format(distances[i+1]))\n",
    "    plt.show()\n",
    "    end_time = time.time()\n",
    "    exec_time = end_time-start_time\n",
    "    print(\"Execution Time (in seconds):\",exec_time)\n"
   ]
  },
  {
   "cell_type": "code",
   "execution_count": null,
   "metadata": {
    "colab": {
     "base_uri": "https://localhost:8080/",
     "height": 558
    },
    "id": "CtP6PEo2Zmpe",
    "outputId": "003fa96e-aeb2-4cc0-ac4f-e0c1ea867f06"
   },
   "outputs": [
    {
     "name": "stdout",
     "output_type": "stream",
     "text": [
      "                                     \u001b[1mQUERY IMAGE\u001b[0m\n"
     ]
    },
    {
     "data": {
      "image/png": "[encoded data removed]",
      "text/plain": [
       "<Figure size 432x288 with 1 Axes>"
      ]
     },
     "metadata": {
      "needs_background": "light",
      "tags": []
     },
     "output_type": "display_data"
    },
    {
     "name": "stdout",
     "output_type": "stream",
     "text": [
      "                                    \u001b[1mRETRIEVED IMAGES\u001b[0m\n"
     ]
    },
    {
     "data": {
      "image/png": "[encoded data removed]",
      "text/plain": [
       "<Figure size 1440x1440 with 4 Axes>"
      ]
     },
     "metadata": {
      "needs_background": "light",
      "tags": []
     },
     "output_type": "display_data"
    },
    {
     "name": "stdout",
     "output_type": "stream",
     "text": [
      "Execution Time (in seconds): 0.3366658687591553\n"
     ]
    }
   ],
   "source": [
    "show_similar2d(X_test[56])"
   ]
  }
 ],
 "metadata": {
  "accelerator": "GPU",
  "colab": {
   "provenance": []
  },
  "kernelspec": {
   "display_name": "Python 3",
   "name": "python3"
  },
  "widgets": {
   "application/vnd.jupyter.widget-state+json": {
    "031ef66fb59a432da58c5cc7b3c7fe01": {
     "model_module": "@jupyter-widgets/base",
     "model_module_version": "1.2.0",
     "model_name": "LayoutModel",
     "state": {
      "_model_module": "@jupyter-widgets/base",
      "_model_module_version": "1.2.0",
      "_model_name": "LayoutModel",
      "_view_count": null,
      "_view_module": "@jupyter-widgets/base",
      "_view_module_version": "1.2.0",
      "_view_name": "LayoutView",
      "align_content": null,
      "align_items": null,
      "align_self": null,
      "border": null,
      "bottom": null,
      "display": null,
      "flex": null,
      "flex_flow": null,
      "grid_area": null,
      "grid_auto_columns": null,
      "grid_auto_flow": null,
      "grid_auto_rows": null,
      "grid_column": null,
      "grid_gap": null,
      "grid_row": null,
      "grid_template_areas": null,
      "grid_template_columns": null,
      "grid_template_rows": null,
      "height": null,
      "justify_content": null,
      "justify_items": null,
      "left": null,
      "margin": null,
      "max_height": null,
      "max_width": null,
      "min_height": null,
      "min_width": null,
      "object_fit": null,
      "object_position": null,
      "order": null,
      "overflow": null,
      "overflow_x": null,
      "overflow_y": null,
      "padding": null,
      "right": null,
      "top": null,
      "visibility": null,
      "width": null
     }
    },
    "0bb73926597141a1ac824dcbb81d7a7d": {
     "model_module": "@jupyter-widgets/base",
     "model_module_version": "1.2.0",
     "model_name": "LayoutModel",
     "state": {
      "_model_module": "@jupyter-widgets/base",
      "_model_module_version": "1.2.0",
      "_model_name": "LayoutModel",
      "_view_count": null,
      "_view_module": "@jupyter-widgets/base",
      "_view_module_version": "1.2.0",
      "_view_name": "LayoutView",
      "align_content": null,
      "align_items": null,
      "align_self": null,
      "border": null,
      "bottom": null,
      "display": null,
      "flex": null,
      "flex_flow": null,
      "grid_area": null,
      "grid_auto_columns": null,
      "grid_auto_flow": null,
      "grid_auto_rows": null,
      "grid_column": null,
      "grid_gap": null,
      "grid_row": null,
      "grid_template_areas": null,
      "grid_template_columns": null,
      "grid_template_rows": null,
      "height": null,
      "justify_content": null,
      "justify_items": null,
      "left": null,
      "margin": null,
      "max_height": null,
      "max_width": null,
      "min_height": null,
      "min_width": null,
      "object_fit": null,
      "object_position": null,
      "order": null,
      "overflow": null,
      "overflow_x": null,
      "overflow_y": null,
      "padding": null,
      "right": null,
      "top": null,
      "visibility": null,
      "width": null
     }
    },
    "0d335c7c2a024dc6a2ffe564a5c26439": {
     "model_module": "@jupyter-widgets/base",
     "model_module_version": "1.2.0",
     "model_name": "LayoutModel",
     "state": {
      "_model_module": "@jupyter-widgets/base",
      "_model_module_version": "1.2.0",
      "_model_name": "LayoutModel",
      "_view_count": null,
      "_view_module": "@jupyter-widgets/base",
      "_view_module_version": "1.2.0",
      "_view_name": "LayoutView",
      "align_content": null,
      "align_items": null,
      "align_self": null,
      "border": null,
      "bottom": null,
      "display": null,
      "flex": null,
      "flex_flow": null,
      "grid_area": null,
      "grid_auto_columns": null,
      "grid_auto_flow": null,
      "grid_auto_rows": null,
      "grid_column": null,
      "grid_gap": null,
      "grid_row": null,
      "grid_template_areas": null,
      "grid_template_columns": null,
      "grid_template_rows": null,
      "height": null,
      "justify_content": null,
      "justify_items": null,
      "left": null,
      "margin": null,
      "max_height": null,
      "max_width": null,
      "min_height": null,
      "min_width": null,
      "object_fit": null,
      "object_position": null,
      "order": null,
      "overflow": null,
      "overflow_x": null,
      "overflow_y": null,
      "padding": null,
      "right": null,
      "top": null,
      "visibility": null,
      "width": null
     }
    },
    "0f3801ed6784485f97115815ac664a20": {
     "model_module": "@jupyter-widgets/base",
     "model_module_version": "1.2.0",
     "model_name": "LayoutModel",
     "state": {
      "_model_module": "@jupyter-widgets/base",
      "_model_module_version": "1.2.0",
      "_model_name": "LayoutModel",
      "_view_count": null,
      "_view_module": "@jupyter-widgets/base",
      "_view_module_version": "1.2.0",
      "_view_name": "LayoutView",
      "align_content": null,
      "align_items": null,
      "align_self": null,
      "border": null,
      "bottom": null,
      "display": null,
      "flex": null,
      "flex_flow": null,
      "grid_area": null,
      "grid_auto_columns": null,
      "grid_auto_flow": null,
      "grid_auto_rows": null,
      "grid_column": null,
      "grid_gap": null,
      "grid_row": null,
      "grid_template_areas": null,
      "grid_template_columns": null,
      "grid_template_rows": null,
      "height": null,
      "justify_content": null,
      "justify_items": null,
      "left": null,
      "margin": null,
      "max_height": null,
      "max_width": null,
      "min_height": null,
      "min_width": null,
      "object_fit": null,
      "object_position": null,
      "order": null,
      "overflow": null,
      "overflow_x": null,
      "overflow_y": null,
      "padding": null,
      "right": null,
      "top": null,
      "visibility": null,
      "width": null
     }
    },
    "1096ddf337d246d6990bb9d4f33dce3e": {
     "model_module": "@jupyter-widgets/output",
     "model_module_version": "1.0.0",
     "model_name": "OutputModel",
     "state": {
      "_dom_classes": [],
      "_model_module": "@jupyter-widgets/output",
      "_model_module_version": "1.0.0",
      "_model_name": "OutputModel",
      "_view_count": null,
      "_view_module": "@jupyter-widgets/output",
      "_view_module_version": "1.0.0",
      "_view_name": "OutputView",
      "layout": "IPY_MODEL_7768a0bb354d46d6882f8c83125cae48",
      "msg_id": "",
      "outputs": [
       {
        "image/png": "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\n",
        "metadata": {
         "needs_background": "light",
         "tags": []
        },
        "output_type": "display_data",
        "text/plain": "<Figure size 216x216 with 1 Axes>"
       }
      ]
     }
    },
    "16d86a7c51bc445880a7b922957955df": {
     "model_module": "@jupyter-widgets/controls",
     "model_module_version": "1.5.0",
     "model_name": "DescriptionStyleModel",
     "state": {
      "_model_module": "@jupyter-widgets/controls",
      "_model_module_version": "1.5.0",
      "_model_name": "DescriptionStyleModel",
      "_view_count": null,
      "_view_module": "@jupyter-widgets/base",
      "_view_module_version": "1.2.0",
      "_view_name": "StyleView",
      "description_width": "initial"
     }
    },
    "1de22c78bcd347928449f1d3a6f807ae": {
     "model_module": "@jupyter-widgets/base",
     "model_module_version": "1.2.0",
     "model_name": "LayoutModel",
     "state": {
      "_model_module": "@jupyter-widgets/base",
      "_model_module_version": "1.2.0",
      "_model_name": "LayoutModel",
      "_view_count": null,
      "_view_module": "@jupyter-widgets/base",
      "_view_module_version": "1.2.0",
      "_view_name": "LayoutView",
      "align_content": null,
      "align_items": null,
      "align_self": null,
      "border": null,
      "bottom": null,
      "display": null,
      "flex": null,
      "flex_flow": null,
      "grid_area": null,
      "grid_auto_columns": null,
      "grid_auto_flow": null,
      "grid_auto_rows": null,
      "grid_column": null,
      "grid_gap": null,
      "grid_row": null,
      "grid_template_areas": null,
      "grid_template_columns": null,
      "grid_template_rows": null,
      "height": null,
      "justify_content": null,
      "justify_items": null,
      "left": null,
      "margin": null,
      "max_height": null,
      "max_width": null,
      "min_height": null,
      "min_width": null,
      "object_fit": null,
      "object_position": null,
      "order": null,
      "overflow": null,
      "overflow_x": null,
      "overflow_y": null,
      "padding": null,
      "right": null,
      "top": null,
      "visibility": null,
      "width": null
     }
    },
    "1f9eca237f344ca3936f9c426aea8b0e": {
     "model_module": "@jupyter-widgets/output",
     "model_module_version": "1.0.0",
     "model_name": "OutputModel",
     "state": {
      "_dom_classes": [],
      "_model_module": "@jupyter-widgets/output",
      "_model_module_version": "1.0.0",
      "_model_name": "OutputModel",
      "_view_count": null,
      "_view_module": "@jupyter-widgets/output",
      "_view_module_version": "1.0.0",
      "_view_name": "OutputView",
      "layout": "IPY_MODEL_0bb73926597141a1ac824dcbb81d7a7d",
      "msg_id": "",
      "outputs": [
       {
        "application/vnd.jupyter.widget-view+json": {
         "model_id": "29b283c26abc4f26bb6ac642c7357c2d",
         "version_major": 2,
         "version_minor": 0
        },
        "metadata": {
         "tags": []
        },
        "output_type": "display_data",
        "text/plain": "interactive(children=(IntSlider(value=0, continuous_update=False, description='Image Slice:', max=31), Output(…"
       }
      ]
     }
    },
    "23fe3ca849de4953a59113a6baa662b1": {
     "model_module": "@jupyter-widgets/controls",
     "model_module_version": "1.5.0",
     "model_name": "RadioButtonsModel",
     "state": {
      "_dom_classes": [],
      "_model_module": "@jupyter-widgets/controls",
      "_model_module_version": "1.5.0",
      "_model_name": "RadioButtonsModel",
      "_options_labels": [
       "x-y",
       "y-z",
       "z-x"
      ],
      "_view_count": null,
      "_view_module": "@jupyter-widgets/controls",
      "_view_module_version": "1.5.0",
      "_view_name": "RadioButtonsView",
      "description": "Slice plane selection:",
      "description_tooltip": null,
      "disabled": false,
      "index": 0,
      "layout": "IPY_MODEL_432f7cf3f7f040b9bd973bffbb5b855e",
      "style": "IPY_MODEL_c48edc304d9a4fc89185e4fb8e689de9"
     }
    },
    "260a84c02cb14fed9c1012570ec9d15d": {
     "model_module": "@jupyter-widgets/output",
     "model_module_version": "1.0.0",
     "model_name": "OutputModel",
     "state": {
      "_dom_classes": [],
      "_model_module": "@jupyter-widgets/output",
      "_model_module_version": "1.0.0",
      "_model_name": "OutputModel",
      "_view_count": null,
      "_view_module": "@jupyter-widgets/output",
      "_view_module_version": "1.0.0",
      "_view_name": "OutputView",
      "layout": "IPY_MODEL_2d59d571f3484efabfb168599f86f46e",
      "msg_id": "",
      "outputs": [
       {
        "application/vnd.jupyter.widget-view+json": {
         "model_id": "4eb0f3067d22428dae9a7c164658605e",
         "version_major": 2,
         "version_minor": 0
        },
        "metadata": {
         "tags": []
        },
        "output_type": "display_data",
        "text/plain": "interactive(children=(IntSlider(value=0, continuous_update=False, description='Image Slice:', max=31), Output(…"
       }
      ]
     }
    },
    "29b283c26abc4f26bb6ac642c7357c2d": {
     "model_module": "@jupyter-widgets/controls",
     "model_module_version": "1.5.0",
     "model_name": "VBoxModel",
     "state": {
      "_dom_classes": [
       "widget-interact"
      ],
      "_model_module": "@jupyter-widgets/controls",
      "_model_module_version": "1.5.0",
      "_model_name": "VBoxModel",
      "_view_count": null,
      "_view_module": "@jupyter-widgets/controls",
      "_view_module_version": "1.5.0",
      "_view_name": "VBoxView",
      "box_style": "",
      "children": [
       "IPY_MODEL_50d6998c62cd494a8d548a6e5b4e7c3f",
       "IPY_MODEL_84eea26a4367401c9cce207c11bcd4e8"
      ],
      "layout": "IPY_MODEL_86feef932c634235928b9d0effbcf8a6"
     }
    },
    "2d59d571f3484efabfb168599f86f46e": {
     "model_module": "@jupyter-widgets/base",
     "model_module_version": "1.2.0",
     "model_name": "LayoutModel",
     "state": {
      "_model_module": "@jupyter-widgets/base",
      "_model_module_version": "1.2.0",
      "_model_name": "LayoutModel",
      "_view_count": null,
      "_view_module": "@jupyter-widgets/base",
      "_view_module_version": "1.2.0",
      "_view_name": "LayoutView",
      "align_content": null,
      "align_items": null,
      "align_self": null,
      "border": null,
      "bottom": null,
      "display": null,
      "flex": null,
      "flex_flow": null,
      "grid_area": null,
      "grid_auto_columns": null,
      "grid_auto_flow": null,
      "grid_auto_rows": null,
      "grid_column": null,
      "grid_gap": null,
      "grid_row": null,
      "grid_template_areas": null,
      "grid_template_columns": null,
      "grid_template_rows": null,
      "height": null,
      "justify_content": null,
      "justify_items": null,
      "left": null,
      "margin": null,
      "max_height": null,
      "max_width": null,
      "min_height": null,
      "min_width": null,
      "object_fit": null,
      "object_position": null,
      "order": null,
      "overflow": null,
      "overflow_x": null,
      "overflow_y": null,
      "padding": null,
      "right": null,
      "top": null,
      "visibility": null,
      "width": null
     }
    },
    "2f2923cda25f44278b7a8ecb6d72aa28": {
     "model_module": "@jupyter-widgets/base",
     "model_module_version": "1.2.0",
     "model_name": "LayoutModel",
     "state": {
      "_model_module": "@jupyter-widgets/base",
      "_model_module_version": "1.2.0",
      "_model_name": "LayoutModel",
      "_view_count": null,
      "_view_module": "@jupyter-widgets/base",
      "_view_module_version": "1.2.0",
      "_view_name": "LayoutView",
      "align_content": null,
      "align_items": null,
      "align_self": null,
      "border": null,
      "bottom": null,
      "display": null,
      "flex": null,
      "flex_flow": null,
      "grid_area": null,
      "grid_auto_columns": null,
      "grid_auto_flow": null,
      "grid_auto_rows": null,
      "grid_column": null,
      "grid_gap": null,
      "grid_row": null,
      "grid_template_areas": null,
      "grid_template_columns": null,
      "grid_template_rows": null,
      "height": null,
      "justify_content": null,
      "justify_items": null,
      "left": null,
      "margin": null,
      "max_height": null,
      "max_width": null,
      "min_height": null,
      "min_width": null,
      "object_fit": null,
      "object_position": null,
      "order": null,
      "overflow": null,
      "overflow_x": null,
      "overflow_y": null,
      "padding": null,
      "right": null,
      "top": null,
      "visibility": null,
      "width": null
     }
    },
    "2f7ea6b341ed415db0de4c36b22bc86e": {
     "model_module": "@jupyter-widgets/controls",
     "model_module_version": "1.5.0",
     "model_name": "IntSliderModel",
     "state": {
      "_dom_classes": [],
      "_model_module": "@jupyter-widgets/controls",
      "_model_module_version": "1.5.0",
      "_model_name": "IntSliderModel",
      "_view_count": null,
      "_view_module": "@jupyter-widgets/controls",
      "_view_module_version": "1.5.0",
      "_view_name": "IntSliderView",
      "continuous_update": false,
      "description": "Image Slice:",
      "description_tooltip": null,
      "disabled": false,
      "layout": "IPY_MODEL_031ef66fb59a432da58c5cc7b3c7fe01",
      "max": 31,
      "min": 0,
      "orientation": "horizontal",
      "readout": true,
      "readout_format": "d",
      "step": 1,
      "style": "IPY_MODEL_cbf510dad55643cd96ee0ca3b5a11a93",
      "value": 0
     }
    },
    "31619f1bb38340b886424946fa725b8b": {
     "model_module": "@jupyter-widgets/base",
     "model_module_version": "1.2.0",
     "model_name": "LayoutModel",
     "state": {
      "_model_module": "@jupyter-widgets/base",
      "_model_module_version": "1.2.0",
      "_model_name": "LayoutModel",
      "_view_count": null,
      "_view_module": "@jupyter-widgets/base",
      "_view_module_version": "1.2.0",
      "_view_name": "LayoutView",
      "align_content": null,
      "align_items": null,
      "align_self": null,
      "border": null,
      "bottom": null,
      "display": null,
      "flex": null,
      "flex_flow": null,
      "grid_area": null,
      "grid_auto_columns": null,
      "grid_auto_flow": null,
      "grid_auto_rows": null,
      "grid_column": null,
      "grid_gap": null,
      "grid_row": null,
      "grid_template_areas": null,
      "grid_template_columns": null,
      "grid_template_rows": null,
      "height": null,
      "justify_content": null,
      "justify_items": null,
      "left": null,
      "margin": null,
      "max_height": null,
      "max_width": null,
      "min_height": null,
      "min_width": null,
      "object_fit": null,
      "object_position": null,
      "order": null,
      "overflow": null,
      "overflow_x": null,
      "overflow_y": null,
      "padding": null,
      "right": null,
      "top": null,
      "visibility": null,
      "width": null
     }
    },
    "377a2f1dfa124f23a615f5a8ca7e2cb0": {
     "model_module": "@jupyter-widgets/controls",
     "model_module_version": "1.5.0",
     "model_name": "DescriptionStyleModel",
     "state": {
      "_model_module": "@jupyter-widgets/controls",
      "_model_module_version": "1.5.0",
      "_model_name": "DescriptionStyleModel",
      "_view_count": null,
      "_view_module": "@jupyter-widgets/base",
      "_view_module_version": "1.2.0",
      "_view_name": "StyleView",
      "description_width": "initial"
     }
    },
    "3fd6bd7d19cf4fd8a58cd31433d5c16a": {
     "model_module": "@jupyter-widgets/controls",
     "model_module_version": "1.5.0",
     "model_name": "IntSliderModel",
     "state": {
      "_dom_classes": [],
      "_model_module": "@jupyter-widgets/controls",
      "_model_module_version": "1.5.0",
      "_model_name": "IntSliderModel",
      "_view_count": null,
      "_view_module": "@jupyter-widgets/controls",
      "_view_module_version": "1.5.0",
      "_view_name": "IntSliderView",
      "continuous_update": false,
      "description": "Image Slice:",
      "description_tooltip": null,
      "disabled": false,
      "layout": "IPY_MODEL_7fb830b595a4471e9726799a5595d07f",
      "max": 31,
      "min": 0,
      "orientation": "horizontal",
      "readout": true,
      "readout_format": "d",
      "step": 1,
      "style": "IPY_MODEL_f0c3c809511d489f824826f1845a1447",
      "value": 5
     }
    },
    "40b05d6a20344c17a041fa247996e5d5": {
     "model_module": "@jupyter-widgets/controls",
     "model_module_version": "1.5.0",
     "model_name": "VBoxModel",
     "state": {
      "_dom_classes": [
       "widget-interact"
      ],
      "_model_module": "@jupyter-widgets/controls",
      "_model_module_version": "1.5.0",
      "_model_name": "VBoxModel",
      "_view_count": null,
      "_view_module": "@jupyter-widgets/controls",
      "_view_module_version": "1.5.0",
      "_view_name": "VBoxView",
      "box_style": "",
      "children": [
       "IPY_MODEL_23fe3ca849de4953a59113a6baa662b1",
       "IPY_MODEL_4bbc4fb95c7848039bd373d4d0a87d90"
      ],
      "layout": "IPY_MODEL_b0ac4132d01a48e19250b92239fa3519"
     }
    },
    "4272169899f04dd58e5383ae95ede016": {
     "model_module": "@jupyter-widgets/base",
     "model_module_version": "1.2.0",
     "model_name": "LayoutModel",
     "state": {
      "_model_module": "@jupyter-widgets/base",
      "_model_module_version": "1.2.0",
      "_model_name": "LayoutModel",
      "_view_count": null,
      "_view_module": "@jupyter-widgets/base",
      "_view_module_version": "1.2.0",
      "_view_name": "LayoutView",
      "align_content": null,
      "align_items": null,
      "align_self": null,
      "border": null,
      "bottom": null,
      "display": null,
      "flex": null,
      "flex_flow": null,
      "grid_area": null,
      "grid_auto_columns": null,
      "grid_auto_flow": null,
      "grid_auto_rows": null,
      "grid_column": null,
      "grid_gap": null,
      "grid_row": null,
      "grid_template_areas": null,
      "grid_template_columns": null,
      "grid_template_rows": null,
      "height": null,
      "justify_content": null,
      "justify_items": null,
      "left": null,
      "margin": null,
      "max_height": null,
      "max_width": null,
      "min_height": null,
      "min_width": null,
      "object_fit": null,
      "object_position": null,
      "order": null,
      "overflow": null,
      "overflow_x": null,
      "overflow_y": null,
      "padding": null,
      "right": null,
      "top": null,
      "visibility": null,
      "width": null
     }
    },
    "432f7cf3f7f040b9bd973bffbb5b855e": {
     "model_module": "@jupyter-widgets/base",
     "model_module_version": "1.2.0",
     "model_name": "LayoutModel",
     "state": {
      "_model_module": "@jupyter-widgets/base",
      "_model_module_version": "1.2.0",
      "_model_name": "LayoutModel",
      "_view_count": null,
      "_view_module": "@jupyter-widgets/base",
      "_view_module_version": "1.2.0",
      "_view_name": "LayoutView",
      "align_content": null,
      "align_items": null,
      "align_self": null,
      "border": null,
      "bottom": null,
      "display": null,
      "flex": null,
      "flex_flow": null,
      "grid_area": null,
      "grid_auto_columns": null,
      "grid_auto_flow": null,
      "grid_auto_rows": null,
      "grid_column": null,
      "grid_gap": null,
      "grid_row": null,
      "grid_template_areas": null,
      "grid_template_columns": null,
      "grid_template_rows": null,
      "height": null,
      "justify_content": null,
      "justify_items": null,
      "left": null,
      "margin": null,
      "max_height": null,
      "max_width": null,
      "min_height": null,
      "min_width": null,
      "object_fit": null,
      "object_position": null,
      "order": null,
      "overflow": null,
      "overflow_x": null,
      "overflow_y": null,
      "padding": null,
      "right": null,
      "top": null,
      "visibility": null,
      "width": null
     }
    },
    "47d0ca6298154463ab7c632cebe083e4": {
     "model_module": "@jupyter-widgets/controls",
     "model_module_version": "1.5.0",
     "model_name": "IntSliderModel",
     "state": {
      "_dom_classes": [],
      "_model_module": "@jupyter-widgets/controls",
      "_model_module_version": "1.5.0",
      "_model_name": "IntSliderModel",
      "_view_count": null,
      "_view_module": "@jupyter-widgets/controls",
      "_view_module_version": "1.5.0",
      "_view_name": "IntSliderView",
      "continuous_update": false,
      "description": "Image Slice:",
      "description_tooltip": null,
      "disabled": false,
      "layout": "IPY_MODEL_a16d18f85e414e8bb4614e75ed2cc2d3",
      "max": 31,
      "min": 0,
      "orientation": "horizontal",
      "readout": true,
      "readout_format": "d",
      "step": 1,
      "style": "IPY_MODEL_569f09585cb14d31aad9007f87eeb8fb",
      "value": 13
     }
    },
    "4bbc4fb95c7848039bd373d4d0a87d90": {
     "model_module": "@jupyter-widgets/output",
     "model_module_version": "1.0.0",
     "model_name": "OutputModel",
     "state": {
      "_dom_classes": [],
      "_model_module": "@jupyter-widgets/output",
      "_model_module_version": "1.0.0",
      "_model_name": "OutputModel",
      "_view_count": null,
      "_view_module": "@jupyter-widgets/output",
      "_view_module_version": "1.0.0",
      "_view_name": "OutputView",
      "layout": "IPY_MODEL_ef61a5efb80f4223a7c52c83895cd150",
      "msg_id": "",
      "outputs": [
       {
        "application/vnd.jupyter.widget-view+json": {
         "model_id": "c0e9db0902614425a0f4bb112d37e88c",
         "version_major": 2,
         "version_minor": 0
        },
        "metadata": {
         "tags": []
        },
        "output_type": "display_data",
        "text/plain": "interactive(children=(IntSlider(value=0, continuous_update=False, description='Image Slice:', max=31), Output(…"
       }
      ]
     }
    },
    "4eb0f3067d22428dae9a7c164658605e": {
     "model_module": "@jupyter-widgets/controls",
     "model_module_version": "1.5.0",
     "model_name": "VBoxModel",
     "state": {
      "_dom_classes": [
       "widget-interact"
      ],
      "_model_module": "@jupyter-widgets/controls",
      "_model_module_version": "1.5.0",
      "_model_name": "VBoxModel",
      "_view_count": null,
      "_view_module": "@jupyter-widgets/controls",
      "_view_module_version": "1.5.0",
      "_view_name": "VBoxView",
      "box_style": "",
      "children": [
       "IPY_MODEL_3fd6bd7d19cf4fd8a58cd31433d5c16a",
       "IPY_MODEL_1096ddf337d246d6990bb9d4f33dce3e"
      ],
      "layout": "IPY_MODEL_d3a23a714823455c827452512cfb9454"
     }
    },
    "50d6998c62cd494a8d548a6e5b4e7c3f": {
     "model_module": "@jupyter-widgets/controls",
     "model_module_version": "1.5.0",
     "model_name": "IntSliderModel",
     "state": {
      "_dom_classes": [],
      "_model_module": "@jupyter-widgets/controls",
      "_model_module_version": "1.5.0",
      "_model_name": "IntSliderModel",
      "_view_count": null,
      "_view_module": "@jupyter-widgets/controls",
      "_view_module_version": "1.5.0",
      "_view_name": "IntSliderView",
      "continuous_update": false,
      "description": "Image Slice:",
      "description_tooltip": null,
      "disabled": false,
      "layout": "IPY_MODEL_883a46a8481a4154883c0919a7361404",
      "max": 31,
      "min": 0,
      "orientation": "horizontal",
      "readout": true,
      "readout_format": "d",
      "step": 1,
      "style": "IPY_MODEL_51bb9c2a5a9141fc9696bb679c436632",
      "value": 0
     }
    },
    "514597812ee64945bc3eeccce3ee363b": {
     "model_module": "@jupyter-widgets/base",
     "model_module_version": "1.2.0",
     "model_name": "LayoutModel",
     "state": {
      "_model_module": "@jupyter-widgets/base",
      "_model_module_version": "1.2.0",
      "_model_name": "LayoutModel",
      "_view_count": null,
      "_view_module": "@jupyter-widgets/base",
      "_view_module_version": "1.2.0",
      "_view_name": "LayoutView",
      "align_content": null,
      "align_items": null,
      "align_self": null,
      "border": null,
      "bottom": null,
      "display": null,
      "flex": null,
      "flex_flow": null,
      "grid_area": null,
      "grid_auto_columns": null,
      "grid_auto_flow": null,
      "grid_auto_rows": null,
      "grid_column": null,
      "grid_gap": null,
      "grid_row": null,
      "grid_template_areas": null,
      "grid_template_columns": null,
      "grid_template_rows": null,
      "height": null,
      "justify_content": null,
      "justify_items": null,
      "left": null,
      "margin": null,
      "max_height": null,
      "max_width": null,
      "min_height": null,
      "min_width": null,
      "object_fit": null,
      "object_position": null,
      "order": null,
      "overflow": null,
      "overflow_x": null,
      "overflow_y": null,
      "padding": null,
      "right": null,
      "top": null,
      "visibility": null,
      "width": null
     }
    },
    "51bb9c2a5a9141fc9696bb679c436632": {
     "model_module": "@jupyter-widgets/controls",
     "model_module_version": "1.5.0",
     "model_name": "SliderStyleModel",
     "state": {
      "_model_module": "@jupyter-widgets/controls",
      "_model_module_version": "1.5.0",
      "_model_name": "SliderStyleModel",
      "_view_count": null,
      "_view_module": "@jupyter-widgets/base",
      "_view_module_version": "1.2.0",
      "_view_name": "StyleView",
      "description_width": "",
      "handle_color": null
     }
    },
    "5419b3aa548742aa8fe0efad82aab021": {
     "model_module": "@jupyter-widgets/base",
     "model_module_version": "1.2.0",
     "model_name": "LayoutModel",
     "state": {
      "_model_module": "@jupyter-widgets/base",
      "_model_module_version": "1.2.0",
      "_model_name": "LayoutModel",
      "_view_count": null,
      "_view_module": "@jupyter-widgets/base",
      "_view_module_version": "1.2.0",
      "_view_name": "LayoutView",
      "align_content": null,
      "align_items": null,
      "align_self": null,
      "border": null,
      "bottom": null,
      "display": null,
      "flex": null,
      "flex_flow": null,
      "grid_area": null,
      "grid_auto_columns": null,
      "grid_auto_flow": null,
      "grid_auto_rows": null,
      "grid_column": null,
      "grid_gap": null,
      "grid_row": null,
      "grid_template_areas": null,
      "grid_template_columns": null,
      "grid_template_rows": null,
      "height": null,
      "justify_content": null,
      "justify_items": null,
      "left": null,
      "margin": null,
      "max_height": null,
      "max_width": null,
      "min_height": null,
      "min_width": null,
      "object_fit": null,
      "object_position": null,
      "order": null,
      "overflow": null,
      "overflow_x": null,
      "overflow_y": null,
      "padding": null,
      "right": null,
      "top": null,
      "visibility": null,
      "width": null
     }
    },
    "546b82464b324637805c41dec8b14394": {
     "model_module": "@jupyter-widgets/controls",
     "model_module_version": "1.5.0",
     "model_name": "RadioButtonsModel",
     "state": {
      "_dom_classes": [],
      "_model_module": "@jupyter-widgets/controls",
      "_model_module_version": "1.5.0",
      "_model_name": "RadioButtonsModel",
      "_options_labels": [
       "x-y",
       "y-z",
       "z-x"
      ],
      "_view_count": null,
      "_view_module": "@jupyter-widgets/controls",
      "_view_module_version": "1.5.0",
      "_view_name": "RadioButtonsView",
      "description": "Slice plane selection:",
      "description_tooltip": null,
      "disabled": false,
      "index": 0,
      "layout": "IPY_MODEL_ed89ac4b98194b598251a5cb74684106",
      "style": "IPY_MODEL_7bc3b00367684345b9cfc346c70a6349"
     }
    },
    "569f09585cb14d31aad9007f87eeb8fb": {
     "model_module": "@jupyter-widgets/controls",
     "model_module_version": "1.5.0",
     "model_name": "SliderStyleModel",
     "state": {
      "_model_module": "@jupyter-widgets/controls",
      "_model_module_version": "1.5.0",
      "_model_name": "SliderStyleModel",
      "_view_count": null,
      "_view_module": "@jupyter-widgets/base",
      "_view_module_version": "1.2.0",
      "_view_name": "StyleView",
      "description_width": "",
      "handle_color": null
     }
    },
    "56d1d3b4603d461da7ea9937e60bc151": {
     "model_module": "@jupyter-widgets/output",
     "model_module_version": "1.0.0",
     "model_name": "OutputModel",
     "state": {
      "_dom_classes": [],
      "_model_module": "@jupyter-widgets/output",
      "_model_module_version": "1.0.0",
      "_model_name": "OutputModel",
      "_view_count": null,
      "_view_module": "@jupyter-widgets/output",
      "_view_module_version": "1.0.0",
      "_view_name": "OutputView",
      "layout": "IPY_MODEL_5419b3aa548742aa8fe0efad82aab021",
      "msg_id": "",
      "outputs": [
       {
        "image/png": "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\n",
        "metadata": {
         "needs_background": "light",
         "tags": []
        },
        "output_type": "display_data",
        "text/plain": "<Figure size 216x216 with 1 Axes>"
       }
      ]
     }
    },
    "5e8e9422e6094e9488b9035d6fc5ee7c": {
     "model_module": "@jupyter-widgets/controls",
     "model_module_version": "1.5.0",
     "model_name": "VBoxModel",
     "state": {
      "_dom_classes": [
       "widget-interact"
      ],
      "_model_module": "@jupyter-widgets/controls",
      "_model_module_version": "1.5.0",
      "_model_name": "VBoxModel",
      "_view_count": null,
      "_view_module": "@jupyter-widgets/controls",
      "_view_module_version": "1.5.0",
      "_view_name": "VBoxView",
      "box_style": "",
      "children": [
       "IPY_MODEL_83faf7bca72b4c498535c9f47a442c70",
       "IPY_MODEL_976638af4c80442da48cf0f23a6c39bd"
      ],
      "layout": "IPY_MODEL_fa5bfc91568740ac91b2580da603e412"
     }
    },
    "6029a9b1d4744c23a7845ce75b7c649e": {
     "model_module": "@jupyter-widgets/base",
     "model_module_version": "1.2.0",
     "model_name": "LayoutModel",
     "state": {
      "_model_module": "@jupyter-widgets/base",
      "_model_module_version": "1.2.0",
      "_model_name": "LayoutModel",
      "_view_count": null,
      "_view_module": "@jupyter-widgets/base",
      "_view_module_version": "1.2.0",
      "_view_name": "LayoutView",
      "align_content": null,
      "align_items": null,
      "align_self": null,
      "border": null,
      "bottom": null,
      "display": null,
      "flex": null,
      "flex_flow": null,
      "grid_area": null,
      "grid_auto_columns": null,
      "grid_auto_flow": null,
      "grid_auto_rows": null,
      "grid_column": null,
      "grid_gap": null,
      "grid_row": null,
      "grid_template_areas": null,
      "grid_template_columns": null,
      "grid_template_rows": null,
      "height": null,
      "justify_content": null,
      "justify_items": null,
      "left": null,
      "margin": null,
      "max_height": null,
      "max_width": null,
      "min_height": null,
      "min_width": null,
      "object_fit": null,
      "object_position": null,
      "order": null,
      "overflow": null,
      "overflow_x": null,
      "overflow_y": null,
      "padding": null,
      "right": null,
      "top": null,
      "visibility": null,
      "width": null
     }
    },
    "60bfbbcd8c4c4fef88abffc7386fd222": {
     "model_module": "@jupyter-widgets/controls",
     "model_module_version": "1.5.0",
     "model_name": "VBoxModel",
     "state": {
      "_dom_classes": [
       "widget-interact"
      ],
      "_model_module": "@jupyter-widgets/controls",
      "_model_module_version": "1.5.0",
      "_model_name": "VBoxModel",
      "_view_count": null,
      "_view_module": "@jupyter-widgets/controls",
      "_view_module_version": "1.5.0",
      "_view_name": "VBoxView",
      "box_style": "",
      "children": [
       "IPY_MODEL_a3cd65bf5df440358073dbb5ea7ab1de",
       "IPY_MODEL_aa37b85ff07b45ef843f2211f44b21b9"
      ],
      "layout": "IPY_MODEL_0f3801ed6784485f97115815ac664a20"
     }
    },
    "6149f6e0eb524ce5b8f9ca007cbd4c4b": {
     "model_module": "@jupyter-widgets/base",
     "model_module_version": "1.2.0",
     "model_name": "LayoutModel",
     "state": {
      "_model_module": "@jupyter-widgets/base",
      "_model_module_version": "1.2.0",
      "_model_name": "LayoutModel",
      "_view_count": null,
      "_view_module": "@jupyter-widgets/base",
      "_view_module_version": "1.2.0",
      "_view_name": "LayoutView",
      "align_content": null,
      "align_items": null,
      "align_self": null,
      "border": null,
      "bottom": null,
      "display": null,
      "flex": null,
      "flex_flow": null,
      "grid_area": null,
      "grid_auto_columns": null,
      "grid_auto_flow": null,
      "grid_auto_rows": null,
      "grid_column": null,
      "grid_gap": null,
      "grid_row": null,
      "grid_template_areas": null,
      "grid_template_columns": null,
      "grid_template_rows": null,
      "height": null,
      "justify_content": null,
      "justify_items": null,
      "left": null,
      "margin": null,
      "max_height": null,
      "max_width": null,
      "min_height": null,
      "min_width": null,
      "object_fit": null,
      "object_position": null,
      "order": null,
      "overflow": null,
      "overflow_x": null,
      "overflow_y": null,
      "padding": null,
      "right": null,
      "top": null,
      "visibility": null,
      "width": null
     }
    },
    "6dded69bcb8e441eb809d0b63ab22dbb": {
     "model_module": "@jupyter-widgets/controls",
     "model_module_version": "1.5.0",
     "model_name": "SliderStyleModel",
     "state": {
      "_model_module": "@jupyter-widgets/controls",
      "_model_module_version": "1.5.0",
      "_model_name": "SliderStyleModel",
      "_view_count": null,
      "_view_module": "@jupyter-widgets/base",
      "_view_module_version": "1.2.0",
      "_view_name": "StyleView",
      "description_width": "",
      "handle_color": null
     }
    },
    "7079b181a22f4daebc05bf4db5378158": {
     "model_module": "@jupyter-widgets/controls",
     "model_module_version": "1.5.0",
     "model_name": "VBoxModel",
     "state": {
      "_dom_classes": [
       "widget-interact"
      ],
      "_model_module": "@jupyter-widgets/controls",
      "_model_module_version": "1.5.0",
      "_model_name": "VBoxModel",
      "_view_count": null,
      "_view_module": "@jupyter-widgets/controls",
      "_view_module_version": "1.5.0",
      "_view_name": "VBoxView",
      "box_style": "",
      "children": [
       "IPY_MODEL_2f7ea6b341ed415db0de4c36b22bc86e",
       "IPY_MODEL_b9ecbf65f6ea48998c63f8c94c45780e"
      ],
      "layout": "IPY_MODEL_6149f6e0eb524ce5b8f9ca007cbd4c4b"
     }
    },
    "7359c8f00d24448aacf8de2d59e41bdf": {
     "model_module": "@jupyter-widgets/base",
     "model_module_version": "1.2.0",
     "model_name": "LayoutModel",
     "state": {
      "_model_module": "@jupyter-widgets/base",
      "_model_module_version": "1.2.0",
      "_model_name": "LayoutModel",
      "_view_count": null,
      "_view_module": "@jupyter-widgets/base",
      "_view_module_version": "1.2.0",
      "_view_name": "LayoutView",
      "align_content": null,
      "align_items": null,
      "align_self": null,
      "border": null,
      "bottom": null,
      "display": null,
      "flex": null,
      "flex_flow": null,
      "grid_area": null,
      "grid_auto_columns": null,
      "grid_auto_flow": null,
      "grid_auto_rows": null,
      "grid_column": null,
      "grid_gap": null,
      "grid_row": null,
      "grid_template_areas": null,
      "grid_template_columns": null,
      "grid_template_rows": null,
      "height": null,
      "justify_content": null,
      "justify_items": null,
      "left": null,
      "margin": null,
      "max_height": null,
      "max_width": null,
      "min_height": null,
      "min_width": null,
      "object_fit": null,
      "object_position": null,
      "order": null,
      "overflow": null,
      "overflow_x": null,
      "overflow_y": null,
      "padding": null,
      "right": null,
      "top": null,
      "visibility": null,
      "width": null
     }
    },
    "764f053e00634d2b81f3dad85cd4e5ba": {
     "model_module": "@jupyter-widgets/base",
     "model_module_version": "1.2.0",
     "model_name": "LayoutModel",
     "state": {
      "_model_module": "@jupyter-widgets/base",
      "_model_module_version": "1.2.0",
      "_model_name": "LayoutModel",
      "_view_count": null,
      "_view_module": "@jupyter-widgets/base",
      "_view_module_version": "1.2.0",
      "_view_name": "LayoutView",
      "align_content": null,
      "align_items": null,
      "align_self": null,
      "border": null,
      "bottom": null,
      "display": null,
      "flex": null,
      "flex_flow": null,
      "grid_area": null,
      "grid_auto_columns": null,
      "grid_auto_flow": null,
      "grid_auto_rows": null,
      "grid_column": null,
      "grid_gap": null,
      "grid_row": null,
      "grid_template_areas": null,
      "grid_template_columns": null,
      "grid_template_rows": null,
      "height": null,
      "justify_content": null,
      "justify_items": null,
      "left": null,
      "margin": null,
      "max_height": null,
      "max_width": null,
      "min_height": null,
      "min_width": null,
      "object_fit": null,
      "object_position": null,
      "order": null,
      "overflow": null,
      "overflow_x": null,
      "overflow_y": null,
      "padding": null,
      "right": null,
      "top": null,
      "visibility": null,
      "width": null
     }
    },
    "7768a0bb354d46d6882f8c83125cae48": {
     "model_module": "@jupyter-widgets/base",
     "model_module_version": "1.2.0",
     "model_name": "LayoutModel",
     "state": {
      "_model_module": "@jupyter-widgets/base",
      "_model_module_version": "1.2.0",
      "_model_name": "LayoutModel",
      "_view_count": null,
      "_view_module": "@jupyter-widgets/base",
      "_view_module_version": "1.2.0",
      "_view_name": "LayoutView",
      "align_content": null,
      "align_items": null,
      "align_self": null,
      "border": null,
      "bottom": null,
      "display": null,
      "flex": null,
      "flex_flow": null,
      "grid_area": null,
      "grid_auto_columns": null,
      "grid_auto_flow": null,
      "grid_auto_rows": null,
      "grid_column": null,
      "grid_gap": null,
      "grid_row": null,
      "grid_template_areas": null,
      "grid_template_columns": null,
      "grid_template_rows": null,
      "height": null,
      "justify_content": null,
      "justify_items": null,
      "left": null,
      "margin": null,
      "max_height": null,
      "max_width": null,
      "min_height": null,
      "min_width": null,
      "object_fit": null,
      "object_position": null,
      "order": null,
      "overflow": null,
      "overflow_x": null,
      "overflow_y": null,
      "padding": null,
      "right": null,
      "top": null,
      "visibility": null,
      "width": null
     }
    },
    "7bc3b00367684345b9cfc346c70a6349": {
     "model_module": "@jupyter-widgets/controls",
     "model_module_version": "1.5.0",
     "model_name": "DescriptionStyleModel",
     "state": {
      "_model_module": "@jupyter-widgets/controls",
      "_model_module_version": "1.5.0",
      "_model_name": "DescriptionStyleModel",
      "_view_count": null,
      "_view_module": "@jupyter-widgets/base",
      "_view_module_version": "1.2.0",
      "_view_name": "StyleView",
      "description_width": "initial"
     }
    },
    "7fb830b595a4471e9726799a5595d07f": {
     "model_module": "@jupyter-widgets/base",
     "model_module_version": "1.2.0",
     "model_name": "LayoutModel",
     "state": {
      "_model_module": "@jupyter-widgets/base",
      "_model_module_version": "1.2.0",
      "_model_name": "LayoutModel",
      "_view_count": null,
      "_view_module": "@jupyter-widgets/base",
      "_view_module_version": "1.2.0",
      "_view_name": "LayoutView",
      "align_content": null,
      "align_items": null,
      "align_self": null,
      "border": null,
      "bottom": null,
      "display": null,
      "flex": null,
      "flex_flow": null,
      "grid_area": null,
      "grid_auto_columns": null,
      "grid_auto_flow": null,
      "grid_auto_rows": null,
      "grid_column": null,
      "grid_gap": null,
      "grid_row": null,
      "grid_template_areas": null,
      "grid_template_columns": null,
      "grid_template_rows": null,
      "height": null,
      "justify_content": null,
      "justify_items": null,
      "left": null,
      "margin": null,
      "max_height": null,
      "max_width": null,
      "min_height": null,
      "min_width": null,
      "object_fit": null,
      "object_position": null,
      "order": null,
      "overflow": null,
      "overflow_x": null,
      "overflow_y": null,
      "padding": null,
      "right": null,
      "top": null,
      "visibility": null,
      "width": null
     }
    },
    "832ffdaa422e4d06ac9f28cf2a30f320": {
     "model_module": "@jupyter-widgets/controls",
     "model_module_version": "1.5.0",
     "model_name": "VBoxModel",
     "state": {
      "_dom_classes": [
       "widget-interact"
      ],
      "_model_module": "@jupyter-widgets/controls",
      "_model_module_version": "1.5.0",
      "_model_name": "VBoxModel",
      "_view_count": null,
      "_view_module": "@jupyter-widgets/controls",
      "_view_module_version": "1.5.0",
      "_view_name": "VBoxView",
      "box_style": "",
      "children": [
       "IPY_MODEL_546b82464b324637805c41dec8b14394",
       "IPY_MODEL_260a84c02cb14fed9c1012570ec9d15d"
      ],
      "layout": "IPY_MODEL_1de22c78bcd347928449f1d3a6f807ae"
     }
    },
    "83faf7bca72b4c498535c9f47a442c70": {
     "model_module": "@jupyter-widgets/controls",
     "model_module_version": "1.5.0",
     "model_name": "RadioButtonsModel",
     "state": {
      "_dom_classes": [],
      "_model_module": "@jupyter-widgets/controls",
      "_model_module_version": "1.5.0",
      "_model_name": "RadioButtonsModel",
      "_options_labels": [
       "x-y",
       "y-z",
       "z-x"
      ],
      "_view_count": null,
      "_view_module": "@jupyter-widgets/controls",
      "_view_module_version": "1.5.0",
      "_view_name": "RadioButtonsView",
      "description": "Slice plane selection:",
      "description_tooltip": null,
      "disabled": false,
      "index": 0,
      "layout": "IPY_MODEL_31619f1bb38340b886424946fa725b8b",
      "style": "IPY_MODEL_be404660f294486ea86e0b1fc5370905"
     }
    },
    "84eea26a4367401c9cce207c11bcd4e8": {
     "model_module": "@jupyter-widgets/output",
     "model_module_version": "1.0.0",
     "model_name": "OutputModel",
     "state": {
      "_dom_classes": [],
      "_model_module": "@jupyter-widgets/output",
      "_model_module_version": "1.0.0",
      "_model_name": "OutputModel",
      "_view_count": null,
      "_view_module": "@jupyter-widgets/output",
      "_view_module_version": "1.0.0",
      "_view_name": "OutputView",
      "layout": "IPY_MODEL_764f053e00634d2b81f3dad85cd4e5ba",
      "msg_id": "",
      "outputs": [
       {
        "image/png": "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\n",
        "metadata": {
         "needs_background": "light",
         "tags": []
        },
        "output_type": "display_data",
        "text/plain": "<Figure size 216x216 with 1 Axes>"
       }
      ]
     }
    },
    "86feef932c634235928b9d0effbcf8a6": {
     "model_module": "@jupyter-widgets/base",
     "model_module_version": "1.2.0",
     "model_name": "LayoutModel",
     "state": {
      "_model_module": "@jupyter-widgets/base",
      "_model_module_version": "1.2.0",
      "_model_name": "LayoutModel",
      "_view_count": null,
      "_view_module": "@jupyter-widgets/base",
      "_view_module_version": "1.2.0",
      "_view_name": "LayoutView",
      "align_content": null,
      "align_items": null,
      "align_self": null,
      "border": null,
      "bottom": null,
      "display": null,
      "flex": null,
      "flex_flow": null,
      "grid_area": null,
      "grid_auto_columns": null,
      "grid_auto_flow": null,
      "grid_auto_rows": null,
      "grid_column": null,
      "grid_gap": null,
      "grid_row": null,
      "grid_template_areas": null,
      "grid_template_columns": null,
      "grid_template_rows": null,
      "height": null,
      "justify_content": null,
      "justify_items": null,
      "left": null,
      "margin": null,
      "max_height": null,
      "max_width": null,
      "min_height": null,
      "min_width": null,
      "object_fit": null,
      "object_position": null,
      "order": null,
      "overflow": null,
      "overflow_x": null,
      "overflow_y": null,
      "padding": null,
      "right": null,
      "top": null,
      "visibility": null,
      "width": null
     }
    },
    "883a46a8481a4154883c0919a7361404": {
     "model_module": "@jupyter-widgets/base",
     "model_module_version": "1.2.0",
     "model_name": "LayoutModel",
     "state": {
      "_model_module": "@jupyter-widgets/base",
      "_model_module_version": "1.2.0",
      "_model_name": "LayoutModel",
      "_view_count": null,
      "_view_module": "@jupyter-widgets/base",
      "_view_module_version": "1.2.0",
      "_view_name": "LayoutView",
      "align_content": null,
      "align_items": null,
      "align_self": null,
      "border": null,
      "bottom": null,
      "display": null,
      "flex": null,
      "flex_flow": null,
      "grid_area": null,
      "grid_auto_columns": null,
      "grid_auto_flow": null,
      "grid_auto_rows": null,
      "grid_column": null,
      "grid_gap": null,
      "grid_row": null,
      "grid_template_areas": null,
      "grid_template_columns": null,
      "grid_template_rows": null,
      "height": null,
      "justify_content": null,
      "justify_items": null,
      "left": null,
      "margin": null,
      "max_height": null,
      "max_width": null,
      "min_height": null,
      "min_width": null,
      "object_fit": null,
      "object_position": null,
      "order": null,
      "overflow": null,
      "overflow_x": null,
      "overflow_y": null,
      "padding": null,
      "right": null,
      "top": null,
      "visibility": null,
      "width": null
     }
    },
    "89de6f7aba4f4096b0287f2e4fe3244e": {
     "model_module": "@jupyter-widgets/controls",
     "model_module_version": "1.5.0",
     "model_name": "VBoxModel",
     "state": {
      "_dom_classes": [
       "widget-interact"
      ],
      "_model_module": "@jupyter-widgets/controls",
      "_model_module_version": "1.5.0",
      "_model_name": "VBoxModel",
      "_view_count": null,
      "_view_module": "@jupyter-widgets/controls",
      "_view_module_version": "1.5.0",
      "_view_name": "VBoxView",
      "box_style": "",
      "children": [
       "IPY_MODEL_b7b491c31fa941ecbe7d1df49f983caa",
       "IPY_MODEL_1f9eca237f344ca3936f9c426aea8b0e"
      ],
      "layout": "IPY_MODEL_6029a9b1d4744c23a7845ce75b7c649e"
     }
    },
    "976638af4c80442da48cf0f23a6c39bd": {
     "model_module": "@jupyter-widgets/output",
     "model_module_version": "1.0.0",
     "model_name": "OutputModel",
     "state": {
      "_dom_classes": [],
      "_model_module": "@jupyter-widgets/output",
      "_model_module_version": "1.0.0",
      "_model_name": "OutputModel",
      "_view_count": null,
      "_view_module": "@jupyter-widgets/output",
      "_view_module_version": "1.0.0",
      "_view_name": "OutputView",
      "layout": "IPY_MODEL_514597812ee64945bc3eeccce3ee363b",
      "msg_id": "",
      "outputs": [
       {
        "application/vnd.jupyter.widget-view+json": {
         "model_id": "7079b181a22f4daebc05bf4db5378158",
         "version_major": 2,
         "version_minor": 0
        },
        "metadata": {
         "tags": []
        },
        "output_type": "display_data",
        "text/plain": "interactive(children=(IntSlider(value=0, continuous_update=False, description='Image Slice:', max=31), Output(…"
       }
      ]
     }
    },
    "a16d18f85e414e8bb4614e75ed2cc2d3": {
     "model_module": "@jupyter-widgets/base",
     "model_module_version": "1.2.0",
     "model_name": "LayoutModel",
     "state": {
      "_model_module": "@jupyter-widgets/base",
      "_model_module_version": "1.2.0",
      "_model_name": "LayoutModel",
      "_view_count": null,
      "_view_module": "@jupyter-widgets/base",
      "_view_module_version": "1.2.0",
      "_view_name": "LayoutView",
      "align_content": null,
      "align_items": null,
      "align_self": null,
      "border": null,
      "bottom": null,
      "display": null,
      "flex": null,
      "flex_flow": null,
      "grid_area": null,
      "grid_auto_columns": null,
      "grid_auto_flow": null,
      "grid_auto_rows": null,
      "grid_column": null,
      "grid_gap": null,
      "grid_row": null,
      "grid_template_areas": null,
      "grid_template_columns": null,
      "grid_template_rows": null,
      "height": null,
      "justify_content": null,
      "justify_items": null,
      "left": null,
      "margin": null,
      "max_height": null,
      "max_width": null,
      "min_height": null,
      "min_width": null,
      "object_fit": null,
      "object_position": null,
      "order": null,
      "overflow": null,
      "overflow_x": null,
      "overflow_y": null,
      "padding": null,
      "right": null,
      "top": null,
      "visibility": null,
      "width": null
     }
    },
    "a3cd65bf5df440358073dbb5ea7ab1de": {
     "model_module": "@jupyter-widgets/controls",
     "model_module_version": "1.5.0",
     "model_name": "RadioButtonsModel",
     "state": {
      "_dom_classes": [],
      "_model_module": "@jupyter-widgets/controls",
      "_model_module_version": "1.5.0",
      "_model_name": "RadioButtonsModel",
      "_options_labels": [
       "x-y",
       "y-z",
       "z-x"
      ],
      "_view_count": null,
      "_view_module": "@jupyter-widgets/controls",
      "_view_module_version": "1.5.0",
      "_view_name": "RadioButtonsView",
      "description": "Slice plane selection:",
      "description_tooltip": null,
      "disabled": false,
      "index": 0,
      "layout": "IPY_MODEL_0d335c7c2a024dc6a2ffe564a5c26439",
      "style": "IPY_MODEL_16d86a7c51bc445880a7b922957955df"
     }
    },
    "a9d718d8f69443debbd451170618dd71": {
     "model_module": "@jupyter-widgets/base",
     "model_module_version": "1.2.0",
     "model_name": "LayoutModel",
     "state": {
      "_model_module": "@jupyter-widgets/base",
      "_model_module_version": "1.2.0",
      "_model_name": "LayoutModel",
      "_view_count": null,
      "_view_module": "@jupyter-widgets/base",
      "_view_module_version": "1.2.0",
      "_view_name": "LayoutView",
      "align_content": null,
      "align_items": null,
      "align_self": null,
      "border": null,
      "bottom": null,
      "display": null,
      "flex": null,
      "flex_flow": null,
      "grid_area": null,
      "grid_auto_columns": null,
      "grid_auto_flow": null,
      "grid_auto_rows": null,
      "grid_column": null,
      "grid_gap": null,
      "grid_row": null,
      "grid_template_areas": null,
      "grid_template_columns": null,
      "grid_template_rows": null,
      "height": null,
      "justify_content": null,
      "justify_items": null,
      "left": null,
      "margin": null,
      "max_height": null,
      "max_width": null,
      "min_height": null,
      "min_width": null,
      "object_fit": null,
      "object_position": null,
      "order": null,
      "overflow": null,
      "overflow_x": null,
      "overflow_y": null,
      "padding": null,
      "right": null,
      "top": null,
      "visibility": null,
      "width": null
     }
    },
    "aa37b85ff07b45ef843f2211f44b21b9": {
     "model_module": "@jupyter-widgets/output",
     "model_module_version": "1.0.0",
     "model_name": "OutputModel",
     "state": {
      "_dom_classes": [],
      "_model_module": "@jupyter-widgets/output",
      "_model_module_version": "1.0.0",
      "_model_name": "OutputModel",
      "_view_count": null,
      "_view_module": "@jupyter-widgets/output",
      "_view_module_version": "1.0.0",
      "_view_name": "OutputView",
      "layout": "IPY_MODEL_c5d0c9a5b89f4d13a0bcce6287284b43",
      "msg_id": "",
      "outputs": [
       {
        "application/vnd.jupyter.widget-view+json": {
         "model_id": "ff5b691f276548fa95401b76b44ff4d7",
         "version_major": 2,
         "version_minor": 0
        },
        "metadata": {
         "tags": []
        },
        "output_type": "display_data",
        "text/plain": "interactive(children=(IntSlider(value=0, continuous_update=False, description='Image Slice:', max=31), Output(…"
       }
      ]
     }
    },
    "b0ac4132d01a48e19250b92239fa3519": {
     "model_module": "@jupyter-widgets/base",
     "model_module_version": "1.2.0",
     "model_name": "LayoutModel",
     "state": {
      "_model_module": "@jupyter-widgets/base",
      "_model_module_version": "1.2.0",
      "_model_name": "LayoutModel",
      "_view_count": null,
      "_view_module": "@jupyter-widgets/base",
      "_view_module_version": "1.2.0",
      "_view_name": "LayoutView",
      "align_content": null,
      "align_items": null,
      "align_self": null,
      "border": null,
      "bottom": null,
      "display": null,
      "flex": null,
      "flex_flow": null,
      "grid_area": null,
      "grid_auto_columns": null,
      "grid_auto_flow": null,
      "grid_auto_rows": null,
      "grid_column": null,
      "grid_gap": null,
      "grid_row": null,
      "grid_template_areas": null,
      "grid_template_columns": null,
      "grid_template_rows": null,
      "height": null,
      "justify_content": null,
      "justify_items": null,
      "left": null,
      "margin": null,
      "max_height": null,
      "max_width": null,
      "min_height": null,
      "min_width": null,
      "object_fit": null,
      "object_position": null,
      "order": null,
      "overflow": null,
      "overflow_x": null,
      "overflow_y": null,
      "padding": null,
      "right": null,
      "top": null,
      "visibility": null,
      "width": null
     }
    },
    "b7b491c31fa941ecbe7d1df49f983caa": {
     "model_module": "@jupyter-widgets/controls",
     "model_module_version": "1.5.0",
     "model_name": "RadioButtonsModel",
     "state": {
      "_dom_classes": [],
      "_model_module": "@jupyter-widgets/controls",
      "_model_module_version": "1.5.0",
      "_model_name": "RadioButtonsModel",
      "_options_labels": [
       "x-y",
       "y-z",
       "z-x"
      ],
      "_view_count": null,
      "_view_module": "@jupyter-widgets/controls",
      "_view_module_version": "1.5.0",
      "_view_name": "RadioButtonsView",
      "description": "Slice plane selection:",
      "description_tooltip": null,
      "disabled": false,
      "index": 0,
      "layout": "IPY_MODEL_4272169899f04dd58e5383ae95ede016",
      "style": "IPY_MODEL_377a2f1dfa124f23a615f5a8ca7e2cb0"
     }
    },
    "b9ecbf65f6ea48998c63f8c94c45780e": {
     "model_module": "@jupyter-widgets/output",
     "model_module_version": "1.0.0",
     "model_name": "OutputModel",
     "state": {
      "_dom_classes": [],
      "_model_module": "@jupyter-widgets/output",
      "_model_module_version": "1.0.0",
      "_model_name": "OutputModel",
      "_view_count": null,
      "_view_module": "@jupyter-widgets/output",
      "_view_module_version": "1.0.0",
      "_view_name": "OutputView",
      "layout": "IPY_MODEL_2f2923cda25f44278b7a8ecb6d72aa28",
      "msg_id": "",
      "outputs": [
       {
        "image/png": "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\n",
        "metadata": {
         "needs_background": "light",
         "tags": []
        },
        "output_type": "display_data",
        "text/plain": "<Figure size 216x216 with 1 Axes>"
       }
      ]
     }
    },
    "be404660f294486ea86e0b1fc5370905": {
     "model_module": "@jupyter-widgets/controls",
     "model_module_version": "1.5.0",
     "model_name": "DescriptionStyleModel",
     "state": {
      "_model_module": "@jupyter-widgets/controls",
      "_model_module_version": "1.5.0",
      "_model_name": "DescriptionStyleModel",
      "_view_count": null,
      "_view_module": "@jupyter-widgets/base",
      "_view_module_version": "1.2.0",
      "_view_name": "StyleView",
      "description_width": "initial"
     }
    },
    "c0e9db0902614425a0f4bb112d37e88c": {
     "model_module": "@jupyter-widgets/controls",
     "model_module_version": "1.5.0",
     "model_name": "VBoxModel",
     "state": {
      "_dom_classes": [
       "widget-interact"
      ],
      "_model_module": "@jupyter-widgets/controls",
      "_model_module_version": "1.5.0",
      "_model_name": "VBoxModel",
      "_view_count": null,
      "_view_module": "@jupyter-widgets/controls",
      "_view_module_version": "1.5.0",
      "_view_name": "VBoxView",
      "box_style": "",
      "children": [
       "IPY_MODEL_47d0ca6298154463ab7c632cebe083e4",
       "IPY_MODEL_e46c61c4416f4d0e91775327c93d1914"
      ],
      "layout": "IPY_MODEL_7359c8f00d24448aacf8de2d59e41bdf"
     }
    },
    "c48edc304d9a4fc89185e4fb8e689de9": {
     "model_module": "@jupyter-widgets/controls",
     "model_module_version": "1.5.0",
     "model_name": "DescriptionStyleModel",
     "state": {
      "_model_module": "@jupyter-widgets/controls",
      "_model_module_version": "1.5.0",
      "_model_name": "DescriptionStyleModel",
      "_view_count": null,
      "_view_module": "@jupyter-widgets/base",
      "_view_module_version": "1.2.0",
      "_view_name": "StyleView",
      "description_width": "initial"
     }
    },
    "c5d0c9a5b89f4d13a0bcce6287284b43": {
     "model_module": "@jupyter-widgets/base",
     "model_module_version": "1.2.0",
     "model_name": "LayoutModel",
     "state": {
      "_model_module": "@jupyter-widgets/base",
      "_model_module_version": "1.2.0",
      "_model_name": "LayoutModel",
      "_view_count": null,
      "_view_module": "@jupyter-widgets/base",
      "_view_module_version": "1.2.0",
      "_view_name": "LayoutView",
      "align_content": null,
      "align_items": null,
      "align_self": null,
      "border": null,
      "bottom": null,
      "display": null,
      "flex": null,
      "flex_flow": null,
      "grid_area": null,
      "grid_auto_columns": null,
      "grid_auto_flow": null,
      "grid_auto_rows": null,
      "grid_column": null,
      "grid_gap": null,
      "grid_row": null,
      "grid_template_areas": null,
      "grid_template_columns": null,
      "grid_template_rows": null,
      "height": null,
      "justify_content": null,
      "justify_items": null,
      "left": null,
      "margin": null,
      "max_height": null,
      "max_width": null,
      "min_height": null,
      "min_width": null,
      "object_fit": null,
      "object_position": null,
      "order": null,
      "overflow": null,
      "overflow_x": null,
      "overflow_y": null,
      "padding": null,
      "right": null,
      "top": null,
      "visibility": null,
      "width": null
     }
    },
    "cbf510dad55643cd96ee0ca3b5a11a93": {
     "model_module": "@jupyter-widgets/controls",
     "model_module_version": "1.5.0",
     "model_name": "SliderStyleModel",
     "state": {
      "_model_module": "@jupyter-widgets/controls",
      "_model_module_version": "1.5.0",
      "_model_name": "SliderStyleModel",
      "_view_count": null,
      "_view_module": "@jupyter-widgets/base",
      "_view_module_version": "1.2.0",
      "_view_name": "StyleView",
      "description_width": "",
      "handle_color": null
     }
    },
    "d3a23a714823455c827452512cfb9454": {
     "model_module": "@jupyter-widgets/base",
     "model_module_version": "1.2.0",
     "model_name": "LayoutModel",
     "state": {
      "_model_module": "@jupyter-widgets/base",
      "_model_module_version": "1.2.0",
      "_model_name": "LayoutModel",
      "_view_count": null,
      "_view_module": "@jupyter-widgets/base",
      "_view_module_version": "1.2.0",
      "_view_name": "LayoutView",
      "align_content": null,
      "align_items": null,
      "align_self": null,
      "border": null,
      "bottom": null,
      "display": null,
      "flex": null,
      "flex_flow": null,
      "grid_area": null,
      "grid_auto_columns": null,
      "grid_auto_flow": null,
      "grid_auto_rows": null,
      "grid_column": null,
      "grid_gap": null,
      "grid_row": null,
      "grid_template_areas": null,
      "grid_template_columns": null,
      "grid_template_rows": null,
      "height": null,
      "justify_content": null,
      "justify_items": null,
      "left": null,
      "margin": null,
      "max_height": null,
      "max_width": null,
      "min_height": null,
      "min_width": null,
      "object_fit": null,
      "object_position": null,
      "order": null,
      "overflow": null,
      "overflow_x": null,
      "overflow_y": null,
      "padding": null,
      "right": null,
      "top": null,
      "visibility": null,
      "width": null
     }
    },
    "dc9ed4435b734df584859afc454a1d8f": {
     "model_module": "@jupyter-widgets/base",
     "model_module_version": "1.2.0",
     "model_name": "LayoutModel",
     "state": {
      "_model_module": "@jupyter-widgets/base",
      "_model_module_version": "1.2.0",
      "_model_name": "LayoutModel",
      "_view_count": null,
      "_view_module": "@jupyter-widgets/base",
      "_view_module_version": "1.2.0",
      "_view_name": "LayoutView",
      "align_content": null,
      "align_items": null,
      "align_self": null,
      "border": null,
      "bottom": null,
      "display": null,
      "flex": null,
      "flex_flow": null,
      "grid_area": null,
      "grid_auto_columns": null,
      "grid_auto_flow": null,
      "grid_auto_rows": null,
      "grid_column": null,
      "grid_gap": null,
      "grid_row": null,
      "grid_template_areas": null,
      "grid_template_columns": null,
      "grid_template_rows": null,
      "height": null,
      "justify_content": null,
      "justify_items": null,
      "left": null,
      "margin": null,
      "max_height": null,
      "max_width": null,
      "min_height": null,
      "min_width": null,
      "object_fit": null,
      "object_position": null,
      "order": null,
      "overflow": null,
      "overflow_x": null,
      "overflow_y": null,
      "padding": null,
      "right": null,
      "top": null,
      "visibility": null,
      "width": null
     }
    },
    "e46c61c4416f4d0e91775327c93d1914": {
     "model_module": "@jupyter-widgets/output",
     "model_module_version": "1.0.0",
     "model_name": "OutputModel",
     "state": {
      "_dom_classes": [],
      "_model_module": "@jupyter-widgets/output",
      "_model_module_version": "1.0.0",
      "_model_name": "OutputModel",
      "_view_count": null,
      "_view_module": "@jupyter-widgets/output",
      "_view_module_version": "1.0.0",
      "_view_name": "OutputView",
      "layout": "IPY_MODEL_a9d718d8f69443debbd451170618dd71",
      "msg_id": "",
      "outputs": [
       {
        "image/png": "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\n",
        "metadata": {
         "needs_background": "light",
         "tags": []
        },
        "output_type": "display_data",
        "text/plain": "<Figure size 216x216 with 1 Axes>"
       }
      ]
     }
    },
    "e958ebab6d004f37a953d152d816aae6": {
     "model_module": "@jupyter-widgets/base",
     "model_module_version": "1.2.0",
     "model_name": "LayoutModel",
     "state": {
      "_model_module": "@jupyter-widgets/base",
      "_model_module_version": "1.2.0",
      "_model_name": "LayoutModel",
      "_view_count": null,
      "_view_module": "@jupyter-widgets/base",
      "_view_module_version": "1.2.0",
      "_view_name": "LayoutView",
      "align_content": null,
      "align_items": null,
      "align_self": null,
      "border": null,
      "bottom": null,
      "display": null,
      "flex": null,
      "flex_flow": null,
      "grid_area": null,
      "grid_auto_columns": null,
      "grid_auto_flow": null,
      "grid_auto_rows": null,
      "grid_column": null,
      "grid_gap": null,
      "grid_row": null,
      "grid_template_areas": null,
      "grid_template_columns": null,
      "grid_template_rows": null,
      "height": null,
      "justify_content": null,
      "justify_items": null,
      "left": null,
      "margin": null,
      "max_height": null,
      "max_width": null,
      "min_height": null,
      "min_width": null,
      "object_fit": null,
      "object_position": null,
      "order": null,
      "overflow": null,
      "overflow_x": null,
      "overflow_y": null,
      "padding": null,
      "right": null,
      "top": null,
      "visibility": null,
      "width": null
     }
    },
    "ea166ef3da6c44db9240d1b8107a2bc3": {
     "model_module": "@jupyter-widgets/controls",
     "model_module_version": "1.5.0",
     "model_name": "IntSliderModel",
     "state": {
      "_dom_classes": [],
      "_model_module": "@jupyter-widgets/controls",
      "_model_module_version": "1.5.0",
      "_model_name": "IntSliderModel",
      "_view_count": null,
      "_view_module": "@jupyter-widgets/controls",
      "_view_module_version": "1.5.0",
      "_view_name": "IntSliderView",
      "continuous_update": false,
      "description": "Image Slice:",
      "description_tooltip": null,
      "disabled": false,
      "layout": "IPY_MODEL_e958ebab6d004f37a953d152d816aae6",
      "max": 31,
      "min": 0,
      "orientation": "horizontal",
      "readout": true,
      "readout_format": "d",
      "step": 1,
      "style": "IPY_MODEL_6dded69bcb8e441eb809d0b63ab22dbb",
      "value": 22
     }
    },
    "ed89ac4b98194b598251a5cb74684106": {
     "model_module": "@jupyter-widgets/base",
     "model_module_version": "1.2.0",
     "model_name": "LayoutModel",
     "state": {
      "_model_module": "@jupyter-widgets/base",
      "_model_module_version": "1.2.0",
      "_model_name": "LayoutModel",
      "_view_count": null,
      "_view_module": "@jupyter-widgets/base",
      "_view_module_version": "1.2.0",
      "_view_name": "LayoutView",
      "align_content": null,
      "align_items": null,
      "align_self": null,
      "border": null,
      "bottom": null,
      "display": null,
      "flex": null,
      "flex_flow": null,
      "grid_area": null,
      "grid_auto_columns": null,
      "grid_auto_flow": null,
      "grid_auto_rows": null,
      "grid_column": null,
      "grid_gap": null,
      "grid_row": null,
      "grid_template_areas": null,
      "grid_template_columns": null,
      "grid_template_rows": null,
      "height": null,
      "justify_content": null,
      "justify_items": null,
      "left": null,
      "margin": null,
      "max_height": null,
      "max_width": null,
      "min_height": null,
      "min_width": null,
      "object_fit": null,
      "object_position": null,
      "order": null,
      "overflow": null,
      "overflow_x": null,
      "overflow_y": null,
      "padding": null,
      "right": null,
      "top": null,
      "visibility": null,
      "width": null
     }
    },
    "ef61a5efb80f4223a7c52c83895cd150": {
     "model_module": "@jupyter-widgets/base",
     "model_module_version": "1.2.0",
     "model_name": "LayoutModel",
     "state": {
      "_model_module": "@jupyter-widgets/base",
      "_model_module_version": "1.2.0",
      "_model_name": "LayoutModel",
      "_view_count": null,
      "_view_module": "@jupyter-widgets/base",
      "_view_module_version": "1.2.0",
      "_view_name": "LayoutView",
      "align_content": null,
      "align_items": null,
      "align_self": null,
      "border": null,
      "bottom": null,
      "display": null,
      "flex": null,
      "flex_flow": null,
      "grid_area": null,
      "grid_auto_columns": null,
      "grid_auto_flow": null,
      "grid_auto_rows": null,
      "grid_column": null,
      "grid_gap": null,
      "grid_row": null,
      "grid_template_areas": null,
      "grid_template_columns": null,
      "grid_template_rows": null,
      "height": null,
      "justify_content": null,
      "justify_items": null,
      "left": null,
      "margin": null,
      "max_height": null,
      "max_width": null,
      "min_height": null,
      "min_width": null,
      "object_fit": null,
      "object_position": null,
      "order": null,
      "overflow": null,
      "overflow_x": null,
      "overflow_y": null,
      "padding": null,
      "right": null,
      "top": null,
      "visibility": null,
      "width": null
     }
    },
    "f0c3c809511d489f824826f1845a1447": {
     "model_module": "@jupyter-widgets/controls",
     "model_module_version": "1.5.0",
     "model_name": "SliderStyleModel",
     "state": {
      "_model_module": "@jupyter-widgets/controls",
      "_model_module_version": "1.5.0",
      "_model_name": "SliderStyleModel",
      "_view_count": null,
      "_view_module": "@jupyter-widgets/base",
      "_view_module_version": "1.2.0",
      "_view_name": "StyleView",
      "description_width": "",
      "handle_color": null
     }
    },
    "fa5bfc91568740ac91b2580da603e412": {
     "model_module": "@jupyter-widgets/base",
     "model_module_version": "1.2.0",
     "model_name": "LayoutModel",
     "state": {
      "_model_module": "@jupyter-widgets/base",
      "_model_module_version": "1.2.0",
      "_model_name": "LayoutModel",
      "_view_count": null,
      "_view_module": "@jupyter-widgets/base",
      "_view_module_version": "1.2.0",
      "_view_name": "LayoutView",
      "align_content": null,
      "align_items": null,
      "align_self": null,
      "border": null,
      "bottom": null,
      "display": null,
      "flex": null,
      "flex_flow": null,
      "grid_area": null,
      "grid_auto_columns": null,
      "grid_auto_flow": null,
      "grid_auto_rows": null,
      "grid_column": null,
      "grid_gap": null,
      "grid_row": null,
      "grid_template_areas": null,
      "grid_template_columns": null,
      "grid_template_rows": null,
      "height": null,
      "justify_content": null,
      "justify_items": null,
      "left": null,
      "margin": null,
      "max_height": null,
      "max_width": null,
      "min_height": null,
      "min_width": null,
      "object_fit": null,
      "object_position": null,
      "order": null,
      "overflow": null,
      "overflow_x": null,
      "overflow_y": null,
      "padding": null,
      "right": null,
      "top": null,
      "visibility": null,
      "width": null
     }
    },
    "ff5b691f276548fa95401b76b44ff4d7": {
     "model_module": "@jupyter-widgets/controls",
     "model_module_version": "1.5.0",
     "model_name": "VBoxModel",
     "state": {
      "_dom_classes": [
       "widget-interact"
      ],
      "_model_module": "@jupyter-widgets/controls",
      "_model_module_version": "1.5.0",
      "_model_name": "VBoxModel",
      "_view_count": null,
      "_view_module": "@jupyter-widgets/controls",
      "_view_module_version": "1.5.0",
      "_view_name": "VBoxView",
      "box_style": "",
      "children": [
       "IPY_MODEL_ea166ef3da6c44db9240d1b8107a2bc3",
       "IPY_MODEL_56d1d3b4603d461da7ea9937e60bc151"
      ],
      "layout": "IPY_MODEL_dc9ed4435b734df584859afc454a1d8f"
     }
    }
   }
  }
 },
 "nbformat": 4,
 "nbformat_minor": 0
}
