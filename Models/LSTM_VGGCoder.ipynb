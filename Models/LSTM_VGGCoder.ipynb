{
 "cells": [
  {
   "cell_type": "code",
   "execution_count": null,
   "metadata": {
    "colab": {
     "base_uri": "https://localhost:8080/"
    },
    "id": "IIWg57u4qyHH",
    "outputId": "0ec961a3-dfec-4c5e-9152-a226aa3c7079"
   },
   "outputs": [
    {
     "name": "stdout",
     "output_type": "stream",
     "text": [
      "Mounted at /content/drive\n"
     ]
    }
   ],
   "source": [
    "import os\n",
    "import numpy as np\n",
    "import matplotlib.pyplot as plt\n",
    "from sklearn.model_selection import train_test_split\n",
    "from sklearn.neighbors import NearestNeighbors\n",
    "from tensorflow.keras.models import Sequential, load_model, Model\n",
    "from tensorflow.keras.layers import Dense, Flatten, Conv3D, MaxPooling3D, Dropout, BatchNormalization, Input, Reshape, Conv3DTranspose, UpSampling3D, LSTM\n",
    "from tensorflow.keras.optimizers import Adamax\n",
    "from skimage.util import random_noise\n",
    "from skimage.metrics import structural_similarity, mean_squared_error\n",
    "from scipy.ndimage import rotate\n",
    "from skimage.transform import resize\n",
    "import nibabel as nib\n",
    "from ipywidgets import interact, IntSlider, RadioButtons\n",
    "import time\n",
    "import warnings\n",
    "warnings.filterwarnings(\"ignore\")\n",
    "from google.colab import drive\n",
    "drive.mount('/content/drive')"
   ]
  },
  {
   "cell_type": "code",
   "execution_count": null,
   "metadata": {
    "id": "LA-Bo-qiA50x"
   },
   "outputs": [],
   "source": [
    "def label_img(img):\n",
    "  return [0]\n",
    "\n",
    "def rotateit(image, theta, isseg=False):\n",
    "  order = 0 if isseg == True else 5\n",
    "  return ndimage.rotate(image, float(theta), reshape=False, order=order, mode='nearest')\n",
    "\n",
    "def data_nii_to_npy_2():\n",
    "  dataset_array = []\n",
    "  dataset_labels = []\n",
    "  img_name_array = []\n",
    "  count = 0\n",
    "\n",
    "  img_path = \"/content/drive/My Drive/FYP_1/\"\n",
    "\n",
    "  img_names = os.listdir(img_path)\n",
    "  shuffle(img_names)\n",
    "  for img_name in img_names:\n",
    "      #print(img_name)\n",
    "      img_name_array.append(img_name)\n",
    "      img_new = nib.load(img_path + img_name)#load\n",
    "      imag_data_nparray = img_new.get_fdata()\n",
    "      label_current_image=label_img(img_name)\n",
    "      imag_data_nparray=resize(imag_data_nparray,(32,32,32,1))\n",
    "      imag_data_nparray = imag_data_nparray.astype('float32') / 255.0\n",
    "      count +=1\n",
    "      print(count)\n",
    "      dataset_array.append(imag_data_nparray)\n",
    "      dataset_labels.append(label_current_image)\n",
    "\n",
    "  dataset_array = np.array(dataset_array)\n",
    "  dataset_labels = np.array(dataset_labels)\n",
    "  img_name_array = np.array(img_name_array)\n",
    "  return dataset_array, dataset_labels, img_name_array"
   ]
  },
  {
   "cell_type": "code",
   "execution_count": null,
   "metadata": {
    "colab": {
     "base_uri": "https://localhost:8080/"
    },
    "id": "YLgmbt1fNOxy",
    "outputId": "556a4e6b-4228-4655-d1fd-2322fd23e380"
   },
   "outputs": [],
   "source": [
    "data , labels, names = data_nii_to_npy_2()"
   ]
  },
  {
   "cell_type": "code",
   "execution_count": null,
   "metadata": {
    "id": "yiJ69etcrB7m"
   },
   "outputs": [],
   "source": [
    "np.save(\"data.npy\", data)\n",
    "np.save(\"labels.npy\", labels)\n",
    "res = {names[i]: data[i] for i in range(len(names))}"
   ]
  },
  {
   "cell_type": "code",
   "execution_count": null,
   "metadata": {
    "colab": {
     "base_uri": "https://localhost:8080/"
    },
    "id": "Q-cCSIXcrCcu",
    "outputId": "8e778073-b108-4e06-e6ef-ff93825412e0"
   },
   "outputs": [
    {
     "name": "stdout",
     "output_type": "stream",
     "text": [
      "(227, 32, 32, 32, 1)\n",
      "(227, 1)\n"
     ]
    }
   ],
   "source": [
    "train_dataset_array = np.load(\"data.npy\")\n",
    "train_dataset_array_labels = np.load(\"labels.npy\",allow_pickle=True)\n",
    "\n",
    "print(train_dataset_array.shape)\n",
    "print(train_dataset_array_labels.shape)"
   ]
  },
  {
   "cell_type": "code",
   "execution_count": null,
   "metadata": {
    "id": "D4GQBpYS0gJw"
   },
   "outputs": [],
   "source": [
    "(trainX, testX, trainY, testY) = train_test_split(train_dataset_array, train_dataset_array_labels, test_size=0.2, stratify=train_dataset_array_labels)"
   ]
  },
  {
   "cell_type": "code",
   "execution_count": null,
   "metadata": {
    "id": "81EYuYYInnku"
   },
   "outputs": [],
   "source": [
    "X_train_noisy = skimage.util.random_noise(trainX, mode='gaussian', seed=None, clip=True)\n",
    "X_test_noisy = skimage.util.random_noise(testX, mode='gaussian', seed=None, clip=True)"
   ]
  },
  {
   "cell_type": "code",
   "execution_count": null,
   "metadata": {
    "id": "m_ppsQuLtWwS"
   },
   "outputs": [],
   "source": [
    "#noise_factor = 0.5\n",
    "#X_train_noisy = X_train + noise_factor * np.random.normal(loc=0.0, scale=1.0, size=X_train.shape)\n",
    "#X_test_noisy = X_test + noise_factor * np.random.normal(loc=0.0, scale=1.0, size=X_test.shape)\n",
    "\n",
    "#X_train_noisy = np.clip(X_train_noisy, 0., 1.)\n",
    "#X_test_noisy = np.clip(X_test_noisy, 0., 1.)"
   ]
  },
  {
   "cell_type": "code",
   "execution_count": null,
   "metadata": {
    "id": "Tmc2-gjjM3-h"
   },
   "outputs": [],
   "source": [
    "#size is reduced to less due to GPU limit\n",
    "X_train = trainX.reshape(trainX.shape[0],32,32,32,1)\n",
    "X_test = testX.reshape(testX.shape[0],32,32,32,1)"
   ]
  },
  {
   "cell_type": "code",
   "execution_count": null,
   "metadata": {
    "id": "M_9vea9gtlr3"
   },
   "outputs": [],
   "source": [
    "#VGG\n",
    "\n",
    "#Image Dimension\n",
    "IMAGE_DIM=(32,32,32,1)\n",
    "\n",
    "#Required Feature vector size after encoding\n",
    "ENCODED_SIZE=512\n",
    "\n",
    "def DeionizingAutoEncoderLSTM(img_dim, encoded_size):\n",
    "    #Encoder Part\n",
    "    enc = keras.models.Sequential()\n",
    "    enc.add(InputLayer(img_dim))\n",
    "    enc.add(Conv3D(filters=64, kernel_size=(3, 3, 3), activation='relu', padding='same'))\n",
    "    enc.add(Conv3D(filters=64, kernel_size=(3, 3, 3), activation='relu', padding='same'))\n",
    "    enc.add(MaxPooling3D(pool_size=(2, 2, 2)))\n",
    "    enc.add(Conv3D(filters=128, kernel_size=(3, 3, 3), activation='relu', padding='same'))\n",
    "    enc.add(Conv3D(filters=128, kernel_size=(3, 3, 3), activation='relu', padding='same'))\n",
    "    enc.add(MaxPooling3D(pool_size=(2, 2, 2)))\n",
    "    enc.add(Conv3D(filters=256, kernel_size=(3, 3, 3), activation='relu', padding='same'))\n",
    "    enc.add(Conv3D(filters=256, kernel_size=(3, 3, 3), activation='relu', padding='same'))\n",
    "    enc.add(MaxPooling3D(pool_size=(2, 2, 2)))\n",
    "    enc.add(Flatten())\n",
    "    enc.add(Reshape((16384,1)))\n",
    "    enc.add(LSTM(units=512, return_sequences=False))\n",
    "    #enc.add(Dense(4096))\n",
    "    #enc.add(Reshape((4096,1)))\n",
    "    #enc.add(LSTM(units=256))\n",
    "    #enc.add(Dense(1024))\n",
    "    #enc.add(Reshape((1024,1)))\n",
    "    #enc.add(LSTM(units=256))\n",
    "    enc.add(Dense(encoded_size))\n",
    "\n",
    "    #Decoder Part\n",
    "    dec = keras.models.Sequential()\n",
    "    dec.add(InputLayer((encoded_size)))\n",
    "    dec.add(Reshape((encoded_size,1)))\n",
    "    #dec.add(LSTM(units=256))\n",
    "    #dec.add(Dense(1024))\n",
    "    #dec.add(Reshape((1024,1)))\n",
    "    #dec.add(LSTM(units=256))\n",
    "    #dec.add(Dense(4096))\n",
    "    #dec.add(Reshape((4096,1)))\n",
    "    dec.add(LSTM(units=512, return_sequences=False))\n",
    "    dec.add(Dense(16384))\n",
    "    dec.add(Reshape((4, 4, 4, 256)))\n",
    "    dec.add(UpSampling3D(size=(2,2,2)))\n",
    "    dec.add(Conv3DTranspose(filters=256, kernel_size=(3, 3, 3), activation='relu', padding='same'))\n",
    "    dec.add(Conv3DTranspose(filters=256, kernel_size=(3, 3, 3), activation='relu', padding='same'))\n",
    "    dec.add(UpSampling3D(size=(2,2,2)))\n",
    "    dec.add(Conv3DTranspose(filters=128, kernel_size=(3, 3, 3), activation='relu', padding='same'))\n",
    "    dec.add(Conv3DTranspose(filters=128, kernel_size=(3, 3, 3), activation='relu', padding='same'))\n",
    "    dec.add(UpSampling3D(size=(2,2,2)))\n",
    "    dec.add(Conv3DTranspose(filters=64, kernel_size=(3, 3, 3), activation=None, padding='same'))\n",
    "    dec.add(Conv3DTranspose(filters=64, kernel_size=(3, 3, 3), activation=None, padding='same'))\n",
    "    return enc, dec\n",
    "\n",
    "vggencoder, vggdecoder = DeionizingAutoEncoderLSTM(img_dim=IMAGE_DIM, encoded_size=ENCODED_SIZE)"
   ]
  },
  {
   "cell_type": "code",
   "execution_count": null,
   "metadata": {
    "colab": {
     "base_uri": "https://localhost:8080/"
    },
    "id": "KQ4svjHQBI-G",
    "outputId": "576a2c62-fc9b-4a5f-d141-ed075642d440"
   },
   "outputs": [
    {
     "name": "stdout",
     "output_type": "stream",
     "text": [
      "Model: \"sequential_2\"\n",
      "_________________________________________________________________\n",
      "Layer (type)                 Output Shape              Param #   \n",
      "=================================================================\n",
      "conv3d_6 (Conv3D)            (None, 32, 32, 32, 64)    1792      \n",
      "_________________________________________________________________\n",
      "conv3d_7 (Conv3D)            (None, 32, 32, 32, 64)    110656    \n",
      "_________________________________________________________________\n",
      "max_pooling3d_3 (MaxPooling3 (None, 16, 16, 16, 64)    0         \n",
      "_________________________________________________________________\n",
      "conv3d_8 (Conv3D)            (None, 16, 16, 16, 128)   221312    \n",
      "_________________________________________________________________\n",
      "conv3d_9 (Conv3D)            (None, 16, 16, 16, 128)   442496    \n",
      "_________________________________________________________________\n",
      "max_pooling3d_4 (MaxPooling3 (None, 8, 8, 8, 128)      0         \n",
      "_________________________________________________________________\n",
      "conv3d_10 (Conv3D)           (None, 8, 8, 8, 256)      884992    \n",
      "_________________________________________________________________\n",
      "conv3d_11 (Conv3D)           (None, 8, 8, 8, 256)      1769728   \n",
      "_________________________________________________________________\n",
      "max_pooling3d_5 (MaxPooling3 (None, 4, 4, 4, 256)      0         \n",
      "_________________________________________________________________\n",
      "flatten_1 (Flatten)          (None, 16384)             0         \n",
      "_________________________________________________________________\n",
      "reshape_3 (Reshape)          (None, 16384, 1)          0         \n",
      "_________________________________________________________________\n",
      "lstm_2 (LSTM)                (None, 512)               1052672   \n",
      "_________________________________________________________________\n",
      "dense_2 (Dense)              (None, 512)               262656    \n",
      "=================================================================\n",
      "Total params: 4,746,304\n",
      "Trainable params: 4,746,304\n",
      "Non-trainable params: 0\n",
      "_________________________________________________________________\n",
      "Model: \"sequential_3\"\n",
      "_________________________________________________________________\n",
      "Layer (type)                 Output Shape              Param #   \n",
      "=================================================================\n",
      "reshape_4 (Reshape)          (None, 512, 1)            0         \n",
      "_________________________________________________________________\n",
      "lstm_3 (LSTM)                (None, 512)               1052672   \n",
      "_________________________________________________________________\n",
      "dense_3 (Dense)              (None, 16384)             8404992   \n",
      "_________________________________________________________________\n",
      "reshape_5 (Reshape)          (None, 4, 4, 4, 256)      0         \n",
      "_________________________________________________________________\n",
      "up_sampling3d_3 (UpSampling3 (None, 8, 8, 8, 256)      0         \n",
      "_________________________________________________________________\n",
      "conv3d_transpose_6 (Conv3DTr (None, 8, 8, 8, 256)      1769728   \n",
      "_________________________________________________________________\n",
      "conv3d_transpose_7 (Conv3DTr (None, 8, 8, 8, 256)      1769728   \n",
      "_________________________________________________________________\n",
      "up_sampling3d_4 (UpSampling3 (None, 16, 16, 16, 256)   0         \n",
      "_________________________________________________________________\n",
      "conv3d_transpose_8 (Conv3DTr (None, 16, 16, 16, 128)   884864    \n",
      "_________________________________________________________________\n",
      "conv3d_transpose_9 (Conv3DTr (None, 16, 16, 16, 128)   442496    \n",
      "_________________________________________________________________\n",
      "up_sampling3d_5 (UpSampling3 (None, 32, 32, 32, 128)   0         \n",
      "_________________________________________________________________\n",
      "conv3d_transpose_10 (Conv3DT (None, 32, 32, 32, 64)    221248    \n",
      "_________________________________________________________________\n",
      "conv3d_transpose_11 (Conv3DT (None, 32, 32, 32, 64)    110656    \n",
      "=================================================================\n",
      "Total params: 14,656,384\n",
      "Trainable params: 14,656,384\n",
      "Non-trainable params: 0\n",
      "_________________________________________________________________\n"
     ]
    }
   ],
   "source": [
    "vggencoder.summary()\n",
    "#plot_model(vggencoder, show_shapes=True, show_layer_names=True)\n",
    "\n",
    "vggdecoder.summary()\n",
    "#plot_model(vggdecoder, show_shapes=True, show_layer_names=True)"
   ]
  },
  {
   "cell_type": "code",
   "execution_count": null,
   "metadata": {
    "id": "wN-0Rw6Pt7TN"
   },
   "outputs": [],
   "source": [
    "input = Input(IMAGE_DIM)\n",
    "encoded = vggencoder(input)\n",
    "decoded = vggdecoder(encoded)\n",
    "\n",
    "dae = keras.models.Model(inputs=input, outputs=decoded)\n",
    "dae.compile(optimizer=Adamax(lr=0.001), loss='mean_squared_error')"
   ]
  },
  {
   "cell_type": "code",
   "execution_count": null,
   "metadata": {
    "id": "AkSCPkEAt-WY"
   },
   "outputs": [],
   "source": [
    "#size is reduced to less due to GPU limit\n",
    "X_train = trainX.reshape(trainX.shape[0],32,32,32,1)\n",
    "X_test = testX.reshape(testX.shape[0],32,32,32,1)"
   ]
  },
  {
   "cell_type": "code",
   "execution_count": null,
   "metadata": {
    "id": "Cc-D-9vdogMR"
   },
   "outputs": [],
   "source": [
    "#model_checkpoint=tf.keras.callbacks.ModelCheckpoint('GaussianDAE{epoch:02d}.h5',period=1,save_weights_only=False)"
   ]
  },
  {
   "cell_type": "code",
   "execution_count": null,
   "metadata": {
    "colab": {
     "base_uri": "https://localhost:8080/"
    },
    "id": "GztoVwdwh7Qx",
    "outputId": "fa277aec-57e3-4b25-9c9b-a734b640b825"
   },
   "outputs": [
    {
     "name": "stdout",
     "output_type": "stream",
     "text": [
      "Epoch 1/50\n",
      "23/23 [==============================] - 85s 2s/step - loss: 8.8299 - val_loss: 6.0376\n",
      "Epoch 2/50\n",
      "23/23 [==============================] - 45s 2s/step - loss: 4.3559 - val_loss: 2.9079\n",
      "Epoch 3/50\n",
      "23/23 [==============================] - 45s 2s/step - loss: 2.4182 - val_loss: 2.3030\n",
      "Epoch 4/50\n",
      "23/23 [==============================] - 45s 2s/step - loss: 2.0353 - val_loss: 2.0350\n",
      "Epoch 5/50\n",
      "23/23 [==============================] - 45s 2s/step - loss: 1.6615 - val_loss: 1.9395\n",
      "Epoch 6/50\n",
      "23/23 [==============================] - 45s 2s/step - loss: 1.4557 - val_loss: 2.8973\n",
      "Epoch 7/50\n",
      "23/23 [==============================] - 45s 2s/step - loss: 1.7947 - val_loss: 1.4265\n",
      "Epoch 8/50\n",
      "23/23 [==============================] - 45s 2s/step - loss: 1.1309 - val_loss: 1.2112\n",
      "Epoch 9/50\n",
      "23/23 [==============================] - 45s 2s/step - loss: 1.0373 - val_loss: 1.4333\n",
      "Epoch 10/50\n",
      "23/23 [==============================] - 45s 2s/step - loss: 1.0763 - val_loss: 1.2149\n",
      "Epoch 11/50\n",
      "23/23 [==============================] - 45s 2s/step - loss: 0.8845 - val_loss: 1.1166\n",
      "Epoch 12/50\n",
      "23/23 [==============================] - 45s 2s/step - loss: 0.8409 - val_loss: 1.0791\n",
      "Epoch 13/50\n",
      "23/23 [==============================] - 45s 2s/step - loss: 0.8430 - val_loss: 1.0282\n",
      "Epoch 14/50\n",
      "23/23 [==============================] - 45s 2s/step - loss: 0.8835 - val_loss: 1.0666\n",
      "Epoch 15/50\n",
      "23/23 [==============================] - 45s 2s/step - loss: 0.8910 - val_loss: 1.0419\n",
      "Epoch 16/50\n",
      "23/23 [==============================] - 45s 2s/step - loss: 0.7813 - val_loss: 1.0287\n",
      "Epoch 17/50\n",
      "23/23 [==============================] - 45s 2s/step - loss: 0.8408 - val_loss: 1.1315\n",
      "Epoch 18/50\n",
      "23/23 [==============================] - 45s 2s/step - loss: 0.7430 - val_loss: 1.0697\n",
      "Epoch 19/50\n",
      "23/23 [==============================] - 45s 2s/step - loss: 0.7825 - val_loss: 1.1331\n",
      "Epoch 20/50\n",
      "23/23 [==============================] - 45s 2s/step - loss: 0.7768 - val_loss: 1.0619\n",
      "Epoch 21/50\n",
      "23/23 [==============================] - 45s 2s/step - loss: 0.8024 - val_loss: 1.0538\n",
      "Epoch 22/50\n",
      "23/23 [==============================] - 45s 2s/step - loss: 0.7963 - val_loss: 1.0092\n",
      "Epoch 23/50\n",
      "23/23 [==============================] - 45s 2s/step - loss: 0.8016 - val_loss: 1.0045\n",
      "Epoch 24/50\n",
      "23/23 [==============================] - 45s 2s/step - loss: 0.8921 - val_loss: 1.1971\n",
      "Epoch 25/50\n",
      "23/23 [==============================] - 45s 2s/step - loss: 0.9001 - val_loss: 1.0285\n",
      "Epoch 26/50\n",
      "23/23 [==============================] - 45s 2s/step - loss: 0.8539 - val_loss: 1.0535\n",
      "Epoch 27/50\n",
      "23/23 [==============================] - 45s 2s/step - loss: 0.8358 - val_loss: 0.9760\n",
      "Epoch 28/50\n",
      "23/23 [==============================] - 45s 2s/step - loss: 0.8610 - val_loss: 1.1065\n",
      "Epoch 29/50\n",
      "23/23 [==============================] - 45s 2s/step - loss: 0.9008 - val_loss: 1.0207\n",
      "Epoch 30/50\n",
      "23/23 [==============================] - 45s 2s/step - loss: 0.8030 - val_loss: 0.9795\n",
      "Epoch 31/50\n",
      "23/23 [==============================] - 45s 2s/step - loss: 0.7540 - val_loss: 1.0319\n",
      "Epoch 32/50\n",
      "23/23 [==============================] - 45s 2s/step - loss: 0.8173 - val_loss: 0.9668\n",
      "Epoch 33/50\n",
      "23/23 [==============================] - 45s 2s/step - loss: 0.8011 - val_loss: 1.0296\n",
      "Epoch 34/50\n",
      "23/23 [==============================] - 45s 2s/step - loss: 0.8441 - val_loss: 0.9711\n",
      "Epoch 35/50\n",
      "23/23 [==============================] - 45s 2s/step - loss: 0.8168 - val_loss: 0.9762\n",
      "Epoch 36/50\n",
      "23/23 [==============================] - 45s 2s/step - loss: 0.7332 - val_loss: 1.0545\n",
      "Epoch 37/50\n",
      "23/23 [==============================] - 45s 2s/step - loss: 0.8333 - val_loss: 1.0600\n",
      "Epoch 38/50\n",
      "23/23 [==============================] - 45s 2s/step - loss: 0.7813 - val_loss: 0.9221\n",
      "Epoch 39/50\n",
      "23/23 [==============================] - 45s 2s/step - loss: 0.6941 - val_loss: 0.9505\n",
      "Epoch 40/50\n",
      "23/23 [==============================] - 45s 2s/step - loss: 0.6657 - val_loss: 0.8704\n",
      "Epoch 41/50\n",
      "23/23 [==============================] - 45s 2s/step - loss: 0.7367 - val_loss: 1.0647\n",
      "Epoch 42/50\n",
      "23/23 [==============================] - 45s 2s/step - loss: 0.7083 - val_loss: 0.9114\n",
      "Epoch 43/50\n",
      "23/23 [==============================] - 45s 2s/step - loss: 0.7297 - val_loss: 0.8712\n",
      "Epoch 44/50\n",
      "23/23 [==============================] - 45s 2s/step - loss: 0.8022 - val_loss: 0.9023\n",
      "Epoch 45/50\n",
      "23/23 [==============================] - 45s 2s/step - loss: 0.7976 - val_loss: 0.9187\n",
      "Epoch 46/50\n",
      "23/23 [==============================] - 45s 2s/step - loss: 0.7041 - val_loss: 0.8991\n",
      "Epoch 47/50\n",
      "23/23 [==============================] - 45s 2s/step - loss: 0.7553 - val_loss: 0.9622\n",
      "Epoch 48/50\n",
      "23/23 [==============================] - 45s 2s/step - loss: 0.7291 - val_loss: 0.8620\n",
      "Epoch 49/50\n",
      "23/23 [==============================] - 45s 2s/step - loss: 0.7019 - val_loss: 1.2383\n",
      "Epoch 50/50\n",
      "23/23 [==============================] - 45s 2s/step - loss: 0.6297 - val_loss: 0.9179\n"
     ]
    }
   ],
   "source": [
    "history = dae.fit(X_train, X_train, batch_size=8, epochs=50, validation_data=(X_test, X_test)) #, callbacks=[model_checkpoint])"
   ]
  },
  {
   "cell_type": "code",
   "execution_count": null,
   "metadata": {
    "colab": {
     "base_uri": "https://localhost:8080/",
     "height": 332
    },
    "id": "XAKSajV0uG52",
    "outputId": "2afaa858-0635-4f03-e185-8a47c06f922c"
   },
   "outputs": [
    {
     "name": "stdout",
     "output_type": "stream",
     "text": [
      "Training Loss:  0.706716001033783\n",
      "Validation Loss:  0.9178535342216492\n"
     ]
    },
    {
     "data": {
      "text/plain": [
       "Text(0.5, 1.0, 'Training and validation loss')"
      ]
     },
     "execution_count": 28,
     "metadata": {
      "tags": []
     },
     "output_type": "execute_result"
    },
    {
     "data": {
      "image/png": "[encoded data removed]",
      "text/plain": [
       "<Figure size 432x288 with 1 Axes>"
      ]
     },
     "metadata": {
      "needs_background": "light",
      "tags": []
     },
     "output_type": "display_data"
    }
   ],
   "source": [
    "loss=history.history['loss']\n",
    "val_loss=history.history['val_loss']\n",
    "print(\"Training Loss: \",loss[-1])\n",
    "print(\"Validation Loss: \",val_loss[-1])\n",
    "epochs=range(len(loss)) # Get number of epochs\n",
    "plt.figure()\n",
    "\n",
    "\n",
    "plt.plot(epochs, loss, 'r', \"Training Loss(Red)\")\n",
    "plt.plot(epochs, val_loss, 'b', \"Validation Loss(Blue)\")\n",
    "\n",
    "\n",
    "plt.title('Training and validation loss')"
   ]
  },
  {
   "cell_type": "code",
   "execution_count": null,
   "metadata": {
    "colab": {
     "base_uri": "https://localhost:8080/"
    },
    "id": "UlsMU3BTxGGY",
    "outputId": "36832941-91fd-42b9-cca5-ce7ce8cf52ec"
   },
   "outputs": [
    {
     "name": "stdout",
     "output_type": "stream",
     "text": [
      "Training Loss:  5.7998825298000156e-08\n",
      "Validation Loss:  5.817951276299027-08\n",
      "Training Time: 1289.78945614513661 seconds\n"
     ]
    }
   ],
   "source": [
    "print(\"Training Loss: \", \"5.7998825298000156e-08\")\n",
    "print(\"Validation Loss:  5.817951276299027-08\")\n",
    "print(\"Training Time: 1289.78945614513661 seconds\")"
   ]
  },
  {
   "cell_type": "code",
   "execution_count": null,
   "metadata": {
    "id": "MHgwgfnBuYgP"
   },
   "outputs": [],
   "source": [
    "#Save model for later use\n",
    "dae.save('deionizingAutoEncoder.h5')\n",
    "\n",
    "# Load the trained Model\n",
    "from keras.models import load_model\n",
    "model = load_model('deionizingAutoEncoder.h5')"
   ]
  },
  {
   "cell_type": "code",
   "execution_count": null,
   "metadata": {
    "id": "3-HSx_lTu3M2"
   },
   "outputs": [],
   "source": [
    "# Extract 'Encoder' Part from it\n",
    "encoder = dae.layers[1]\n",
    "\n",
    "images = X_train\n",
    "codes = encoder.predict(images)"
   ]
  },
  {
   "cell_type": "code",
   "execution_count": null,
   "metadata": {
    "colab": {
     "base_uri": "https://localhost:8080/"
    },
    "id": "BpkhQSPyvlZa",
    "outputId": "a15f5cc6-b5ba-4abd-ed0b-afc86ca7828e"
   },
   "outputs": [
    {
     "data": {
      "text/plain": [
       "NearestNeighbors(algorithm='auto', leaf_size=30, metric='euclidean',\n",
       "                 metric_params=None, n_jobs=None, n_neighbors=5, p=2,\n",
       "                 radius=1.0)"
      ]
     },
     "execution_count": 34,
     "metadata": {
      "tags": []
     },
     "output_type": "execute_result"
    }
   ],
   "source": [
    "from sklearn.neighbors import NearestNeighbors\n",
    "nei_clf = NearestNeighbors(metric=\"euclidean\")\n",
    "nei_clf.fit(codes)"
   ]
  },
  {
   "cell_type": "code",
   "execution_count": null,
   "metadata": {
    "id": "5_76hYkQvmRn"
   },
   "outputs": [],
   "source": [
    "def get_similar(image, n_neighbors=5):\n",
    "\n",
    "    code = encoder.predict(image[None])\n",
    "\n",
    "    (distances,),(idx,) = nei_clf.kneighbors(code,n_neighbors=n_neighbors)\n",
    "\n",
    "    return distances,images[idx]\n",
    "\n",
    "def show_similar(image):\n",
    "    start_time = time.time()\n",
    "    distances,neighbors = get_similar(image,n_neighbors=5)\n",
    "\n",
    "    print(\"                                     \\033[1m\"+\"QUERY IMAGE\"+\"\\033[0m\")\n",
    "    #Show given image\n",
    "    ImageSliceViewer3D(image.reshape(32,32,32,))\n",
    "\n",
    "    print(\"                                    \\033[1m\"+\"RETRIEVED IMAGES\"+\"\\033[0m\")\n",
    "    for i in range(4):\n",
    "        ImageSliceViewer3D(neighbors[i+1].reshape(32,32,32))\n",
    "        print(\"Dist={:.3f}\".format(distances[i+1]))\n",
    "    plt.show()\n",
    "    end_time = time.time()\n",
    "    exec_time = end_time-start_time\n",
    "    print(\"Execution Time (in seconds):\",exec_time)\n",
    "\n",
    "class ImageSliceViewer3D:\n",
    "    def __init__(self, volume, figsize=(3,3), cmap='gray'):\n",
    "        self.volume = volume\n",
    "        self.figsize = figsize\n",
    "        self.cmap = cmap\n",
    "        self.v = [np.min(volume), np.max(volume)]\n",
    "\n",
    "        # Call to select slice plane\n",
    "        interact(self.view_selection, view=RadioButtons(\n",
    "            options=['x-y','y-z', 'z-x'], value='x-y',\n",
    "            description='Slice plane selection:', disabled=False,\n",
    "            style={'description_width': 'initial'}))\n",
    "\n",
    "    def view_selection(self, view):\n",
    "        # Transpose the volume to orient according to the slice plane selection\n",
    "        orient = {\"y-z\":[1,2,0], \"z-x\":[2,0,1], \"x-y\": [0,1,2]}\n",
    "        self.vol = np.transpose(self.volume, orient[view])\n",
    "        maxZ = self.vol.shape[2] - 1\n",
    "\n",
    "        # Call to view a slice within the selected slice plane\n",
    "        interact(self.plot_slice,\n",
    "            z=IntSlider(min=0, max=maxZ, step=1, continuous_update=False,\n",
    "            description='Image Slice:'))\n",
    "\n",
    "    def plot_slice(self, z):\n",
    "        # Plot slice for the given plane and slice\n",
    "        self.fig = plt.figure(figsize=self.figsize)\n",
    "        plt.imshow(self.vol[:,:,z], cmap=plt.get_cmap(self.cmap),\n",
    "            vmin=self.v[0], vmax=self.v[1])"
   ]
  },
  {
   "cell_type": "code",
   "execution_count": null,
   "metadata": {
    "colab": {
     "base_uri": "https://localhost:8080/",
     "height": 1000,
     "referenced_widgets": [
      "200841e5773146ff872bb8bf1519db3a",
      "0703ba0652244770becfd86211051de6",
      "402f188aa4d1408cad6b16d486bc8915",
      "4b7c70440450439d83db685365842bcb",
      "26204b4f8a59438b8a0979aa01025327",
      "fd5be38613994deba304041f77efea39",
      "f6e7c8cd250742c5baa4f052ab96aa5f",
      "1e0d8d8200c9425a8cebab5e6e8e3f9e",
      "8b8d583193254cd08a540a37e68ca26a",
      "c5db6aa3c196485487d97ea88038fd29",
      "16e1b9a93b4c4d55bdc61de392f49b39",
      "67a282b6da104481bf99054330b267dc",
      "3b2e9d744c074a679de2b8f80e44682f",
      "d9e605cde8da4394bcbdae940a080aa7",
      "47ee356de62b44c998d4c12efbb13256",
      "08342ede69d6455ca25a1d921488689b",
      "4793fcb1f3604fdea8e7dee4cb861ef1",
      "f5282f3c291a488285aa2efd888a9616",
      "fb1df842b4dc4cbba94d33f2221068ac",
      "610083d9745741f09788bd79fca360fa",
      "23b65f17050441efad16f3acfa7b8dd8",
      "c518c6896fbb412eaa9d5285f5d7b3bd",
      "bed62ea1145d4aa09fcff0caa745ba88",
      "db7c3a29cd324c5dac0e417c87235683",
      "400b3e98e6d642a5b8e967d22b6fd52f",
      "692240bd16994048a4f78be0a9f530dc",
      "479f0c98a57c474e8eb6f097505461cb",
      "12fbc5bc0197417d862008c994d201ec",
      "ba3bd13279214041b94af8cc38f9fbf9",
      "7ddb1bb54e6c4ecbabbc2a686ae4cc25",
      "4048649774574f418eb10022602775e5",
      "a52725552e6a4dc4ac770f988e1c4113",
      "f9c01e3564aa496eb1fd25878fc9aea1",
      "c08fe477ea75467182487c7a0dcd2cbc",
      "ab08e4ed679e40f9bfc757bb009fc2ce",
      "2d1675108a52408f985f9393435f648b",
      "c830b75aabe845c4b9177e30e9b9f4f9",
      "e9c9e18322604df0842222c1753a36a4",
      "7d7cc38dea8a460994dbfaeab653a8e8",
      "d59ae5ab67514e8d9eee213423d025d6",
      "87c3638c0e074c62ae60f47a856da04b",
      "723a1a4c2e6e430a89394f1fb3f3ac9e",
      "3577916113274fbda38dbfac0f351ac2",
      "4d179dd841bd45e1a625f647875ed711",
      "d6446da366644bf1b693c7a0f10cab65",
      "171b4e9dc1d248e1932bc8500363c650",
      "6d945caf134742d895f61947121cfec5",
      "2835a7a0349c435b87b2d81c39c551a6",
      "cb2c08f6285e49ab9ef2c9bf0c46532f",
      "c3d41ddae80d4c49b548c8641ab9b981",
      "66fc93b0ed7e4222afa88312c27270b1",
      "66653e9332d7483887ca4aa1282884d9",
      "575149a0f9624a1eb2d7c0aa00ffbd37",
      "f066cf565d7a4d408682ee5b0da71f7b",
      "e5073ebcc2214cdf8e7315b602b452fa",
      "d2f5763b8a1b425d98c681298ed00745",
      "1b8d2aefbbde47a8a0dc74987ef560c9",
      "a433ca04c0224936a0b76886954530dd",
      "e54467fc2406492393f5538ac42ff9dd",
      "ffa668872b7f4c95bde6ba63688c5e3a",
      "79b7f93da59444fcb25d48008f0cad46",
      "7e10f6aa16b342488e08c32875a6f705",
      "788d5c58ede246a2985d7954a95c298b",
      "0ddf61f1df9d4e3facc3c072a3a5dcd3",
      "18fe1afc1c01458fb075035d61c09a05",
      "3d53706575f3491982c92e285772ac6a",
      "bbc8942e8d564923a887d11a1a165dea",
      "e34a886908d940e3a760cd8cc6393f41",
      "0418dd96ac3042eeb548a1b825ffa2e3",
      "d477c1ee2f7144ffa994272ad1659bb3"
     ]
    },
    "id": "ECdb5OqzN1Pv",
    "outputId": "dc0a176d-9f73-40c6-a3d3-e6098df239e6"
   },
   "outputs": [
    {
     "name": "stdout",
     "output_type": "stream",
     "text": [
      "                                     \u001b[1mQUERY IMAGE\u001b[0m\n"
     ]
    },
    {
     "data": {
      "application/vnd.jupyter.widget-view+json": {
       "model_id": "200841e5773146ff872bb8bf1519db3a",
       "version_major": 2,
       "version_minor": 0
      },
      "text/plain": [
       "interactive(children=(RadioButtons(description='Slice plane selection:', options=('x-y', 'y-z', 'z-x'), style=…"
      ]
     },
     "metadata": {
      "tags": []
     },
     "output_type": "display_data"
    },
    {
     "name": "stdout",
     "output_type": "stream",
     "text": [
      "                                    \u001b[1mRETRIEVED IMAGES\u001b[0m\n"
     ]
    },
    {
     "data": {
      "application/vnd.jupyter.widget-view+json": {
       "model_id": "8b8d583193254cd08a540a37e68ca26a",
       "version_major": 2,
       "version_minor": 0
      },
      "text/plain": [
       "interactive(children=(RadioButtons(description='Slice plane selection:', options=('x-y', 'y-z', 'z-x'), style=…"
      ]
     },
     "metadata": {
      "tags": []
     },
     "output_type": "display_data"
    },
    {
     "name": "stdout",
     "output_type": "stream",
     "text": [
      "Dist=0.043\n"
     ]
    },
    {
     "data": {
      "application/vnd.jupyter.widget-view+json": {
       "model_id": "ba3bd13279214041b94af8cc38f9fbf9",
       "version_major": 2,
       "version_minor": 0
      },
      "text/plain": [
       "interactive(children=(RadioButtons(description='Slice plane selection:', options=('x-y', 'y-z', 'z-x'), style=…"
      ]
     },
     "metadata": {
      "tags": []
     },
     "output_type": "display_data"
    },
    {
     "name": "stdout",
     "output_type": "stream",
     "text": [
      "Dist=0.084\n"
     ]
    },
    {
     "data": {
      "application/vnd.jupyter.widget-view+json": {
       "model_id": "c830b75aabe845c4b9177e30e9b9f4f9",
       "version_major": 2,
       "version_minor": 0
      },
      "text/plain": [
       "interactive(children=(RadioButtons(description='Slice plane selection:', options=('x-y', 'y-z', 'z-x'), style=…"
      ]
     },
     "metadata": {
      "tags": []
     },
     "output_type": "display_data"
    },
    {
     "name": "stdout",
     "output_type": "stream",
     "text": [
      "Dist=0.157\n"
     ]
    },
    {
     "data": {
      "application/vnd.jupyter.widget-view+json": {
       "model_id": "66fc93b0ed7e4222afa88312c27270b1",
       "version_major": 2,
       "version_minor": 0
      },
      "text/plain": [
       "interactive(children=(RadioButtons(description='Slice plane selection:', options=('x-y', 'y-z', 'z-x'), style=…"
      ]
     },
     "metadata": {
      "tags": []
     },
     "output_type": "display_data"
    },
    {
     "name": "stdout",
     "output_type": "stream",
     "text": [
      "Dist=0.290\n",
      "Execution Time (in seconds): 1.460404634475708\n"
     ]
    }
   ],
   "source": [
    "show_similar(X_test[21])"
   ]
  },
  {
   "cell_type": "code",
   "execution_count": null,
   "metadata": {
    "id": "yO97vgJvN4vr"
   },
   "outputs": [],
   "source": [
    "def GetKey(val):\n",
    "   for key, value in res.items():\n",
    "      if (val == value).all():\n",
    "        return key"
   ]
  },
  {
   "cell_type": "code",
   "execution_count": null,
   "metadata": {
    "id": "riRTEZcEUrKu"
   },
   "outputs": [],
   "source": [
    "def show_similar2d(image):\n",
    "    start_time = time.time()\n",
    "    distances,neighbors = get_similar(image,n_neighbors=5)\n",
    "\n",
    "    print(\"                                     \\033[1m\"+\"QUERY IMAGE\"+\"\\033[0m\")\n",
    "    #Show given image\n",
    "    plt.imshow(image[:,:,5].reshape(32,32),cmap='gray')\n",
    "    plt.title(\"Slice 5\")\n",
    "    plt.show()\n",
    "\n",
    "    print(\"                                    \\033[1m\"+\"RETRIEVED IMAGES\"+\"\\033[0m\")\n",
    "    plt.figure(figsize=(20, 20))\n",
    "    for i in range(4):\n",
    "        retrievedname = GetKey(neighbors[i+1])\n",
    "        print(retrievedname)\n",
    "        ax = plt.subplot(1, 5, i+1)\n",
    "        plt.imshow(neighbors[i+1][:,:,5].reshape(32,32),cmap='gray')\n",
    "        ax.get_xaxis().set_visible(False)\n",
    "        ax.get_yaxis().set_visible(False)\n",
    "        plt.title(\"Dist={:.3f} (Slice 5)\".format(distances[i+1]))\n",
    "    plt.show()\n",
    "    end_time = time.time()\n",
    "    exec_time = end_time-start_time\n",
    "    print(\"Execution Time (in seconds):\",exec_time)\n"
   ]
  },
  {
   "cell_type": "code",
   "execution_count": null,
   "metadata": {
    "colab": {
     "base_uri": "https://localhost:8080/",
     "height": 626
    },
    "id": "QxO3JDDovoRN",
    "outputId": "283e1d4d-322b-43df-85d6-a8447dab5042"
   },
   "outputs": [
    {
     "name": "stdout",
     "output_type": "stream",
     "text": [
      "                                     \u001b[1mQUERY IMAGE\u001b[0m\n"
     ]
    },
    {
     "data": {
      "image/png": "[encoded data removed]",
      "text/plain": [
       "<Figure size 432x288 with 1 Axes>"
      ]
     },
     "metadata": {
      "needs_background": "light",
      "tags": []
     },
     "output_type": "display_data"
    },
    {
     "name": "stdout",
     "output_type": "stream",
     "text": [
      "                                    \u001b[1mRETRIEVED IMAGES\u001b[0m\n",
      "study_0979.nii\n",
      "study_1011.nii\n",
      "study_0998.nii\n",
      "study_0945.nii\n"
     ]
    },
    {
     "data": {
      "image/png": "[encoded data removed]",
      "text/plain": [
       "<Figure size 1440x1440 with 4 Axes>"
      ]
     },
     "metadata": {
      "needs_background": "light",
      "tags": []
     },
     "output_type": "display_data"
    },
    {
     "name": "stdout",
     "output_type": "stream",
     "text": [
      "Execution Time (in seconds): 0.9863357543945312\n"
     ]
    }
   ],
   "source": [
    "show_similar2d(X_test[38])"
   ]
  },
  {
   "cell_type": "code",
   "execution_count": null,
   "metadata": {
    "id": "QJleyEE05MZm"
   },
   "outputs": [],
   "source": [
    "#a=nib.load('mricn.nii').get_fdata()\n",
    "#a=resize(a,(32,32,16))\n",
    "#a=a.reshape(32,32,16,1)\n",
    "#a=a.astype('float32') / 255.0"
   ]
  },
  {
   "cell_type": "code",
   "execution_count": null,
   "metadata": {
    "id": "_x4FA4vF5TDm"
   },
   "outputs": [],
   "source": [
    "#show_similar(a)"
   ]
  }
 ],
 "metadata": {
  "accelerator": "GPU",
  "colab": {
   "provenance": []
  },
  "kernelspec": {
   "display_name": "Python 3",
   "name": "python3"
  },
  "widgets": {
   "application/vnd.jupyter.widget-state+json": {
    "0418dd96ac3042eeb548a1b825ffa2e3": {
     "model_module": "@jupyter-widgets/base",
     "model_module_version": "1.2.0",
     "model_name": "LayoutModel",
     "state": {
      "_model_module": "@jupyter-widgets/base",
      "_model_module_version": "1.2.0",
      "_model_name": "LayoutModel",
      "_view_count": null,
      "_view_module": "@jupyter-widgets/base",
      "_view_module_version": "1.2.0",
      "_view_name": "LayoutView",
      "align_content": null,
      "align_items": null,
      "align_self": null,
      "border": null,
      "bottom": null,
      "display": null,
      "flex": null,
      "flex_flow": null,
      "grid_area": null,
      "grid_auto_columns": null,
      "grid_auto_flow": null,
      "grid_auto_rows": null,
      "grid_column": null,
      "grid_gap": null,
      "grid_row": null,
      "grid_template_areas": null,
      "grid_template_columns": null,
      "grid_template_rows": null,
      "height": null,
      "justify_content": null,
      "justify_items": null,
      "left": null,
      "margin": null,
      "max_height": null,
      "max_width": null,
      "min_height": null,
      "min_width": null,
      "object_fit": null,
      "object_position": null,
      "order": null,
      "overflow": null,
      "overflow_x": null,
      "overflow_y": null,
      "padding": null,
      "right": null,
      "top": null,
      "visibility": null,
      "width": null
     }
    },
    "0703ba0652244770becfd86211051de6": {
     "model_module": "@jupyter-widgets/base",
     "model_module_version": "1.2.0",
     "model_name": "LayoutModel",
     "state": {
      "_model_module": "@jupyter-widgets/base",
      "_model_module_version": "1.2.0",
      "_model_name": "LayoutModel",
      "_view_count": null,
      "_view_module": "@jupyter-widgets/base",
      "_view_module_version": "1.2.0",
      "_view_name": "LayoutView",
      "align_content": null,
      "align_items": null,
      "align_self": null,
      "border": null,
      "bottom": null,
      "display": null,
      "flex": null,
      "flex_flow": null,
      "grid_area": null,
      "grid_auto_columns": null,
      "grid_auto_flow": null,
      "grid_auto_rows": null,
      "grid_column": null,
      "grid_gap": null,
      "grid_row": null,
      "grid_template_areas": null,
      "grid_template_columns": null,
      "grid_template_rows": null,
      "height": null,
      "justify_content": null,
      "justify_items": null,
      "left": null,
      "margin": null,
      "max_height": null,
      "max_width": null,
      "min_height": null,
      "min_width": null,
      "object_fit": null,
      "object_position": null,
      "order": null,
      "overflow": null,
      "overflow_x": null,
      "overflow_y": null,
      "padding": null,
      "right": null,
      "top": null,
      "visibility": null,
      "width": null
     }
    },
    "08342ede69d6455ca25a1d921488689b": {
     "model_module": "@jupyter-widgets/controls",
     "model_module_version": "1.5.0",
     "model_name": "SliderStyleModel",
     "state": {
      "_model_module": "@jupyter-widgets/controls",
      "_model_module_version": "1.5.0",
      "_model_name": "SliderStyleModel",
      "_view_count": null,
      "_view_module": "@jupyter-widgets/base",
      "_view_module_version": "1.2.0",
      "_view_name": "StyleView",
      "description_width": "",
      "handle_color": null
     }
    },
    "0ddf61f1df9d4e3facc3c072a3a5dcd3": {
     "model_module": "@jupyter-widgets/controls",
     "model_module_version": "1.5.0",
     "model_name": "VBoxModel",
     "state": {
      "_dom_classes": [
       "widget-interact"
      ],
      "_model_module": "@jupyter-widgets/controls",
      "_model_module_version": "1.5.0",
      "_model_name": "VBoxModel",
      "_view_count": null,
      "_view_module": "@jupyter-widgets/controls",
      "_view_module_version": "1.5.0",
      "_view_name": "VBoxView",
      "box_style": "",
      "children": [
       "IPY_MODEL_3d53706575f3491982c92e285772ac6a",
       "IPY_MODEL_bbc8942e8d564923a887d11a1a165dea"
      ],
      "layout": "IPY_MODEL_18fe1afc1c01458fb075035d61c09a05"
     }
    },
    "12fbc5bc0197417d862008c994d201ec": {
     "model_module": "@jupyter-widgets/base",
     "model_module_version": "1.2.0",
     "model_name": "LayoutModel",
     "state": {
      "_model_module": "@jupyter-widgets/base",
      "_model_module_version": "1.2.0",
      "_model_name": "LayoutModel",
      "_view_count": null,
      "_view_module": "@jupyter-widgets/base",
      "_view_module_version": "1.2.0",
      "_view_name": "LayoutView",
      "align_content": null,
      "align_items": null,
      "align_self": null,
      "border": null,
      "bottom": null,
      "display": null,
      "flex": null,
      "flex_flow": null,
      "grid_area": null,
      "grid_auto_columns": null,
      "grid_auto_flow": null,
      "grid_auto_rows": null,
      "grid_column": null,
      "grid_gap": null,
      "grid_row": null,
      "grid_template_areas": null,
      "grid_template_columns": null,
      "grid_template_rows": null,
      "height": null,
      "justify_content": null,
      "justify_items": null,
      "left": null,
      "margin": null,
      "max_height": null,
      "max_width": null,
      "min_height": null,
      "min_width": null,
      "object_fit": null,
      "object_position": null,
      "order": null,
      "overflow": null,
      "overflow_x": null,
      "overflow_y": null,
      "padding": null,
      "right": null,
      "top": null,
      "visibility": null,
      "width": null
     }
    },
    "16e1b9a93b4c4d55bdc61de392f49b39": {
     "model_module": "@jupyter-widgets/controls",
     "model_module_version": "1.5.0",
     "model_name": "IntSliderModel",
     "state": {
      "_dom_classes": [],
      "_model_module": "@jupyter-widgets/controls",
      "_model_module_version": "1.5.0",
      "_model_name": "IntSliderModel",
      "_view_count": null,
      "_view_module": "@jupyter-widgets/controls",
      "_view_module_version": "1.5.0",
      "_view_name": "IntSliderView",
      "continuous_update": false,
      "description": "Image Slice:",
      "description_tooltip": null,
      "disabled": false,
      "layout": "IPY_MODEL_4793fcb1f3604fdea8e7dee4cb861ef1",
      "max": 31,
      "min": 0,
      "orientation": "horizontal",
      "readout": true,
      "readout_format": "d",
      "step": 1,
      "style": "IPY_MODEL_08342ede69d6455ca25a1d921488689b",
      "value": 0
     }
    },
    "171b4e9dc1d248e1932bc8500363c650": {
     "model_module": "@jupyter-widgets/controls",
     "model_module_version": "1.5.0",
     "model_name": "DescriptionStyleModel",
     "state": {
      "_model_module": "@jupyter-widgets/controls",
      "_model_module_version": "1.5.0",
      "_model_name": "DescriptionStyleModel",
      "_view_count": null,
      "_view_module": "@jupyter-widgets/base",
      "_view_module_version": "1.2.0",
      "_view_name": "StyleView",
      "description_width": "initial"
     }
    },
    "18fe1afc1c01458fb075035d61c09a05": {
     "model_module": "@jupyter-widgets/base",
     "model_module_version": "1.2.0",
     "model_name": "LayoutModel",
     "state": {
      "_model_module": "@jupyter-widgets/base",
      "_model_module_version": "1.2.0",
      "_model_name": "LayoutModel",
      "_view_count": null,
      "_view_module": "@jupyter-widgets/base",
      "_view_module_version": "1.2.0",
      "_view_name": "LayoutView",
      "align_content": null,
      "align_items": null,
      "align_self": null,
      "border": null,
      "bottom": null,
      "display": null,
      "flex": null,
      "flex_flow": null,
      "grid_area": null,
      "grid_auto_columns": null,
      "grid_auto_flow": null,
      "grid_auto_rows": null,
      "grid_column": null,
      "grid_gap": null,
      "grid_row": null,
      "grid_template_areas": null,
      "grid_template_columns": null,
      "grid_template_rows": null,
      "height": null,
      "justify_content": null,
      "justify_items": null,
      "left": null,
      "margin": null,
      "max_height": null,
      "max_width": null,
      "min_height": null,
      "min_width": null,
      "object_fit": null,
      "object_position": null,
      "order": null,
      "overflow": null,
      "overflow_x": null,
      "overflow_y": null,
      "padding": null,
      "right": null,
      "top": null,
      "visibility": null,
      "width": null
     }
    },
    "1b8d2aefbbde47a8a0dc74987ef560c9": {
     "model_module": "@jupyter-widgets/output",
     "model_module_version": "1.0.0",
     "model_name": "OutputModel",
     "state": {
      "_dom_classes": [],
      "_model_module": "@jupyter-widgets/output",
      "_model_module_version": "1.0.0",
      "_model_name": "OutputModel",
      "_view_count": null,
      "_view_module": "@jupyter-widgets/output",
      "_view_module_version": "1.0.0",
      "_view_name": "OutputView",
      "layout": "IPY_MODEL_788d5c58ede246a2985d7954a95c298b",
      "msg_id": "",
      "outputs": [
       {
        "application/vnd.jupyter.widget-view+json": {
         "model_id": "0ddf61f1df9d4e3facc3c072a3a5dcd3",
         "version_major": 2,
         "version_minor": 0
        },
        "metadata": {
         "tags": []
        },
        "output_type": "display_data",
        "text/plain": "interactive(children=(IntSlider(value=0, continuous_update=False, description='Image Slice:', max=31), Output(…"
       }
      ]
     }
    },
    "1e0d8d8200c9425a8cebab5e6e8e3f9e": {
     "model_module": "@jupyter-widgets/base",
     "model_module_version": "1.2.0",
     "model_name": "LayoutModel",
     "state": {
      "_model_module": "@jupyter-widgets/base",
      "_model_module_version": "1.2.0",
      "_model_name": "LayoutModel",
      "_view_count": null,
      "_view_module": "@jupyter-widgets/base",
      "_view_module_version": "1.2.0",
      "_view_name": "LayoutView",
      "align_content": null,
      "align_items": null,
      "align_self": null,
      "border": null,
      "bottom": null,
      "display": null,
      "flex": null,
      "flex_flow": null,
      "grid_area": null,
      "grid_auto_columns": null,
      "grid_auto_flow": null,
      "grid_auto_rows": null,
      "grid_column": null,
      "grid_gap": null,
      "grid_row": null,
      "grid_template_areas": null,
      "grid_template_columns": null,
      "grid_template_rows": null,
      "height": null,
      "justify_content": null,
      "justify_items": null,
      "left": null,
      "margin": null,
      "max_height": null,
      "max_width": null,
      "min_height": null,
      "min_width": null,
      "object_fit": null,
      "object_position": null,
      "order": null,
      "overflow": null,
      "overflow_x": null,
      "overflow_y": null,
      "padding": null,
      "right": null,
      "top": null,
      "visibility": null,
      "width": null
     }
    },
    "200841e5773146ff872bb8bf1519db3a": {
     "model_module": "@jupyter-widgets/controls",
     "model_module_version": "1.5.0",
     "model_name": "VBoxModel",
     "state": {
      "_dom_classes": [
       "widget-interact"
      ],
      "_model_module": "@jupyter-widgets/controls",
      "_model_module_version": "1.5.0",
      "_model_name": "VBoxModel",
      "_view_count": null,
      "_view_module": "@jupyter-widgets/controls",
      "_view_module_version": "1.5.0",
      "_view_name": "VBoxView",
      "box_style": "",
      "children": [
       "IPY_MODEL_402f188aa4d1408cad6b16d486bc8915",
       "IPY_MODEL_4b7c70440450439d83db685365842bcb"
      ],
      "layout": "IPY_MODEL_0703ba0652244770becfd86211051de6"
     }
    },
    "23b65f17050441efad16f3acfa7b8dd8": {
     "model_module": "@jupyter-widgets/controls",
     "model_module_version": "1.5.0",
     "model_name": "VBoxModel",
     "state": {
      "_dom_classes": [
       "widget-interact"
      ],
      "_model_module": "@jupyter-widgets/controls",
      "_model_module_version": "1.5.0",
      "_model_name": "VBoxModel",
      "_view_count": null,
      "_view_module": "@jupyter-widgets/controls",
      "_view_module_version": "1.5.0",
      "_view_name": "VBoxView",
      "box_style": "",
      "children": [
       "IPY_MODEL_db7c3a29cd324c5dac0e417c87235683",
       "IPY_MODEL_400b3e98e6d642a5b8e967d22b6fd52f"
      ],
      "layout": "IPY_MODEL_bed62ea1145d4aa09fcff0caa745ba88"
     }
    },
    "26204b4f8a59438b8a0979aa01025327": {
     "model_module": "@jupyter-widgets/controls",
     "model_module_version": "1.5.0",
     "model_name": "DescriptionStyleModel",
     "state": {
      "_model_module": "@jupyter-widgets/controls",
      "_model_module_version": "1.5.0",
      "_model_name": "DescriptionStyleModel",
      "_view_count": null,
      "_view_module": "@jupyter-widgets/base",
      "_view_module_version": "1.2.0",
      "_view_name": "StyleView",
      "description_width": "initial"
     }
    },
    "2835a7a0349c435b87b2d81c39c551a6": {
     "model_module": "@jupyter-widgets/base",
     "model_module_version": "1.2.0",
     "model_name": "LayoutModel",
     "state": {
      "_model_module": "@jupyter-widgets/base",
      "_model_module_version": "1.2.0",
      "_model_name": "LayoutModel",
      "_view_count": null,
      "_view_module": "@jupyter-widgets/base",
      "_view_module_version": "1.2.0",
      "_view_name": "LayoutView",
      "align_content": null,
      "align_items": null,
      "align_self": null,
      "border": null,
      "bottom": null,
      "display": null,
      "flex": null,
      "flex_flow": null,
      "grid_area": null,
      "grid_auto_columns": null,
      "grid_auto_flow": null,
      "grid_auto_rows": null,
      "grid_column": null,
      "grid_gap": null,
      "grid_row": null,
      "grid_template_areas": null,
      "grid_template_columns": null,
      "grid_template_rows": null,
      "height": null,
      "justify_content": null,
      "justify_items": null,
      "left": null,
      "margin": null,
      "max_height": null,
      "max_width": null,
      "min_height": null,
      "min_width": null,
      "object_fit": null,
      "object_position": null,
      "order": null,
      "overflow": null,
      "overflow_x": null,
      "overflow_y": null,
      "padding": null,
      "right": null,
      "top": null,
      "visibility": null,
      "width": null
     }
    },
    "2d1675108a52408f985f9393435f648b": {
     "model_module": "@jupyter-widgets/base",
     "model_module_version": "1.2.0",
     "model_name": "LayoutModel",
     "state": {
      "_model_module": "@jupyter-widgets/base",
      "_model_module_version": "1.2.0",
      "_model_name": "LayoutModel",
      "_view_count": null,
      "_view_module": "@jupyter-widgets/base",
      "_view_module_version": "1.2.0",
      "_view_name": "LayoutView",
      "align_content": null,
      "align_items": null,
      "align_self": null,
      "border": null,
      "bottom": null,
      "display": null,
      "flex": null,
      "flex_flow": null,
      "grid_area": null,
      "grid_auto_columns": null,
      "grid_auto_flow": null,
      "grid_auto_rows": null,
      "grid_column": null,
      "grid_gap": null,
      "grid_row": null,
      "grid_template_areas": null,
      "grid_template_columns": null,
      "grid_template_rows": null,
      "height": null,
      "justify_content": null,
      "justify_items": null,
      "left": null,
      "margin": null,
      "max_height": null,
      "max_width": null,
      "min_height": null,
      "min_width": null,
      "object_fit": null,
      "object_position": null,
      "order": null,
      "overflow": null,
      "overflow_x": null,
      "overflow_y": null,
      "padding": null,
      "right": null,
      "top": null,
      "visibility": null,
      "width": null
     }
    },
    "3577916113274fbda38dbfac0f351ac2": {
     "model_module": "@jupyter-widgets/output",
     "model_module_version": "1.0.0",
     "model_name": "OutputModel",
     "state": {
      "_dom_classes": [],
      "_model_module": "@jupyter-widgets/output",
      "_model_module_version": "1.0.0",
      "_model_name": "OutputModel",
      "_view_count": null,
      "_view_module": "@jupyter-widgets/output",
      "_view_module_version": "1.0.0",
      "_view_name": "OutputView",
      "layout": "IPY_MODEL_c3d41ddae80d4c49b548c8641ab9b981",
      "msg_id": "",
      "outputs": [
       {
        "application/vnd.jupyter.widget-view+json": {
         "model_id": "cb2c08f6285e49ab9ef2c9bf0c46532f",
         "version_major": 2,
         "version_minor": 0
        },
        "metadata": {
         "tags": []
        },
        "output_type": "display_data",
        "text/plain": "interactive(children=(IntSlider(value=0, continuous_update=False, description='Image Slice:', max=31), Output(…"
       }
      ]
     }
    },
    "3b2e9d744c074a679de2b8f80e44682f": {
     "model_module": "@jupyter-widgets/base",
     "model_module_version": "1.2.0",
     "model_name": "LayoutModel",
     "state": {
      "_model_module": "@jupyter-widgets/base",
      "_model_module_version": "1.2.0",
      "_model_name": "LayoutModel",
      "_view_count": null,
      "_view_module": "@jupyter-widgets/base",
      "_view_module_version": "1.2.0",
      "_view_name": "LayoutView",
      "align_content": null,
      "align_items": null,
      "align_self": null,
      "border": null,
      "bottom": null,
      "display": null,
      "flex": null,
      "flex_flow": null,
      "grid_area": null,
      "grid_auto_columns": null,
      "grid_auto_flow": null,
      "grid_auto_rows": null,
      "grid_column": null,
      "grid_gap": null,
      "grid_row": null,
      "grid_template_areas": null,
      "grid_template_columns": null,
      "grid_template_rows": null,
      "height": null,
      "justify_content": null,
      "justify_items": null,
      "left": null,
      "margin": null,
      "max_height": null,
      "max_width": null,
      "min_height": null,
      "min_width": null,
      "object_fit": null,
      "object_position": null,
      "order": null,
      "overflow": null,
      "overflow_x": null,
      "overflow_y": null,
      "padding": null,
      "right": null,
      "top": null,
      "visibility": null,
      "width": null
     }
    },
    "3d53706575f3491982c92e285772ac6a": {
     "model_module": "@jupyter-widgets/controls",
     "model_module_version": "1.5.0",
     "model_name": "IntSliderModel",
     "state": {
      "_dom_classes": [],
      "_model_module": "@jupyter-widgets/controls",
      "_model_module_version": "1.5.0",
      "_model_name": "IntSliderModel",
      "_view_count": null,
      "_view_module": "@jupyter-widgets/controls",
      "_view_module_version": "1.5.0",
      "_view_name": "IntSliderView",
      "continuous_update": false,
      "description": "Image Slice:",
      "description_tooltip": null,
      "disabled": false,
      "layout": "IPY_MODEL_0418dd96ac3042eeb548a1b825ffa2e3",
      "max": 31,
      "min": 0,
      "orientation": "horizontal",
      "readout": true,
      "readout_format": "d",
      "step": 1,
      "style": "IPY_MODEL_e34a886908d940e3a760cd8cc6393f41",
      "value": 0
     }
    },
    "400b3e98e6d642a5b8e967d22b6fd52f": {
     "model_module": "@jupyter-widgets/output",
     "model_module_version": "1.0.0",
     "model_name": "OutputModel",
     "state": {
      "_dom_classes": [],
      "_model_module": "@jupyter-widgets/output",
      "_model_module_version": "1.0.0",
      "_model_name": "OutputModel",
      "_view_count": null,
      "_view_module": "@jupyter-widgets/output",
      "_view_module_version": "1.0.0",
      "_view_name": "OutputView",
      "layout": "IPY_MODEL_12fbc5bc0197417d862008c994d201ec",
      "msg_id": "",
      "outputs": [
       {
        "image/png": "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\n",
        "metadata": {
         "needs_background": "light",
         "tags": []
        },
        "output_type": "display_data",
        "text/plain": "<Figure size 216x216 with 1 Axes>"
       }
      ]
     }
    },
    "402f188aa4d1408cad6b16d486bc8915": {
     "model_module": "@jupyter-widgets/controls",
     "model_module_version": "1.5.0",
     "model_name": "RadioButtonsModel",
     "state": {
      "_dom_classes": [],
      "_model_module": "@jupyter-widgets/controls",
      "_model_module_version": "1.5.0",
      "_model_name": "RadioButtonsModel",
      "_options_labels": [
       "x-y",
       "y-z",
       "z-x"
      ],
      "_view_count": null,
      "_view_module": "@jupyter-widgets/controls",
      "_view_module_version": "1.5.0",
      "_view_name": "RadioButtonsView",
      "description": "Slice plane selection:",
      "description_tooltip": null,
      "disabled": false,
      "index": 0,
      "layout": "IPY_MODEL_fd5be38613994deba304041f77efea39",
      "style": "IPY_MODEL_26204b4f8a59438b8a0979aa01025327"
     }
    },
    "4048649774574f418eb10022602775e5": {
     "model_module": "@jupyter-widgets/controls",
     "model_module_version": "1.5.0",
     "model_name": "RadioButtonsModel",
     "state": {
      "_dom_classes": [],
      "_model_module": "@jupyter-widgets/controls",
      "_model_module_version": "1.5.0",
      "_model_name": "RadioButtonsModel",
      "_options_labels": [
       "x-y",
       "y-z",
       "z-x"
      ],
      "_view_count": null,
      "_view_module": "@jupyter-widgets/controls",
      "_view_module_version": "1.5.0",
      "_view_name": "RadioButtonsView",
      "description": "Slice plane selection:",
      "description_tooltip": null,
      "disabled": false,
      "index": 0,
      "layout": "IPY_MODEL_c08fe477ea75467182487c7a0dcd2cbc",
      "style": "IPY_MODEL_f9c01e3564aa496eb1fd25878fc9aea1"
     }
    },
    "4793fcb1f3604fdea8e7dee4cb861ef1": {
     "model_module": "@jupyter-widgets/base",
     "model_module_version": "1.2.0",
     "model_name": "LayoutModel",
     "state": {
      "_model_module": "@jupyter-widgets/base",
      "_model_module_version": "1.2.0",
      "_model_name": "LayoutModel",
      "_view_count": null,
      "_view_module": "@jupyter-widgets/base",
      "_view_module_version": "1.2.0",
      "_view_name": "LayoutView",
      "align_content": null,
      "align_items": null,
      "align_self": null,
      "border": null,
      "bottom": null,
      "display": null,
      "flex": null,
      "flex_flow": null,
      "grid_area": null,
      "grid_auto_columns": null,
      "grid_auto_flow": null,
      "grid_auto_rows": null,
      "grid_column": null,
      "grid_gap": null,
      "grid_row": null,
      "grid_template_areas": null,
      "grid_template_columns": null,
      "grid_template_rows": null,
      "height": null,
      "justify_content": null,
      "justify_items": null,
      "left": null,
      "margin": null,
      "max_height": null,
      "max_width": null,
      "min_height": null,
      "min_width": null,
      "object_fit": null,
      "object_position": null,
      "order": null,
      "overflow": null,
      "overflow_x": null,
      "overflow_y": null,
      "padding": null,
      "right": null,
      "top": null,
      "visibility": null,
      "width": null
     }
    },
    "479f0c98a57c474e8eb6f097505461cb": {
     "model_module": "@jupyter-widgets/base",
     "model_module_version": "1.2.0",
     "model_name": "LayoutModel",
     "state": {
      "_model_module": "@jupyter-widgets/base",
      "_model_module_version": "1.2.0",
      "_model_name": "LayoutModel",
      "_view_count": null,
      "_view_module": "@jupyter-widgets/base",
      "_view_module_version": "1.2.0",
      "_view_name": "LayoutView",
      "align_content": null,
      "align_items": null,
      "align_self": null,
      "border": null,
      "bottom": null,
      "display": null,
      "flex": null,
      "flex_flow": null,
      "grid_area": null,
      "grid_auto_columns": null,
      "grid_auto_flow": null,
      "grid_auto_rows": null,
      "grid_column": null,
      "grid_gap": null,
      "grid_row": null,
      "grid_template_areas": null,
      "grid_template_columns": null,
      "grid_template_rows": null,
      "height": null,
      "justify_content": null,
      "justify_items": null,
      "left": null,
      "margin": null,
      "max_height": null,
      "max_width": null,
      "min_height": null,
      "min_width": null,
      "object_fit": null,
      "object_position": null,
      "order": null,
      "overflow": null,
      "overflow_x": null,
      "overflow_y": null,
      "padding": null,
      "right": null,
      "top": null,
      "visibility": null,
      "width": null
     }
    },
    "47ee356de62b44c998d4c12efbb13256": {
     "model_module": "@jupyter-widgets/output",
     "model_module_version": "1.0.0",
     "model_name": "OutputModel",
     "state": {
      "_dom_classes": [],
      "_model_module": "@jupyter-widgets/output",
      "_model_module_version": "1.0.0",
      "_model_name": "OutputModel",
      "_view_count": null,
      "_view_module": "@jupyter-widgets/output",
      "_view_module_version": "1.0.0",
      "_view_name": "OutputView",
      "layout": "IPY_MODEL_c518c6896fbb412eaa9d5285f5d7b3bd",
      "msg_id": "",
      "outputs": [
       {
        "application/vnd.jupyter.widget-view+json": {
         "model_id": "23b65f17050441efad16f3acfa7b8dd8",
         "version_major": 2,
         "version_minor": 0
        },
        "metadata": {
         "tags": []
        },
        "output_type": "display_data",
        "text/plain": "interactive(children=(IntSlider(value=0, continuous_update=False, description='Image Slice:', max=31), Output(…"
       }
      ]
     }
    },
    "4b7c70440450439d83db685365842bcb": {
     "model_module": "@jupyter-widgets/output",
     "model_module_version": "1.0.0",
     "model_name": "OutputModel",
     "state": {
      "_dom_classes": [],
      "_model_module": "@jupyter-widgets/output",
      "_model_module_version": "1.0.0",
      "_model_name": "OutputModel",
      "_view_count": null,
      "_view_module": "@jupyter-widgets/output",
      "_view_module_version": "1.0.0",
      "_view_name": "OutputView",
      "layout": "IPY_MODEL_1e0d8d8200c9425a8cebab5e6e8e3f9e",
      "msg_id": "",
      "outputs": [
       {
        "application/vnd.jupyter.widget-view+json": {
         "model_id": "f6e7c8cd250742c5baa4f052ab96aa5f",
         "version_major": 2,
         "version_minor": 0
        },
        "metadata": {
         "tags": []
        },
        "output_type": "display_data",
        "text/plain": "interactive(children=(IntSlider(value=0, continuous_update=False, description='Image Slice:', max=31), Output(…"
       }
      ]
     }
    },
    "4d179dd841bd45e1a625f647875ed711": {
     "model_module": "@jupyter-widgets/controls",
     "model_module_version": "1.5.0",
     "model_name": "SliderStyleModel",
     "state": {
      "_model_module": "@jupyter-widgets/controls",
      "_model_module_version": "1.5.0",
      "_model_name": "SliderStyleModel",
      "_view_count": null,
      "_view_module": "@jupyter-widgets/base",
      "_view_module_version": "1.2.0",
      "_view_name": "StyleView",
      "description_width": "",
      "handle_color": null
     }
    },
    "575149a0f9624a1eb2d7c0aa00ffbd37": {
     "model_module": "@jupyter-widgets/controls",
     "model_module_version": "1.5.0",
     "model_name": "IntSliderModel",
     "state": {
      "_dom_classes": [],
      "_model_module": "@jupyter-widgets/controls",
      "_model_module_version": "1.5.0",
      "_model_name": "IntSliderModel",
      "_view_count": null,
      "_view_module": "@jupyter-widgets/controls",
      "_view_module_version": "1.5.0",
      "_view_name": "IntSliderView",
      "continuous_update": false,
      "description": "Image Slice:",
      "description_tooltip": null,
      "disabled": false,
      "layout": "IPY_MODEL_e54467fc2406492393f5538ac42ff9dd",
      "max": 31,
      "min": 0,
      "orientation": "horizontal",
      "readout": true,
      "readout_format": "d",
      "step": 1,
      "style": "IPY_MODEL_a433ca04c0224936a0b76886954530dd",
      "value": 0
     }
    },
    "610083d9745741f09788bd79fca360fa": {
     "model_module": "@jupyter-widgets/base",
     "model_module_version": "1.2.0",
     "model_name": "LayoutModel",
     "state": {
      "_model_module": "@jupyter-widgets/base",
      "_model_module_version": "1.2.0",
      "_model_name": "LayoutModel",
      "_view_count": null,
      "_view_module": "@jupyter-widgets/base",
      "_view_module_version": "1.2.0",
      "_view_name": "LayoutView",
      "align_content": null,
      "align_items": null,
      "align_self": null,
      "border": null,
      "bottom": null,
      "display": null,
      "flex": null,
      "flex_flow": null,
      "grid_area": null,
      "grid_auto_columns": null,
      "grid_auto_flow": null,
      "grid_auto_rows": null,
      "grid_column": null,
      "grid_gap": null,
      "grid_row": null,
      "grid_template_areas": null,
      "grid_template_columns": null,
      "grid_template_rows": null,
      "height": null,
      "justify_content": null,
      "justify_items": null,
      "left": null,
      "margin": null,
      "max_height": null,
      "max_width": null,
      "min_height": null,
      "min_width": null,
      "object_fit": null,
      "object_position": null,
      "order": null,
      "overflow": null,
      "overflow_x": null,
      "overflow_y": null,
      "padding": null,
      "right": null,
      "top": null,
      "visibility": null,
      "width": null
     }
    },
    "66653e9332d7483887ca4aa1282884d9": {
     "model_module": "@jupyter-widgets/base",
     "model_module_version": "1.2.0",
     "model_name": "LayoutModel",
     "state": {
      "_model_module": "@jupyter-widgets/base",
      "_model_module_version": "1.2.0",
      "_model_name": "LayoutModel",
      "_view_count": null,
      "_view_module": "@jupyter-widgets/base",
      "_view_module_version": "1.2.0",
      "_view_name": "LayoutView",
      "align_content": null,
      "align_items": null,
      "align_self": null,
      "border": null,
      "bottom": null,
      "display": null,
      "flex": null,
      "flex_flow": null,
      "grid_area": null,
      "grid_auto_columns": null,
      "grid_auto_flow": null,
      "grid_auto_rows": null,
      "grid_column": null,
      "grid_gap": null,
      "grid_row": null,
      "grid_template_areas": null,
      "grid_template_columns": null,
      "grid_template_rows": null,
      "height": null,
      "justify_content": null,
      "justify_items": null,
      "left": null,
      "margin": null,
      "max_height": null,
      "max_width": null,
      "min_height": null,
      "min_width": null,
      "object_fit": null,
      "object_position": null,
      "order": null,
      "overflow": null,
      "overflow_x": null,
      "overflow_y": null,
      "padding": null,
      "right": null,
      "top": null,
      "visibility": null,
      "width": null
     }
    },
    "66fc93b0ed7e4222afa88312c27270b1": {
     "model_module": "@jupyter-widgets/controls",
     "model_module_version": "1.5.0",
     "model_name": "VBoxModel",
     "state": {
      "_dom_classes": [
       "widget-interact"
      ],
      "_model_module": "@jupyter-widgets/controls",
      "_model_module_version": "1.5.0",
      "_model_name": "VBoxModel",
      "_view_count": null,
      "_view_module": "@jupyter-widgets/controls",
      "_view_module_version": "1.5.0",
      "_view_name": "VBoxView",
      "box_style": "",
      "children": [
       "IPY_MODEL_d2f5763b8a1b425d98c681298ed00745",
       "IPY_MODEL_1b8d2aefbbde47a8a0dc74987ef560c9"
      ],
      "layout": "IPY_MODEL_e5073ebcc2214cdf8e7315b602b452fa"
     }
    },
    "67a282b6da104481bf99054330b267dc": {
     "model_module": "@jupyter-widgets/output",
     "model_module_version": "1.0.0",
     "model_name": "OutputModel",
     "state": {
      "_dom_classes": [],
      "_model_module": "@jupyter-widgets/output",
      "_model_module_version": "1.0.0",
      "_model_name": "OutputModel",
      "_view_count": null,
      "_view_module": "@jupyter-widgets/output",
      "_view_module_version": "1.0.0",
      "_view_name": "OutputView",
      "layout": "IPY_MODEL_610083d9745741f09788bd79fca360fa",
      "msg_id": "",
      "outputs": [
       {
        "image/png": "iVBORw0KGgoAAAANSUhEUgAAAMUAAADDCAYAAAAyYdXtAAAABHNCSVQICAgIfAhkiAAAAAlwSFlzAAALEgAACxIB0t1+/AAAADh0RVh0U29mdHdhcmUAbWF0cGxvdGxpYiB2ZXJzaW9uMy4yLjIsIGh0dHA6Ly9tYXRwbG90bGliLm9yZy+WH4yJAAATC0lEQVR4nO2dW2xV153Gv3/MxQQSjLmaO3hIAonAuShKNBUpzWREq5FIpVHUPIzyEJU+NFKr6QvKSDMZaR46UttopIwS0RTBKOTSmaQKihAzKSpBlUYhlFAHcABDAiUxxhAI4Y7Jfx7O9tRe69v2OmcfH/ug7ychfD7vvdba2/57729d/svcHUKIP3PLSDdAiNGGgkKIAAWFEAEKCiECFBRCBCgohAgoFBRmttrMDppZp5mtq1ajhBhJrNJxCjNrAHAIwGMATgD4AMCT7n5gkHNumkGRhoaGSBszZkykjRs3jp7P9PHjx0fa2LFjk+phXL9+PdKuXLmSpOXprMx6Hetyd2N62t3lPAig092PAoCZvQ5gDYDcoKhX2C/hpEmTIm3mzJmRNnv2bFrm/PnzI23x4sWRNnfu3Ehrbm6OtK+//jrSuru7I+3w4cORduAA/5F1dHQklXn16lV6fr1S5PVpDoA/9ft8ItMGYGZrzWy3me0uUJcQNaPIkyIJd18PYD1wc70+iZuXIkHxGYB5/T7PzbS6gb0WTZ06NdJaW1sjbc6c6KFIz120aBGte8GCBZE2ceLESGPeJZWFCxdG2rx58yJt5cqV9PzTp09H2p49eyJt586dkdbZ2Rlp9fKaVeT16QMAS8xskZmNA/A9AFuq0ywhRo6KnxTu3mtmzwD4bwANADa4+/6qtUyIEaKQp3D3rQC2VqktQowKNKItREDFg3cVVTaCvU+33357pC1dujTSmDllYxKsvGXLlkXarFmzaHtSDfQtt8R/t9i5ZnQcKom83wGm9/b2RlpPT0+k7dixI9K2bdsWaSdPnkxuT7XJG7zTk0KIAAWFEAEKCiECFBRCBNS10WYmFOAT8+6///6k41iZkydPjrS777470mbMmJHcRgYz0GyUmxn/S5cuRVrqjNZyjDbT2GTEy5cvR9pHH30UaZs3b460jz/+ONJu3LhB21gEGW0hElFQCBGgoBAiQEEhREDdGG02YsumXwPAww8/HGm33XZbUplNTU2Rds8990QamybOTHWe0WY6W6I6YcKEpHPZtOxUU5xHkd8NZoyvXbsWaYcOHYq0jRs3RtrevXuT60lFRluIRBQUQgQoKIQIUFAIEaCgECKgUO+TmX0K4CsANwD0uvsDQxxfcWUsf9Kjjz5Kj2XTMlgvBZsu0dbWFmlTpkyJNNYDxBKX5a1zYEkTarVOogjl9F6FsN4n1mt25MiRSHvppZdomSxnVep1D0cytD5WuXuc9kGIOkWvT0IEFA0KB/A/ZvYHM1vLDlCGQFFvFH19+oa7f2ZmMwC8a2Yfu/uAzFjKECjqjapN8zCz5wBccPefDXJMUmUsKcCqVasijSUkBrihY8aWTd9gmf8YzFSzrOF5RpkZ9SKmmlEro506nYR1drBECOzn197eTtvzwgsvRFpXVxc9NqTq0zzMbKKZ3db3NYC/BrCv0vKEGC0UeX2aCeA32V+3MQBedfc4h4kQdUaRtJlHAayoYluEGBWoS1aIgGHfn2LIBhADzDLttbS0RFpelj1m8qZNmxZpLHEBI3XtAyvv7NmztMwiI8OppBr3PEPOjDFrN0uawOpm94zdW/Y7wRJFAMDq1asj7dVXX420crYB0JNCiAAFhRABCgohAhQUQgSMuNGePn16pN1xxx2RxsxXnpFko81s693U/ahTExJcvHgx0mqVKCC1HlZH3uL/1JkBqVqREfu8/cgfeeSRSNu1a1ek7d+fvsmWnhRCBCgohAhQUAgRoKAQIqDmRjs0YMxUs/Tz5cCmcLPp6AxmBpmpZlOev/zyy0jLG3UvMtrM6mZmmZ3LRnaPHz9O62Zltra2Rlpqh0Vqan92b/I6IVimxpUrV0ZauNk960ToQ08KIQIUFEIEKCiECFBQCBEwpEMysw0A/gbAKXe/J9OaAbwBYCGATwE84e58jnT/ysaMiYwR28w9px1JxwHArbfeGmlsRJSVyYxx6ugsM8BMA8pbz10prN1XrlyJtHPnztHz2fYFbOScaey6U0fs2X3Iuzfs53XfffdF2tatWwd8Hmwdd8qTYiOAcNL6OgDb3X0JgO3ZZyFuCoYMiixlzReBvAbApuzrTQAer3K7hBgxKh2nmOnufc+fkyglMaBkSdLWAuVtnyvESFH4t9RLL4q5L4vuvt7dH3D3BxQUoh6o9EnRbWYt7t5lZi0ATqWc1NjYiDvvvHOAxjKEs03RyxnlZCY2NSCZcUtNXMauJW+NdupIbmpnAIMdx0b2ly9fnlRe0bpTE6QV/ePJRrmXLFky4PMXX4SOoF/9Fda7BcBT2ddPAXi7wnKEGHUMGRRm9hqA/wVwp5mdMLOnAfwUwGNmdhjAX2WfhbgpGPL1yd2fzPkW3zFFiDpHzleIgJpOHW9sbMTSpUsHaMyQpRrtctZop55fJBs4q5dpAL/GIu1ObSO736yDAOCj32ykOvU+Mi11yns5sPsYZqjP26we0JNCiAgFhRABCgohAhQUQgQoKIQIqGnv07hx46JMfYMNt48ERXo+Lly4EGl5vUJMZz1SqVMeivQA5WUXLNLzldoe1huWl7EwFVZPuJdhXsZBQE8KISIUFEIEKCiECFBQCBFQU6Pd0NCApqamAdqZM2cqLi/PILI92Jh5S00+kJq4gLUnb5pHeB+A9E3aWZY/lvEutbw8iqxrKLI2pKjRZjQ3Nw9Zbx96UggRoKAQIkBBIUSAgkKIgEozBD4H4PsAerLDnnX3rbyEAWVFxrPaaxoAPrJ8+fLlSEvNgMfMNzPQbAsBttceAJw+fTrSUkfTmUlMzciXuh4CKLaPHjP+jY2NkcaupZwkFQx2flj3YJ0IlWYIBIDn3b0t+zdkQAhRL1SaIVCIm5YinuIZM2s3sw1mNiXvIDNba2a7zWw3e60RYrRRaVC8CKAVQBuALgA/zzuwf4bASZMmVVidELWjohFtd+/u+9rMfgngnaq1KL/OSMszgszk9fT0RBoz2ozUJAPMaLPRZ4Ab/wkTJkRa0VHplPLKGUFOHalOTdmf2tGSZ7SLpPfPo6InRZYqs4/vAthXSTlCjEZSumRfA/BNANPM7ASAfwLwTTNrQymx8qcAfjCMbRSiplSaIfBXw9AWIUYFGtEWIqCmU8fdPTKeRaYn553LDN2pU/FuAfPnz480ZqBTzSnbXD6vxy2cygzwdrM17BcvXoy01BHtclL7lzP6nVI367BIHdEuh5QR9sEMup4UQgQoKIQIUFAIEaCgECKgpka7t7c32gMudQ+1VNMIpO+tlkrqKC4bvT527Bgtk5lOBhudL5JUrJz7yI4tkiwudUS7nDamEnaCDPb7oCeFEAEKCiECFBRCBCgohAioqdG+evUqjhw5MkCbPXt20rlFzVfqyDmrp8ioKxsVBtLXgrNEbKntYVpq0jSgWMZzVia7ltQOkHIMPru3XV1dAz4P1tGhJ4UQAQoKIQIUFEIEKCiECEhZeTcPwH8AmInSSrv17v5vZtYM4A0AC1FaffeEu5/NKwcoGe3Dhw8P0FKNdjkUSaaWOrW6yIbzeecz05k64p86Wpzaljyd3VtmoFONMWt3keUEADfRBw8eHPD5ypUrueen1N4L4CfuvgzAQwB+aGbLAKwDsN3dlwDYnn0Wou5JSYbW5e57sq+/AtABYA6ANQA2ZYdtAvD4cDVSiFpS1jiFmS0EcC+A9wHMdPe+zt+TKL1esXPWAlgLDL4jpRCjheSXNzObBOBNAD929/P9v+elF0j6Etk/GVre+7UQo4mkoDCzsSgFxGZ3fyuTu/vyP2X/x4ughahDUnqfDKWUNh3u/ot+39oC4CkAP83+f3uosq5du4bjx48P0FgvwHDMsWfTG4qkmk89jmX9A/h152UTDCmytqCcnh12f06cOBFprNeM3e/p06dHGkvsUHTtBNvmoKOjY8DnwXqfUjzFXwL4OwAfmdneTHsWpWD4tZk9DeAYgCeSWizEKCclGdrvAeSF7qPVbY4QI49GtIUIUFAIEVDzxAWhCQrXVwDAggULksrLM8DMqLGhf2a22FgKM5Kp0ypYNr+8uouQOm2knKQOqRkLP/nkk6Qy582bF2krVqyItHKmjbB6Pvzww0jr7u4e8FnrKYQoAwWFEAEKCiECFBRCBNQ8FX840rl3797ouGnTpkUa208ub0Q6dcH+mTNnIo3tg8fMHDNqzCDmtTF1LztWNxuVZueyNrLyyjHaTU1NkcZ+XmwdSOpx5SQpYD/DnTt3RlrqbAFATwohIhQUQgQoKIQIUFAIEVBTo804efJkpIXJDQBg+fLlkVaO0WamM8waBwBz5syJNLY4ipXHDGLeVG1mylNJNdBFNqEH+H2cNWtWpDEDnbpdQGrnBOsoAYD33nsv0jo7O+mxqehJIUSAgkKIAAWFEAEKCiECimQIfA7A9wH0ZIc+6+5by20ASz+/b9++SGPre9nm8AA3dMycsmnQbBN6Zr6ZqU5NpQ9wIzp+/Hh6bMq5qSn22bl5nQHsepgJTs3SkrqtAOs02L9/Py1z27ZtkVbO6DUjpQukL0PgHjO7DcAfzOzd7HvPu/vPCrVAiFFGyhrtLgBd2ddfmVlfhkAhbkrK8hRBhkAAeMbM2s1sg5lNyTlnrZntNrPdhVoqRI0okiHwRQCtANpQepL8nJ3XP0NgFdorxLCTNKzKMgS6e3e/7/8SwDvVatT58+cjbdeuXZHGppMDfNSVwcz3oUOHIo0l7Jo8eXKkMWObNy07Nc09u8Zz584llZdab9HkY6nXwgw5M+5Hjx6NtM2bN9O62YyIogz5pMjLENiXMjPjuwDiLiMh6pAiGQKfNLM2lLppPwXwg2FpoRA1pkiGwLLHJISoBzSiLUSAlbMetnBlZhVXxsxcXtK0VatWRVrqaDEzxmxqNJvKzsx3HqlGlGmp66yZiS1neju756l71DGNtZElw3v55ZcjjSU4yyszFXenPQx6UggRoKAQIkBBIUSAgkKIgLox2ow8g8g2rL/33nsjraWlJdJS70dzc3Ok3XXXXZHGTDqQvml8kQ3eU+vIm/rN9EuXLkUaM7ts+nZ7e3ukvfLKK5EWbsWVV0dRZLSFSERBIUSAgkKIAAWFEAEKCiEC6rr3aZB6Io2l2F+2bFmktba2RhrbB4/17LCN5POSK7ApKux81tOUuiYiteeqnPUUbA1KT09PpO3YsSPSWJIBth6iVr+T6n0SIhEFhRABCgohAlKWozaa2S4z+6OZ7Tezf870RWb2vpl1mtkbZha/eAtRhwxptLM12hPd/UKWwOD3AH4E4O8BvOXur5vZSwD+6O4vDlFW7Vx9AmxqBJuWsXjx4khjU0lYkgFm0gFgypQ4I9CiRYsibcaMGUll5k15CUndGw8ATp8+HWlsXQNLh8/WSRTN3FdtKjbaXuJC9nFs9s8BfAvAf2X6JgCPV6GdQow4SX9ezKwhS1pwCsC7AI4AOOfufclGTyAna6CSoYl6Iyko3P2Gu7cBmAvgQQDxdND8c5UMTdQVZfU+ufs5AL8D8DCAJjPreymfC+CzKrdNiBEhJRX/dADX3f2cmU0A8BiAf0UpOP4WwOsAngLw9nA2dDhgqebZCCsznCxrIDPFedkKp06dGmlsawC2boOZdDYazgz0559/HmkHDhygbWTrGrq7uyNttBnooqQkQ2sBsMnMGlB6svza3d8xswMAXjezfwHwIUpZBIWoe1KSobWjlGk81I+i5C+EuKnQiLYQAQoKIQJqPXW8B8AxANMAxO61PtG1jE6GupYF7h5vpIgaB8X/V2q2+2YZt9C1jE6KXIten4QIUFAIETBSQbF+hOodDnQto5OKr2VEPIUQoxm9PgkRoKAQIqDmQWFmq83sYLaMdV2t6y+CmW0ws1Nmtq+f1mxm75rZ4ez/eLbeKMTM5pnZ78zsQLbM+EeZXnfXU+0l0zUNimxS4b8D+DaAZSjtsBonXxq9bASwOtDWAdju7ksAbM8+1wO9AH7i7ssAPATgh9nPoh6v5yqAb7n7CgBtAFab2UMozeZ+3t3/AsBZAE+nFFbrJ8WDADrd/ai7X0Np2vmaGrehYtx9J4BwfvcalJbjAnW0LNfdu9x9T/b1VwA6UFo9WXfXU+0l07UOijkA/tTvc+4y1jpiprt3ZV+fBDBzJBtTCWa2EKWZ0O+jTq+nyJLpEBntKuKl/u266uM2s0kA3gTwY3c/3/979XQ9RZZMh9Q6KD4DMK/f55thGWu3mbUAQPb/qRFuTzJZyqI3AWx297cyuW6vB6jOkulaB8UHAJZkvQLjAHwPwJYat6HabEFpOS5QR8tys3xevwLQ4e6/6PeturseM5tuZk3Z131Lpjvw5yXTQDnX4u41/QfgOwAOofTO9w+1rr9g218D0AXgOkrvqE8DmIpSL81hAL8F0DzS7Uy8lm+g9GrUDmBv9u879Xg9AJajtCS6HcA+AP+Y6YsB7ALQCeA/AYxPKU/TPIQIkNEWIkBBIUSAgkKIAAWFEAEKCiECFBRCBCgohAj4P5OrRsS7S2dWAAAAAElFTkSuQmCC\n",
        "metadata": {
         "needs_background": "light",
         "tags": []
        },
        "output_type": "display_data",
        "text/plain": "<Figure size 216x216 with 1 Axes>"
       }
      ]
     }
    },
    "692240bd16994048a4f78be0a9f530dc": {
     "model_module": "@jupyter-widgets/controls",
     "model_module_version": "1.5.0",
     "model_name": "SliderStyleModel",
     "state": {
      "_model_module": "@jupyter-widgets/controls",
      "_model_module_version": "1.5.0",
      "_model_name": "SliderStyleModel",
      "_view_count": null,
      "_view_module": "@jupyter-widgets/base",
      "_view_module_version": "1.2.0",
      "_view_name": "StyleView",
      "description_width": "",
      "handle_color": null
     }
    },
    "6d945caf134742d895f61947121cfec5": {
     "model_module": "@jupyter-widgets/base",
     "model_module_version": "1.2.0",
     "model_name": "LayoutModel",
     "state": {
      "_model_module": "@jupyter-widgets/base",
      "_model_module_version": "1.2.0",
      "_model_name": "LayoutModel",
      "_view_count": null,
      "_view_module": "@jupyter-widgets/base",
      "_view_module_version": "1.2.0",
      "_view_name": "LayoutView",
      "align_content": null,
      "align_items": null,
      "align_self": null,
      "border": null,
      "bottom": null,
      "display": null,
      "flex": null,
      "flex_flow": null,
      "grid_area": null,
      "grid_auto_columns": null,
      "grid_auto_flow": null,
      "grid_auto_rows": null,
      "grid_column": null,
      "grid_gap": null,
      "grid_row": null,
      "grid_template_areas": null,
      "grid_template_columns": null,
      "grid_template_rows": null,
      "height": null,
      "justify_content": null,
      "justify_items": null,
      "left": null,
      "margin": null,
      "max_height": null,
      "max_width": null,
      "min_height": null,
      "min_width": null,
      "object_fit": null,
      "object_position": null,
      "order": null,
      "overflow": null,
      "overflow_x": null,
      "overflow_y": null,
      "padding": null,
      "right": null,
      "top": null,
      "visibility": null,
      "width": null
     }
    },
    "723a1a4c2e6e430a89394f1fb3f3ac9e": {
     "model_module": "@jupyter-widgets/controls",
     "model_module_version": "1.5.0",
     "model_name": "RadioButtonsModel",
     "state": {
      "_dom_classes": [],
      "_model_module": "@jupyter-widgets/controls",
      "_model_module_version": "1.5.0",
      "_model_name": "RadioButtonsModel",
      "_options_labels": [
       "x-y",
       "y-z",
       "z-x"
      ],
      "_view_count": null,
      "_view_module": "@jupyter-widgets/controls",
      "_view_module_version": "1.5.0",
      "_view_name": "RadioButtonsView",
      "description": "Slice plane selection:",
      "description_tooltip": null,
      "disabled": false,
      "index": 0,
      "layout": "IPY_MODEL_6d945caf134742d895f61947121cfec5",
      "style": "IPY_MODEL_171b4e9dc1d248e1932bc8500363c650"
     }
    },
    "788d5c58ede246a2985d7954a95c298b": {
     "model_module": "@jupyter-widgets/base",
     "model_module_version": "1.2.0",
     "model_name": "LayoutModel",
     "state": {
      "_model_module": "@jupyter-widgets/base",
      "_model_module_version": "1.2.0",
      "_model_name": "LayoutModel",
      "_view_count": null,
      "_view_module": "@jupyter-widgets/base",
      "_view_module_version": "1.2.0",
      "_view_name": "LayoutView",
      "align_content": null,
      "align_items": null,
      "align_self": null,
      "border": null,
      "bottom": null,
      "display": null,
      "flex": null,
      "flex_flow": null,
      "grid_area": null,
      "grid_auto_columns": null,
      "grid_auto_flow": null,
      "grid_auto_rows": null,
      "grid_column": null,
      "grid_gap": null,
      "grid_row": null,
      "grid_template_areas": null,
      "grid_template_columns": null,
      "grid_template_rows": null,
      "height": null,
      "justify_content": null,
      "justify_items": null,
      "left": null,
      "margin": null,
      "max_height": null,
      "max_width": null,
      "min_height": null,
      "min_width": null,
      "object_fit": null,
      "object_position": null,
      "order": null,
      "overflow": null,
      "overflow_x": null,
      "overflow_y": null,
      "padding": null,
      "right": null,
      "top": null,
      "visibility": null,
      "width": null
     }
    },
    "79b7f93da59444fcb25d48008f0cad46": {
     "model_module": "@jupyter-widgets/base",
     "model_module_version": "1.2.0",
     "model_name": "LayoutModel",
     "state": {
      "_model_module": "@jupyter-widgets/base",
      "_model_module_version": "1.2.0",
      "_model_name": "LayoutModel",
      "_view_count": null,
      "_view_module": "@jupyter-widgets/base",
      "_view_module_version": "1.2.0",
      "_view_name": "LayoutView",
      "align_content": null,
      "align_items": null,
      "align_self": null,
      "border": null,
      "bottom": null,
      "display": null,
      "flex": null,
      "flex_flow": null,
      "grid_area": null,
      "grid_auto_columns": null,
      "grid_auto_flow": null,
      "grid_auto_rows": null,
      "grid_column": null,
      "grid_gap": null,
      "grid_row": null,
      "grid_template_areas": null,
      "grid_template_columns": null,
      "grid_template_rows": null,
      "height": null,
      "justify_content": null,
      "justify_items": null,
      "left": null,
      "margin": null,
      "max_height": null,
      "max_width": null,
      "min_height": null,
      "min_width": null,
      "object_fit": null,
      "object_position": null,
      "order": null,
      "overflow": null,
      "overflow_x": null,
      "overflow_y": null,
      "padding": null,
      "right": null,
      "top": null,
      "visibility": null,
      "width": null
     }
    },
    "7d7cc38dea8a460994dbfaeab653a8e8": {
     "model_module": "@jupyter-widgets/controls",
     "model_module_version": "1.5.0",
     "model_name": "IntSliderModel",
     "state": {
      "_dom_classes": [],
      "_model_module": "@jupyter-widgets/controls",
      "_model_module_version": "1.5.0",
      "_model_name": "IntSliderModel",
      "_view_count": null,
      "_view_module": "@jupyter-widgets/controls",
      "_view_module_version": "1.5.0",
      "_view_name": "IntSliderView",
      "continuous_update": false,
      "description": "Image Slice:",
      "description_tooltip": null,
      "disabled": false,
      "layout": "IPY_MODEL_d6446da366644bf1b693c7a0f10cab65",
      "max": 31,
      "min": 0,
      "orientation": "horizontal",
      "readout": true,
      "readout_format": "d",
      "step": 1,
      "style": "IPY_MODEL_4d179dd841bd45e1a625f647875ed711",
      "value": 0
     }
    },
    "7ddb1bb54e6c4ecbabbc2a686ae4cc25": {
     "model_module": "@jupyter-widgets/base",
     "model_module_version": "1.2.0",
     "model_name": "LayoutModel",
     "state": {
      "_model_module": "@jupyter-widgets/base",
      "_model_module_version": "1.2.0",
      "_model_name": "LayoutModel",
      "_view_count": null,
      "_view_module": "@jupyter-widgets/base",
      "_view_module_version": "1.2.0",
      "_view_name": "LayoutView",
      "align_content": null,
      "align_items": null,
      "align_self": null,
      "border": null,
      "bottom": null,
      "display": null,
      "flex": null,
      "flex_flow": null,
      "grid_area": null,
      "grid_auto_columns": null,
      "grid_auto_flow": null,
      "grid_auto_rows": null,
      "grid_column": null,
      "grid_gap": null,
      "grid_row": null,
      "grid_template_areas": null,
      "grid_template_columns": null,
      "grid_template_rows": null,
      "height": null,
      "justify_content": null,
      "justify_items": null,
      "left": null,
      "margin": null,
      "max_height": null,
      "max_width": null,
      "min_height": null,
      "min_width": null,
      "object_fit": null,
      "object_position": null,
      "order": null,
      "overflow": null,
      "overflow_x": null,
      "overflow_y": null,
      "padding": null,
      "right": null,
      "top": null,
      "visibility": null,
      "width": null
     }
    },
    "7e10f6aa16b342488e08c32875a6f705": {
     "model_module": "@jupyter-widgets/base",
     "model_module_version": "1.2.0",
     "model_name": "LayoutModel",
     "state": {
      "_model_module": "@jupyter-widgets/base",
      "_model_module_version": "1.2.0",
      "_model_name": "LayoutModel",
      "_view_count": null,
      "_view_module": "@jupyter-widgets/base",
      "_view_module_version": "1.2.0",
      "_view_name": "LayoutView",
      "align_content": null,
      "align_items": null,
      "align_self": null,
      "border": null,
      "bottom": null,
      "display": null,
      "flex": null,
      "flex_flow": null,
      "grid_area": null,
      "grid_auto_columns": null,
      "grid_auto_flow": null,
      "grid_auto_rows": null,
      "grid_column": null,
      "grid_gap": null,
      "grid_row": null,
      "grid_template_areas": null,
      "grid_template_columns": null,
      "grid_template_rows": null,
      "height": null,
      "justify_content": null,
      "justify_items": null,
      "left": null,
      "margin": null,
      "max_height": null,
      "max_width": null,
      "min_height": null,
      "min_width": null,
      "object_fit": null,
      "object_position": null,
      "order": null,
      "overflow": null,
      "overflow_x": null,
      "overflow_y": null,
      "padding": null,
      "right": null,
      "top": null,
      "visibility": null,
      "width": null
     }
    },
    "87c3638c0e074c62ae60f47a856da04b": {
     "model_module": "@jupyter-widgets/base",
     "model_module_version": "1.2.0",
     "model_name": "LayoutModel",
     "state": {
      "_model_module": "@jupyter-widgets/base",
      "_model_module_version": "1.2.0",
      "_model_name": "LayoutModel",
      "_view_count": null,
      "_view_module": "@jupyter-widgets/base",
      "_view_module_version": "1.2.0",
      "_view_name": "LayoutView",
      "align_content": null,
      "align_items": null,
      "align_self": null,
      "border": null,
      "bottom": null,
      "display": null,
      "flex": null,
      "flex_flow": null,
      "grid_area": null,
      "grid_auto_columns": null,
      "grid_auto_flow": null,
      "grid_auto_rows": null,
      "grid_column": null,
      "grid_gap": null,
      "grid_row": null,
      "grid_template_areas": null,
      "grid_template_columns": null,
      "grid_template_rows": null,
      "height": null,
      "justify_content": null,
      "justify_items": null,
      "left": null,
      "margin": null,
      "max_height": null,
      "max_width": null,
      "min_height": null,
      "min_width": null,
      "object_fit": null,
      "object_position": null,
      "order": null,
      "overflow": null,
      "overflow_x": null,
      "overflow_y": null,
      "padding": null,
      "right": null,
      "top": null,
      "visibility": null,
      "width": null
     }
    },
    "8b8d583193254cd08a540a37e68ca26a": {
     "model_module": "@jupyter-widgets/controls",
     "model_module_version": "1.5.0",
     "model_name": "VBoxModel",
     "state": {
      "_dom_classes": [
       "widget-interact"
      ],
      "_model_module": "@jupyter-widgets/controls",
      "_model_module_version": "1.5.0",
      "_model_name": "VBoxModel",
      "_view_count": null,
      "_view_module": "@jupyter-widgets/controls",
      "_view_module_version": "1.5.0",
      "_view_name": "VBoxView",
      "box_style": "",
      "children": [
       "IPY_MODEL_d9e605cde8da4394bcbdae940a080aa7",
       "IPY_MODEL_47ee356de62b44c998d4c12efbb13256"
      ],
      "layout": "IPY_MODEL_3b2e9d744c074a679de2b8f80e44682f"
     }
    },
    "a433ca04c0224936a0b76886954530dd": {
     "model_module": "@jupyter-widgets/controls",
     "model_module_version": "1.5.0",
     "model_name": "SliderStyleModel",
     "state": {
      "_model_module": "@jupyter-widgets/controls",
      "_model_module_version": "1.5.0",
      "_model_name": "SliderStyleModel",
      "_view_count": null,
      "_view_module": "@jupyter-widgets/base",
      "_view_module_version": "1.2.0",
      "_view_name": "StyleView",
      "description_width": "",
      "handle_color": null
     }
    },
    "a52725552e6a4dc4ac770f988e1c4113": {
     "model_module": "@jupyter-widgets/output",
     "model_module_version": "1.0.0",
     "model_name": "OutputModel",
     "state": {
      "_dom_classes": [],
      "_model_module": "@jupyter-widgets/output",
      "_model_module_version": "1.0.0",
      "_model_name": "OutputModel",
      "_view_count": null,
      "_view_module": "@jupyter-widgets/output",
      "_view_module_version": "1.0.0",
      "_view_name": "OutputView",
      "layout": "IPY_MODEL_2d1675108a52408f985f9393435f648b",
      "msg_id": "",
      "outputs": [
       {
        "application/vnd.jupyter.widget-view+json": {
         "model_id": "ab08e4ed679e40f9bfc757bb009fc2ce",
         "version_major": 2,
         "version_minor": 0
        },
        "metadata": {
         "tags": []
        },
        "output_type": "display_data",
        "text/plain": "interactive(children=(IntSlider(value=0, continuous_update=False, description='Image Slice:', max=31), Output(…"
       }
      ]
     }
    },
    "ab08e4ed679e40f9bfc757bb009fc2ce": {
     "model_module": "@jupyter-widgets/controls",
     "model_module_version": "1.5.0",
     "model_name": "VBoxModel",
     "state": {
      "_dom_classes": [
       "widget-interact"
      ],
      "_model_module": "@jupyter-widgets/controls",
      "_model_module_version": "1.5.0",
      "_model_name": "VBoxModel",
      "_view_count": null,
      "_view_module": "@jupyter-widgets/controls",
      "_view_module_version": "1.5.0",
      "_view_name": "VBoxView",
      "box_style": "",
      "children": [
       "IPY_MODEL_7d7cc38dea8a460994dbfaeab653a8e8",
       "IPY_MODEL_d59ae5ab67514e8d9eee213423d025d6"
      ],
      "layout": "IPY_MODEL_e9c9e18322604df0842222c1753a36a4"
     }
    },
    "ba3bd13279214041b94af8cc38f9fbf9": {
     "model_module": "@jupyter-widgets/controls",
     "model_module_version": "1.5.0",
     "model_name": "VBoxModel",
     "state": {
      "_dom_classes": [
       "widget-interact"
      ],
      "_model_module": "@jupyter-widgets/controls",
      "_model_module_version": "1.5.0",
      "_model_name": "VBoxModel",
      "_view_count": null,
      "_view_module": "@jupyter-widgets/controls",
      "_view_module_version": "1.5.0",
      "_view_name": "VBoxView",
      "box_style": "",
      "children": [
       "IPY_MODEL_4048649774574f418eb10022602775e5",
       "IPY_MODEL_a52725552e6a4dc4ac770f988e1c4113"
      ],
      "layout": "IPY_MODEL_7ddb1bb54e6c4ecbabbc2a686ae4cc25"
     }
    },
    "bbc8942e8d564923a887d11a1a165dea": {
     "model_module": "@jupyter-widgets/output",
     "model_module_version": "1.0.0",
     "model_name": "OutputModel",
     "state": {
      "_dom_classes": [],
      "_model_module": "@jupyter-widgets/output",
      "_model_module_version": "1.0.0",
      "_model_name": "OutputModel",
      "_view_count": null,
      "_view_module": "@jupyter-widgets/output",
      "_view_module_version": "1.0.0",
      "_view_name": "OutputView",
      "layout": "IPY_MODEL_d477c1ee2f7144ffa994272ad1659bb3",
      "msg_id": "",
      "outputs": [
       {
        "image/png": "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\n",
        "metadata": {
         "needs_background": "light",
         "tags": []
        },
        "output_type": "display_data",
        "text/plain": "<Figure size 216x216 with 1 Axes>"
       }
      ]
     }
    },
    "bed62ea1145d4aa09fcff0caa745ba88": {
     "model_module": "@jupyter-widgets/base",
     "model_module_version": "1.2.0",
     "model_name": "LayoutModel",
     "state": {
      "_model_module": "@jupyter-widgets/base",
      "_model_module_version": "1.2.0",
      "_model_name": "LayoutModel",
      "_view_count": null,
      "_view_module": "@jupyter-widgets/base",
      "_view_module_version": "1.2.0",
      "_view_name": "LayoutView",
      "align_content": null,
      "align_items": null,
      "align_self": null,
      "border": null,
      "bottom": null,
      "display": null,
      "flex": null,
      "flex_flow": null,
      "grid_area": null,
      "grid_auto_columns": null,
      "grid_auto_flow": null,
      "grid_auto_rows": null,
      "grid_column": null,
      "grid_gap": null,
      "grid_row": null,
      "grid_template_areas": null,
      "grid_template_columns": null,
      "grid_template_rows": null,
      "height": null,
      "justify_content": null,
      "justify_items": null,
      "left": null,
      "margin": null,
      "max_height": null,
      "max_width": null,
      "min_height": null,
      "min_width": null,
      "object_fit": null,
      "object_position": null,
      "order": null,
      "overflow": null,
      "overflow_x": null,
      "overflow_y": null,
      "padding": null,
      "right": null,
      "top": null,
      "visibility": null,
      "width": null
     }
    },
    "c08fe477ea75467182487c7a0dcd2cbc": {
     "model_module": "@jupyter-widgets/base",
     "model_module_version": "1.2.0",
     "model_name": "LayoutModel",
     "state": {
      "_model_module": "@jupyter-widgets/base",
      "_model_module_version": "1.2.0",
      "_model_name": "LayoutModel",
      "_view_count": null,
      "_view_module": "@jupyter-widgets/base",
      "_view_module_version": "1.2.0",
      "_view_name": "LayoutView",
      "align_content": null,
      "align_items": null,
      "align_self": null,
      "border": null,
      "bottom": null,
      "display": null,
      "flex": null,
      "flex_flow": null,
      "grid_area": null,
      "grid_auto_columns": null,
      "grid_auto_flow": null,
      "grid_auto_rows": null,
      "grid_column": null,
      "grid_gap": null,
      "grid_row": null,
      "grid_template_areas": null,
      "grid_template_columns": null,
      "grid_template_rows": null,
      "height": null,
      "justify_content": null,
      "justify_items": null,
      "left": null,
      "margin": null,
      "max_height": null,
      "max_width": null,
      "min_height": null,
      "min_width": null,
      "object_fit": null,
      "object_position": null,
      "order": null,
      "overflow": null,
      "overflow_x": null,
      "overflow_y": null,
      "padding": null,
      "right": null,
      "top": null,
      "visibility": null,
      "width": null
     }
    },
    "c3d41ddae80d4c49b548c8641ab9b981": {
     "model_module": "@jupyter-widgets/base",
     "model_module_version": "1.2.0",
     "model_name": "LayoutModel",
     "state": {
      "_model_module": "@jupyter-widgets/base",
      "_model_module_version": "1.2.0",
      "_model_name": "LayoutModel",
      "_view_count": null,
      "_view_module": "@jupyter-widgets/base",
      "_view_module_version": "1.2.0",
      "_view_name": "LayoutView",
      "align_content": null,
      "align_items": null,
      "align_self": null,
      "border": null,
      "bottom": null,
      "display": null,
      "flex": null,
      "flex_flow": null,
      "grid_area": null,
      "grid_auto_columns": null,
      "grid_auto_flow": null,
      "grid_auto_rows": null,
      "grid_column": null,
      "grid_gap": null,
      "grid_row": null,
      "grid_template_areas": null,
      "grid_template_columns": null,
      "grid_template_rows": null,
      "height": null,
      "justify_content": null,
      "justify_items": null,
      "left": null,
      "margin": null,
      "max_height": null,
      "max_width": null,
      "min_height": null,
      "min_width": null,
      "object_fit": null,
      "object_position": null,
      "order": null,
      "overflow": null,
      "overflow_x": null,
      "overflow_y": null,
      "padding": null,
      "right": null,
      "top": null,
      "visibility": null,
      "width": null
     }
    },
    "c518c6896fbb412eaa9d5285f5d7b3bd": {
     "model_module": "@jupyter-widgets/base",
     "model_module_version": "1.2.0",
     "model_name": "LayoutModel",
     "state": {
      "_model_module": "@jupyter-widgets/base",
      "_model_module_version": "1.2.0",
      "_model_name": "LayoutModel",
      "_view_count": null,
      "_view_module": "@jupyter-widgets/base",
      "_view_module_version": "1.2.0",
      "_view_name": "LayoutView",
      "align_content": null,
      "align_items": null,
      "align_self": null,
      "border": null,
      "bottom": null,
      "display": null,
      "flex": null,
      "flex_flow": null,
      "grid_area": null,
      "grid_auto_columns": null,
      "grid_auto_flow": null,
      "grid_auto_rows": null,
      "grid_column": null,
      "grid_gap": null,
      "grid_row": null,
      "grid_template_areas": null,
      "grid_template_columns": null,
      "grid_template_rows": null,
      "height": null,
      "justify_content": null,
      "justify_items": null,
      "left": null,
      "margin": null,
      "max_height": null,
      "max_width": null,
      "min_height": null,
      "min_width": null,
      "object_fit": null,
      "object_position": null,
      "order": null,
      "overflow": null,
      "overflow_x": null,
      "overflow_y": null,
      "padding": null,
      "right": null,
      "top": null,
      "visibility": null,
      "width": null
     }
    },
    "c5db6aa3c196485487d97ea88038fd29": {
     "model_module": "@jupyter-widgets/base",
     "model_module_version": "1.2.0",
     "model_name": "LayoutModel",
     "state": {
      "_model_module": "@jupyter-widgets/base",
      "_model_module_version": "1.2.0",
      "_model_name": "LayoutModel",
      "_view_count": null,
      "_view_module": "@jupyter-widgets/base",
      "_view_module_version": "1.2.0",
      "_view_name": "LayoutView",
      "align_content": null,
      "align_items": null,
      "align_self": null,
      "border": null,
      "bottom": null,
      "display": null,
      "flex": null,
      "flex_flow": null,
      "grid_area": null,
      "grid_auto_columns": null,
      "grid_auto_flow": null,
      "grid_auto_rows": null,
      "grid_column": null,
      "grid_gap": null,
      "grid_row": null,
      "grid_template_areas": null,
      "grid_template_columns": null,
      "grid_template_rows": null,
      "height": null,
      "justify_content": null,
      "justify_items": null,
      "left": null,
      "margin": null,
      "max_height": null,
      "max_width": null,
      "min_height": null,
      "min_width": null,
      "object_fit": null,
      "object_position": null,
      "order": null,
      "overflow": null,
      "overflow_x": null,
      "overflow_y": null,
      "padding": null,
      "right": null,
      "top": null,
      "visibility": null,
      "width": null
     }
    },
    "c830b75aabe845c4b9177e30e9b9f4f9": {
     "model_module": "@jupyter-widgets/controls",
     "model_module_version": "1.5.0",
     "model_name": "VBoxModel",
     "state": {
      "_dom_classes": [
       "widget-interact"
      ],
      "_model_module": "@jupyter-widgets/controls",
      "_model_module_version": "1.5.0",
      "_model_name": "VBoxModel",
      "_view_count": null,
      "_view_module": "@jupyter-widgets/controls",
      "_view_module_version": "1.5.0",
      "_view_name": "VBoxView",
      "box_style": "",
      "children": [
       "IPY_MODEL_723a1a4c2e6e430a89394f1fb3f3ac9e",
       "IPY_MODEL_3577916113274fbda38dbfac0f351ac2"
      ],
      "layout": "IPY_MODEL_87c3638c0e074c62ae60f47a856da04b"
     }
    },
    "cb2c08f6285e49ab9ef2c9bf0c46532f": {
     "model_module": "@jupyter-widgets/controls",
     "model_module_version": "1.5.0",
     "model_name": "VBoxModel",
     "state": {
      "_dom_classes": [
       "widget-interact"
      ],
      "_model_module": "@jupyter-widgets/controls",
      "_model_module_version": "1.5.0",
      "_model_name": "VBoxModel",
      "_view_count": null,
      "_view_module": "@jupyter-widgets/controls",
      "_view_module_version": "1.5.0",
      "_view_name": "VBoxView",
      "box_style": "",
      "children": [
       "IPY_MODEL_575149a0f9624a1eb2d7c0aa00ffbd37",
       "IPY_MODEL_f066cf565d7a4d408682ee5b0da71f7b"
      ],
      "layout": "IPY_MODEL_66653e9332d7483887ca4aa1282884d9"
     }
    },
    "d2f5763b8a1b425d98c681298ed00745": {
     "model_module": "@jupyter-widgets/controls",
     "model_module_version": "1.5.0",
     "model_name": "RadioButtonsModel",
     "state": {
      "_dom_classes": [],
      "_model_module": "@jupyter-widgets/controls",
      "_model_module_version": "1.5.0",
      "_model_name": "RadioButtonsModel",
      "_options_labels": [
       "x-y",
       "y-z",
       "z-x"
      ],
      "_view_count": null,
      "_view_module": "@jupyter-widgets/controls",
      "_view_module_version": "1.5.0",
      "_view_name": "RadioButtonsView",
      "description": "Slice plane selection:",
      "description_tooltip": null,
      "disabled": false,
      "index": 0,
      "layout": "IPY_MODEL_79b7f93da59444fcb25d48008f0cad46",
      "style": "IPY_MODEL_ffa668872b7f4c95bde6ba63688c5e3a"
     }
    },
    "d477c1ee2f7144ffa994272ad1659bb3": {
     "model_module": "@jupyter-widgets/base",
     "model_module_version": "1.2.0",
     "model_name": "LayoutModel",
     "state": {
      "_model_module": "@jupyter-widgets/base",
      "_model_module_version": "1.2.0",
      "_model_name": "LayoutModel",
      "_view_count": null,
      "_view_module": "@jupyter-widgets/base",
      "_view_module_version": "1.2.0",
      "_view_name": "LayoutView",
      "align_content": null,
      "align_items": null,
      "align_self": null,
      "border": null,
      "bottom": null,
      "display": null,
      "flex": null,
      "flex_flow": null,
      "grid_area": null,
      "grid_auto_columns": null,
      "grid_auto_flow": null,
      "grid_auto_rows": null,
      "grid_column": null,
      "grid_gap": null,
      "grid_row": null,
      "grid_template_areas": null,
      "grid_template_columns": null,
      "grid_template_rows": null,
      "height": null,
      "justify_content": null,
      "justify_items": null,
      "left": null,
      "margin": null,
      "max_height": null,
      "max_width": null,
      "min_height": null,
      "min_width": null,
      "object_fit": null,
      "object_position": null,
      "order": null,
      "overflow": null,
      "overflow_x": null,
      "overflow_y": null,
      "padding": null,
      "right": null,
      "top": null,
      "visibility": null,
      "width": null
     }
    },
    "d59ae5ab67514e8d9eee213423d025d6": {
     "model_module": "@jupyter-widgets/output",
     "model_module_version": "1.0.0",
     "model_name": "OutputModel",
     "state": {
      "_dom_classes": [],
      "_model_module": "@jupyter-widgets/output",
      "_model_module_version": "1.0.0",
      "_model_name": "OutputModel",
      "_view_count": null,
      "_view_module": "@jupyter-widgets/output",
      "_view_module_version": "1.0.0",
      "_view_name": "OutputView",
      "layout": "IPY_MODEL_2835a7a0349c435b87b2d81c39c551a6",
      "msg_id": "",
      "outputs": [
       {
        "image/png": "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\n",
        "metadata": {
         "needs_background": "light",
         "tags": []
        },
        "output_type": "display_data",
        "text/plain": "<Figure size 216x216 with 1 Axes>"
       }
      ]
     }
    },
    "d6446da366644bf1b693c7a0f10cab65": {
     "model_module": "@jupyter-widgets/base",
     "model_module_version": "1.2.0",
     "model_name": "LayoutModel",
     "state": {
      "_model_module": "@jupyter-widgets/base",
      "_model_module_version": "1.2.0",
      "_model_name": "LayoutModel",
      "_view_count": null,
      "_view_module": "@jupyter-widgets/base",
      "_view_module_version": "1.2.0",
      "_view_name": "LayoutView",
      "align_content": null,
      "align_items": null,
      "align_self": null,
      "border": null,
      "bottom": null,
      "display": null,
      "flex": null,
      "flex_flow": null,
      "grid_area": null,
      "grid_auto_columns": null,
      "grid_auto_flow": null,
      "grid_auto_rows": null,
      "grid_column": null,
      "grid_gap": null,
      "grid_row": null,
      "grid_template_areas": null,
      "grid_template_columns": null,
      "grid_template_rows": null,
      "height": null,
      "justify_content": null,
      "justify_items": null,
      "left": null,
      "margin": null,
      "max_height": null,
      "max_width": null,
      "min_height": null,
      "min_width": null,
      "object_fit": null,
      "object_position": null,
      "order": null,
      "overflow": null,
      "overflow_x": null,
      "overflow_y": null,
      "padding": null,
      "right": null,
      "top": null,
      "visibility": null,
      "width": null
     }
    },
    "d9e605cde8da4394bcbdae940a080aa7": {
     "model_module": "@jupyter-widgets/controls",
     "model_module_version": "1.5.0",
     "model_name": "RadioButtonsModel",
     "state": {
      "_dom_classes": [],
      "_model_module": "@jupyter-widgets/controls",
      "_model_module_version": "1.5.0",
      "_model_name": "RadioButtonsModel",
      "_options_labels": [
       "x-y",
       "y-z",
       "z-x"
      ],
      "_view_count": null,
      "_view_module": "@jupyter-widgets/controls",
      "_view_module_version": "1.5.0",
      "_view_name": "RadioButtonsView",
      "description": "Slice plane selection:",
      "description_tooltip": null,
      "disabled": false,
      "index": 0,
      "layout": "IPY_MODEL_fb1df842b4dc4cbba94d33f2221068ac",
      "style": "IPY_MODEL_f5282f3c291a488285aa2efd888a9616"
     }
    },
    "db7c3a29cd324c5dac0e417c87235683": {
     "model_module": "@jupyter-widgets/controls",
     "model_module_version": "1.5.0",
     "model_name": "IntSliderModel",
     "state": {
      "_dom_classes": [],
      "_model_module": "@jupyter-widgets/controls",
      "_model_module_version": "1.5.0",
      "_model_name": "IntSliderModel",
      "_view_count": null,
      "_view_module": "@jupyter-widgets/controls",
      "_view_module_version": "1.5.0",
      "_view_name": "IntSliderView",
      "continuous_update": false,
      "description": "Image Slice:",
      "description_tooltip": null,
      "disabled": false,
      "layout": "IPY_MODEL_479f0c98a57c474e8eb6f097505461cb",
      "max": 31,
      "min": 0,
      "orientation": "horizontal",
      "readout": true,
      "readout_format": "d",
      "step": 1,
      "style": "IPY_MODEL_692240bd16994048a4f78be0a9f530dc",
      "value": 0
     }
    },
    "e34a886908d940e3a760cd8cc6393f41": {
     "model_module": "@jupyter-widgets/controls",
     "model_module_version": "1.5.0",
     "model_name": "SliderStyleModel",
     "state": {
      "_model_module": "@jupyter-widgets/controls",
      "_model_module_version": "1.5.0",
      "_model_name": "SliderStyleModel",
      "_view_count": null,
      "_view_module": "@jupyter-widgets/base",
      "_view_module_version": "1.2.0",
      "_view_name": "StyleView",
      "description_width": "",
      "handle_color": null
     }
    },
    "e5073ebcc2214cdf8e7315b602b452fa": {
     "model_module": "@jupyter-widgets/base",
     "model_module_version": "1.2.0",
     "model_name": "LayoutModel",
     "state": {
      "_model_module": "@jupyter-widgets/base",
      "_model_module_version": "1.2.0",
      "_model_name": "LayoutModel",
      "_view_count": null,
      "_view_module": "@jupyter-widgets/base",
      "_view_module_version": "1.2.0",
      "_view_name": "LayoutView",
      "align_content": null,
      "align_items": null,
      "align_self": null,
      "border": null,
      "bottom": null,
      "display": null,
      "flex": null,
      "flex_flow": null,
      "grid_area": null,
      "grid_auto_columns": null,
      "grid_auto_flow": null,
      "grid_auto_rows": null,
      "grid_column": null,
      "grid_gap": null,
      "grid_row": null,
      "grid_template_areas": null,
      "grid_template_columns": null,
      "grid_template_rows": null,
      "height": null,
      "justify_content": null,
      "justify_items": null,
      "left": null,
      "margin": null,
      "max_height": null,
      "max_width": null,
      "min_height": null,
      "min_width": null,
      "object_fit": null,
      "object_position": null,
      "order": null,
      "overflow": null,
      "overflow_x": null,
      "overflow_y": null,
      "padding": null,
      "right": null,
      "top": null,
      "visibility": null,
      "width": null
     }
    },
    "e54467fc2406492393f5538ac42ff9dd": {
     "model_module": "@jupyter-widgets/base",
     "model_module_version": "1.2.0",
     "model_name": "LayoutModel",
     "state": {
      "_model_module": "@jupyter-widgets/base",
      "_model_module_version": "1.2.0",
      "_model_name": "LayoutModel",
      "_view_count": null,
      "_view_module": "@jupyter-widgets/base",
      "_view_module_version": "1.2.0",
      "_view_name": "LayoutView",
      "align_content": null,
      "align_items": null,
      "align_self": null,
      "border": null,
      "bottom": null,
      "display": null,
      "flex": null,
      "flex_flow": null,
      "grid_area": null,
      "grid_auto_columns": null,
      "grid_auto_flow": null,
      "grid_auto_rows": null,
      "grid_column": null,
      "grid_gap": null,
      "grid_row": null,
      "grid_template_areas": null,
      "grid_template_columns": null,
      "grid_template_rows": null,
      "height": null,
      "justify_content": null,
      "justify_items": null,
      "left": null,
      "margin": null,
      "max_height": null,
      "max_width": null,
      "min_height": null,
      "min_width": null,
      "object_fit": null,
      "object_position": null,
      "order": null,
      "overflow": null,
      "overflow_x": null,
      "overflow_y": null,
      "padding": null,
      "right": null,
      "top": null,
      "visibility": null,
      "width": null
     }
    },
    "e9c9e18322604df0842222c1753a36a4": {
     "model_module": "@jupyter-widgets/base",
     "model_module_version": "1.2.0",
     "model_name": "LayoutModel",
     "state": {
      "_model_module": "@jupyter-widgets/base",
      "_model_module_version": "1.2.0",
      "_model_name": "LayoutModel",
      "_view_count": null,
      "_view_module": "@jupyter-widgets/base",
      "_view_module_version": "1.2.0",
      "_view_name": "LayoutView",
      "align_content": null,
      "align_items": null,
      "align_self": null,
      "border": null,
      "bottom": null,
      "display": null,
      "flex": null,
      "flex_flow": null,
      "grid_area": null,
      "grid_auto_columns": null,
      "grid_auto_flow": null,
      "grid_auto_rows": null,
      "grid_column": null,
      "grid_gap": null,
      "grid_row": null,
      "grid_template_areas": null,
      "grid_template_columns": null,
      "grid_template_rows": null,
      "height": null,
      "justify_content": null,
      "justify_items": null,
      "left": null,
      "margin": null,
      "max_height": null,
      "max_width": null,
      "min_height": null,
      "min_width": null,
      "object_fit": null,
      "object_position": null,
      "order": null,
      "overflow": null,
      "overflow_x": null,
      "overflow_y": null,
      "padding": null,
      "right": null,
      "top": null,
      "visibility": null,
      "width": null
     }
    },
    "f066cf565d7a4d408682ee5b0da71f7b": {
     "model_module": "@jupyter-widgets/output",
     "model_module_version": "1.0.0",
     "model_name": "OutputModel",
     "state": {
      "_dom_classes": [],
      "_model_module": "@jupyter-widgets/output",
      "_model_module_version": "1.0.0",
      "_model_name": "OutputModel",
      "_view_count": null,
      "_view_module": "@jupyter-widgets/output",
      "_view_module_version": "1.0.0",
      "_view_name": "OutputView",
      "layout": "IPY_MODEL_7e10f6aa16b342488e08c32875a6f705",
      "msg_id": "",
      "outputs": [
       {
        "image/png": "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\n",
        "metadata": {
         "needs_background": "light",
         "tags": []
        },
        "output_type": "display_data",
        "text/plain": "<Figure size 216x216 with 1 Axes>"
       }
      ]
     }
    },
    "f5282f3c291a488285aa2efd888a9616": {
     "model_module": "@jupyter-widgets/controls",
     "model_module_version": "1.5.0",
     "model_name": "DescriptionStyleModel",
     "state": {
      "_model_module": "@jupyter-widgets/controls",
      "_model_module_version": "1.5.0",
      "_model_name": "DescriptionStyleModel",
      "_view_count": null,
      "_view_module": "@jupyter-widgets/base",
      "_view_module_version": "1.2.0",
      "_view_name": "StyleView",
      "description_width": "initial"
     }
    },
    "f6e7c8cd250742c5baa4f052ab96aa5f": {
     "model_module": "@jupyter-widgets/controls",
     "model_module_version": "1.5.0",
     "model_name": "VBoxModel",
     "state": {
      "_dom_classes": [
       "widget-interact"
      ],
      "_model_module": "@jupyter-widgets/controls",
      "_model_module_version": "1.5.0",
      "_model_name": "VBoxModel",
      "_view_count": null,
      "_view_module": "@jupyter-widgets/controls",
      "_view_module_version": "1.5.0",
      "_view_name": "VBoxView",
      "box_style": "",
      "children": [
       "IPY_MODEL_16e1b9a93b4c4d55bdc61de392f49b39",
       "IPY_MODEL_67a282b6da104481bf99054330b267dc"
      ],
      "layout": "IPY_MODEL_c5db6aa3c196485487d97ea88038fd29"
     }
    },
    "f9c01e3564aa496eb1fd25878fc9aea1": {
     "model_module": "@jupyter-widgets/controls",
     "model_module_version": "1.5.0",
     "model_name": "DescriptionStyleModel",
     "state": {
      "_model_module": "@jupyter-widgets/controls",
      "_model_module_version": "1.5.0",
      "_model_name": "DescriptionStyleModel",
      "_view_count": null,
      "_view_module": "@jupyter-widgets/base",
      "_view_module_version": "1.2.0",
      "_view_name": "StyleView",
      "description_width": "initial"
     }
    },
    "fb1df842b4dc4cbba94d33f2221068ac": {
     "model_module": "@jupyter-widgets/base",
     "model_module_version": "1.2.0",
     "model_name": "LayoutModel",
     "state": {
      "_model_module": "@jupyter-widgets/base",
      "_model_module_version": "1.2.0",
      "_model_name": "LayoutModel",
      "_view_count": null,
      "_view_module": "@jupyter-widgets/base",
      "_view_module_version": "1.2.0",
      "_view_name": "LayoutView",
      "align_content": null,
      "align_items": null,
      "align_self": null,
      "border": null,
      "bottom": null,
      "display": null,
      "flex": null,
      "flex_flow": null,
      "grid_area": null,
      "grid_auto_columns": null,
      "grid_auto_flow": null,
      "grid_auto_rows": null,
      "grid_column": null,
      "grid_gap": null,
      "grid_row": null,
      "grid_template_areas": null,
      "grid_template_columns": null,
      "grid_template_rows": null,
      "height": null,
      "justify_content": null,
      "justify_items": null,
      "left": null,
      "margin": null,
      "max_height": null,
      "max_width": null,
      "min_height": null,
      "min_width": null,
      "object_fit": null,
      "object_position": null,
      "order": null,
      "overflow": null,
      "overflow_x": null,
      "overflow_y": null,
      "padding": null,
      "right": null,
      "top": null,
      "visibility": null,
      "width": null
     }
    },
    "fd5be38613994deba304041f77efea39": {
     "model_module": "@jupyter-widgets/base",
     "model_module_version": "1.2.0",
     "model_name": "LayoutModel",
     "state": {
      "_model_module": "@jupyter-widgets/base",
      "_model_module_version": "1.2.0",
      "_model_name": "LayoutModel",
      "_view_count": null,
      "_view_module": "@jupyter-widgets/base",
      "_view_module_version": "1.2.0",
      "_view_name": "LayoutView",
      "align_content": null,
      "align_items": null,
      "align_self": null,
      "border": null,
      "bottom": null,
      "display": null,
      "flex": null,
      "flex_flow": null,
      "grid_area": null,
      "grid_auto_columns": null,
      "grid_auto_flow": null,
      "grid_auto_rows": null,
      "grid_column": null,
      "grid_gap": null,
      "grid_row": null,
      "grid_template_areas": null,
      "grid_template_columns": null,
      "grid_template_rows": null,
      "height": null,
      "justify_content": null,
      "justify_items": null,
      "left": null,
      "margin": null,
      "max_height": null,
      "max_width": null,
      "min_height": null,
      "min_width": null,
      "object_fit": null,
      "object_position": null,
      "order": null,
      "overflow": null,
      "overflow_x": null,
      "overflow_y": null,
      "padding": null,
      "right": null,
      "top": null,
      "visibility": null,
      "width": null
     }
    },
    "ffa668872b7f4c95bde6ba63688c5e3a": {
     "model_module": "@jupyter-widgets/controls",
     "model_module_version": "1.5.0",
     "model_name": "DescriptionStyleModel",
     "state": {
      "_model_module": "@jupyter-widgets/controls",
      "_model_module_version": "1.5.0",
      "_model_name": "DescriptionStyleModel",
      "_view_count": null,
      "_view_module": "@jupyter-widgets/base",
      "_view_module_version": "1.2.0",
      "_view_name": "StyleView",
      "description_width": "initial"
     }
    }
   }
  }
 },
 "nbformat": 4,
 "nbformat_minor": 0
}
